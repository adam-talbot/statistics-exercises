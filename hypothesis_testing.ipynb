{
 "cells": [
  {
   "cell_type": "markdown",
   "id": "1e11ce1b-0d3e-4008-a46e-87fb8fced88d",
   "metadata": {},
   "source": [
    "# Overview Exercises"
   ]
  },
  {
   "cell_type": "markdown",
   "id": "90ceab63-eabe-4b1c-b6d0-dfaab390d4bc",
   "metadata": {},
   "source": [
    "For each of the following questions, formulate a null and alternative hypothesis (be as specific as you can be), then give an example of what a true positive, true negative, type I and type II errors would look like. Note that some of the questions are intentionally phrased in a vague way. It is your job to reword these as more precise questions that could be tested.\n",
    "\n",
    "- Has the network latency gone up since we switched internet service providers?\n",
    "- Is the website redesign any good?\n",
    "- Is our television ad driving more sales?"
   ]
  },
  {
   "cell_type": "markdown",
   "id": "6aa24c71-8428-46b8-93f9-ed74b6096761",
   "metadata": {},
   "source": [
    "***Has the network latency gone up since we switched internet service providers?***\n",
    "\n",
    "Revised question:\n",
    "\n",
    "- Has network latency changed since switching internet service providers?\n",
    "\n",
    "H0:\n",
    "\n",
    "- Network latency has not changed since switching internet service providers\n",
    "\n",
    "Ha:\n",
    "\n",
    "- Network latency has changed since switching internet service providers\n",
    "\n",
    "True positive: Said there was a difference and there was\n",
    "\n",
    "- Our test confirmed that the change after switching was indeed not due to chance (was statistically significant)\n",
    "\n",
    "True negative: Failed to reject the null hypothesis when it was indeed false\n",
    "\n",
    "- Our test confirmed that the change was indeed due to chance when it was and was indeed statistically insignificant\n",
    "\n",
    "Type I Error (False Positive Rate): Said there was a difference where there wasn't\n",
    "\n",
    "- Our test disproved the null hypothesis of no change but the change was actually due to chance and the null should not have been rejected\n",
    "\n",
    "Type II Error (False Negative): Failing to reject null hypothesis when it is false\n",
    "\n",
    "- Our test failed to reject the null hypothesis of no change when we should have rejected it\n"
   ]
  },
  {
   "cell_type": "markdown",
   "id": "5e09379f-98db-41db-b334-d749b95c66da",
   "metadata": {},
   "source": [
    "***Is the website redesign any good?***\n",
    "\n",
    "Revised question:\n",
    "\n",
    "- Have click through rates changed since redesigning the website?\n",
    "\n",
    "H0:\n",
    "\n",
    "- Click through rates have not changed since redesigning the website\n",
    "\n",
    "Ha:\n",
    "\n",
    "- Click through rates have changed since redesigning the website\n",
    "\n",
    "True positive: Said there was a difference and there was\n",
    "\n",
    "- Our test confirmed that the change after redesign was indeed not due to chance\n",
    "\n",
    "True negative: Rejected the null hypothesis when it was indeed false\n",
    "\n",
    "- Our test confirmed that the change was indeed due to chance \n",
    "\n",
    "Type I Error (False Positive Rate): Said there was a difference where there wasn't\n",
    "\n",
    "- Our test disproved the null hypothesis of no change but the change was actually due to chance and the null should not have been rejected\n",
    "\n",
    "Type II Error (False Negative): Failing to reject null hypothesis when it is false\n",
    "\n",
    "- Our test failed to reject the null hypothesis of no change when we should have rejected it\n"
   ]
  },
  {
   "cell_type": "markdown",
   "id": "c795cd53-5e3c-4910-b253-6d46529e9e09",
   "metadata": {},
   "source": [
    "***Is our television ad driving more sales?***\n",
    "\n",
    "Revised question:\n",
    "\n",
    "- Has sales revenue changed since we deployed our TV ad?\n",
    "\n",
    "H0:\n",
    "\n",
    "- Sales revenue has not changed since deploying TV ad\n",
    "\n",
    "Ha:\n",
    "\n",
    "- Sales revenue has changed since deploying TV ad\n",
    "\n",
    "True positive: Said there was a difference and there was\n",
    "\n",
    "- Our test confirmed that the change after switching was indeed not due to chance\n",
    "\n",
    "True negative: Rejected the null hypothesis when it was indeed false\n",
    "\n",
    "- Our test confirmed that the change was indeed due to chance \n",
    "\n",
    "Type I Error (False Positive Rate): Said there was a difference where there wasn't\n",
    "\n",
    "- Our test disproved the null hypothesis of no change but the change was actually due to chance and the null should not have been rejected\n",
    "\n",
    "Type II Error (False Negative): Failing to reject null hypothesis when it is false\n",
    "\n",
    "- Our test failed to reject the null hypothesis of no change when we should have rejected it since there was a statistically significant difference"
   ]
  },
  {
   "cell_type": "markdown",
   "id": "e64dc589-b513-4691-9be1-afe70edde648",
   "metadata": {},
   "source": [
    "# T-Test Exercises "
   ]
  },
  {
   "cell_type": "code",
   "execution_count": 1,
   "id": "ca5013ce-31ba-4b31-a493-5201a5f9d263",
   "metadata": {},
   "outputs": [],
   "source": [
    "# imports\n",
    "\n",
    "from math import sqrt\n",
    "from scipy import stats\n",
    "\n",
    "import matplotlib.pyplot as plt\n",
    "import numpy as np\n",
    "import pandas as pd\n",
    "import viz # curriculum visualization examples\n",
    "\n",
    "import seaborn as sns\n",
    "from pydataset import data"
   ]
  },
  {
   "cell_type": "markdown",
   "id": "59ee5ab8-201b-4296-885e-713a69727f53",
   "metadata": {},
   "source": [
    "***For all tests below, an alpha of 0.05 will be used to measure statistical significance.***"
   ]
  },
  {
   "cell_type": "markdown",
   "id": "58acc0d2-a7aa-44d3-967b-3221e4d2b34f",
   "metadata": {},
   "source": [
    "### 1."
   ]
  },
  {
   "cell_type": "markdown",
   "id": "967dfd5c-04e4-4e5c-b9f5-56be4676af50",
   "metadata": {},
   "source": [
    "**Ace Realty wants to determine whether the average time it takes to sell homes is different for its two offices. A sample of 40 sales from office #1 revealed a mean of 90 days and a standard deviation of 15 days. A sample of 50 sales from office #2 revealed a mean of 100 days and a standard deviation of 20 days. Use a .05 level of significance.**"
   ]
  },
  {
   "attachments": {
    "d59b6b0b-8fb3-41d8-8a81-a342f667ac20.png": {
     "image/png": "[encoded data removed]"
    }
   },
   "cell_type": "markdown",
   "id": "3858a83b-c1ab-4a4b-8f6c-319e3135afbb",
   "metadata": {},
   "source": [
    "Formula to manually calculate t-statistic for this case:\n",
    "\n",
    "![image.png](attachment:d59b6b0b-8fb3-41d8-8a81-a342f667ac20.png)"
   ]
  },
  {
   "attachments": {
    "badb7656-5c9c-4af5-8195-c3244fa9ed29.png": {
     "image/png": "[encoded data removed]"
    }
   },
   "cell_type": "markdown",
   "id": "5042fe84-d116-4daa-bb3a-037973d42569",
   "metadata": {},
   "source": [
    "Formula to calculate pooled standard deviation to use in formula above:\n",
    "\n",
    "![image.png](attachment:badb7656-5c9c-4af5-8195-c3244fa9ed29.png)"
   ]
  },
  {
   "cell_type": "markdown",
   "id": "043766b5-1380-4315-af6f-a5821800f6d0",
   "metadata": {},
   "source": [
    "Will need to use 2 sample t test.\n",
    "\n",
    "**H0: There is no difference in average time it takes to sell homes in two different offices**\n",
    "\n",
    "**Ha: There is a difference in average time it takes to sell homes in two different offices**"
   ]
  },
  {
   "cell_type": "code",
   "execution_count": 2,
   "id": "55ee1fd0-64cd-4081-bcfa-ba49db9d770c",
   "metadata": {},
   "outputs": [],
   "source": [
    "#create and assign variables for all needed parts of above formula\n",
    "xbar1 = 90\n",
    "s1 = 15\n",
    "n1 = 40\n",
    "\n",
    "xbar2 = 100\n",
    "s2 = 20\n",
    "n2 = 50\n",
    "\n",
    "degf = n1 + n2 - 2"
   ]
  },
  {
   "cell_type": "code",
   "execution_count": 3,
   "id": "4c0b83aa-3c60-4ab1-b83a-c244ef2a37e5",
   "metadata": {},
   "outputs": [
    {
     "data": {
      "text/plain": [
       "17.956702977389302"
      ]
     },
     "execution_count": 3,
     "metadata": {},
     "output_type": "execute_result"
    }
   ],
   "source": [
    "# calculate pooled standard deviation\n",
    "\n",
    "s_p = sqrt(((n1 - 1) * s1**2 + (n2 - 1) * s2**2) / (n1 + n2 - 2))\n",
    "s_p"
   ]
  },
  {
   "cell_type": "code",
   "execution_count": 4,
   "id": "3afd22d8-ab01-4384-b7ef-2d096efd9366",
   "metadata": {},
   "outputs": [
    {
     "data": {
      "text/plain": [
       "-2.6252287036468456"
      ]
     },
     "execution_count": 4,
     "metadata": {},
     "output_type": "execute_result"
    }
   ],
   "source": [
    "# calculate test statistic\n",
    "\n",
    "t = (xbar1 - xbar2) / (s_p * sqrt(1/n1 + 1/n2))\n",
    "t"
   ]
  },
  {
   "cell_type": "code",
   "execution_count": 5,
   "id": "2b5cc5f9-6358-4111-85e3-5e3de61b24b1",
   "metadata": {},
   "outputs": [
    {
     "data": {
      "text/plain": [
       "0.01020985244923939"
      ]
     },
     "execution_count": 5,
     "metadata": {},
     "output_type": "execute_result"
    }
   ],
   "source": [
    "# calculate p value\n",
    "\n",
    "p = stats.t(degf).cdf(t) * 2\n",
    "p"
   ]
  },
  {
   "cell_type": "markdown",
   "id": "417116da-e0a7-4934-9143-7f6aabe7b1ac",
   "metadata": {},
   "source": [
    "***Because p < 0.05, we can reject the null hypothesis and can say that the difference in average time that it takes to sell homes in the two different offices is statistically significant***"
   ]
  },
  {
   "cell_type": "code",
   "execution_count": 6,
   "id": "903807bf-815f-4784-9654-5988d0c545c3",
   "metadata": {},
   "outputs": [
    {
     "data": {
      "text/plain": [
       "(-2.7091418459143854, 0.00811206270346016)"
      ]
     },
     "execution_count": 6,
     "metadata": {},
     "output_type": "execute_result"
    }
   ],
   "source": [
    "# another method\n",
    "\n",
    "t, p = (stats.ttest_ind_from_stats(xbar1, s1, n1, xbar2, s2, n2, equal_var = False))\n",
    "t, p\n",
    "# Conclusion doesn't change"
   ]
  },
  {
   "cell_type": "markdown",
   "id": "607b3035-e391-4e5b-b1b8-69cb64bef736",
   "metadata": {},
   "source": [
    "### 2."
   ]
  },
  {
   "cell_type": "markdown",
   "id": "b6d3389b-9f79-43ee-853a-31f63fe20ab0",
   "metadata": {},
   "source": [
    "Load the mpg dataset and use it to answer the following questions:\n",
    "\n",
    "- Is there a difference in fuel-efficiency in cars from 2008 vs 1999?\n",
    "- Are compact cars more fuel-efficient than the average car?\n",
    "- Do manual cars get better gas mileage than automatic cars?"
   ]
  },
  {
   "cell_type": "code",
   "execution_count": 7,
   "id": "9814a6ed-49c3-4261-a006-a4b898e9b0dd",
   "metadata": {},
   "outputs": [
    {
     "data": {
      "text/html": [
       "<div>\n",
       "<style scoped>\n",
       "    .dataframe tbody tr th:only-of-type {\n",
       "        vertical-align: middle;\n",
       "    }\n",
       "\n",
       "    .dataframe tbody tr th {\n",
       "        vertical-align: top;\n",
       "    }\n",
       "\n",
       "    .dataframe thead th {\n",
       "        text-align: right;\n",
       "    }\n",
       "</style>\n",
       "<table border=\"1\" class=\"dataframe\">\n",
       "  <thead>\n",
       "    <tr style=\"text-align: right;\">\n",
       "      <th></th>\n",
       "      <th>manufacturer</th>\n",
       "      <th>model</th>\n",
       "      <th>displ</th>\n",
       "      <th>year</th>\n",
       "      <th>cyl</th>\n",
       "      <th>trans</th>\n",
       "      <th>drv</th>\n",
       "      <th>cty</th>\n",
       "      <th>hwy</th>\n",
       "      <th>fl</th>\n",
       "      <th>class</th>\n",
       "    </tr>\n",
       "  </thead>\n",
       "  <tbody>\n",
       "    <tr>\n",
       "      <th>1</th>\n",
       "      <td>audi</td>\n",
       "      <td>a4</td>\n",
       "      <td>1.8</td>\n",
       "      <td>1999</td>\n",
       "      <td>4</td>\n",
       "      <td>auto(l5)</td>\n",
       "      <td>f</td>\n",
       "      <td>18</td>\n",
       "      <td>29</td>\n",
       "      <td>p</td>\n",
       "      <td>compact</td>\n",
       "    </tr>\n",
       "    <tr>\n",
       "      <th>2</th>\n",
       "      <td>audi</td>\n",
       "      <td>a4</td>\n",
       "      <td>1.8</td>\n",
       "      <td>1999</td>\n",
       "      <td>4</td>\n",
       "      <td>manual(m5)</td>\n",
       "      <td>f</td>\n",
       "      <td>21</td>\n",
       "      <td>29</td>\n",
       "      <td>p</td>\n",
       "      <td>compact</td>\n",
       "    </tr>\n",
       "    <tr>\n",
       "      <th>3</th>\n",
       "      <td>audi</td>\n",
       "      <td>a4</td>\n",
       "      <td>2.0</td>\n",
       "      <td>2008</td>\n",
       "      <td>4</td>\n",
       "      <td>manual(m6)</td>\n",
       "      <td>f</td>\n",
       "      <td>20</td>\n",
       "      <td>31</td>\n",
       "      <td>p</td>\n",
       "      <td>compact</td>\n",
       "    </tr>\n",
       "    <tr>\n",
       "      <th>4</th>\n",
       "      <td>audi</td>\n",
       "      <td>a4</td>\n",
       "      <td>2.0</td>\n",
       "      <td>2008</td>\n",
       "      <td>4</td>\n",
       "      <td>auto(av)</td>\n",
       "      <td>f</td>\n",
       "      <td>21</td>\n",
       "      <td>30</td>\n",
       "      <td>p</td>\n",
       "      <td>compact</td>\n",
       "    </tr>\n",
       "    <tr>\n",
       "      <th>5</th>\n",
       "      <td>audi</td>\n",
       "      <td>a4</td>\n",
       "      <td>2.8</td>\n",
       "      <td>1999</td>\n",
       "      <td>6</td>\n",
       "      <td>auto(l5)</td>\n",
       "      <td>f</td>\n",
       "      <td>16</td>\n",
       "      <td>26</td>\n",
       "      <td>p</td>\n",
       "      <td>compact</td>\n",
       "    </tr>\n",
       "  </tbody>\n",
       "</table>\n",
       "</div>"
      ],
      "text/plain": [
       "  manufacturer model  displ  year  cyl       trans drv  cty  hwy fl    class\n",
       "1         audi    a4    1.8  1999    4    auto(l5)   f   18   29  p  compact\n",
       "2         audi    a4    1.8  1999    4  manual(m5)   f   21   29  p  compact\n",
       "3         audi    a4    2.0  2008    4  manual(m6)   f   20   31  p  compact\n",
       "4         audi    a4    2.0  2008    4    auto(av)   f   21   30  p  compact\n",
       "5         audi    a4    2.8  1999    6    auto(l5)   f   16   26  p  compact"
      ]
     },
     "execution_count": 7,
     "metadata": {},
     "output_type": "execute_result"
    }
   ],
   "source": [
    "# load the mpg dataset\n",
    "mpg = data('mpg')\n",
    "mpg.head()"
   ]
  },
  {
   "cell_type": "markdown",
   "id": "0202e999-a272-4f0e-a394-830fe2a9430b",
   "metadata": {},
   "source": [
    "#### Is there a difference in fuel-efficiency in cars from 2008 vs 1999?"
   ]
  },
  {
   "cell_type": "code",
   "execution_count": 8,
   "id": "7b4011cd-7a7e-4b7d-b69e-0925246e53d3",
   "metadata": {},
   "outputs": [
    {
     "data": {
      "text/plain": [
       "year\n",
       "1999    117\n",
       "2008    117\n",
       "Name: cyl, dtype: int64"
      ]
     },
     "execution_count": 8,
     "metadata": {},
     "output_type": "execute_result"
    }
   ],
   "source": [
    "mpg.groupby('year').cyl.count()"
   ]
  },
  {
   "cell_type": "markdown",
   "id": "825fa74f-6d90-4f74-8fe4-43f86d159dfe",
   "metadata": {},
   "source": [
    "##### **Hypotheses:**\n",
    "\n",
    "**H0: there is no difference in average fuel efficiency in cars made in 2008 vs those made in 1999**\n",
    "\n",
    "**Ha: there is a difference in average fuel efficiency in cars made in 2008 vs those made in 1999**\n",
    "\n",
    "Two sample t-test is needed. Two tailed.\n"
   ]
  },
  {
   "cell_type": "code",
   "execution_count": 9,
   "id": "04f0ad7d-5303-46a9-8ae7-8ff9ce0dc640",
   "metadata": {},
   "outputs": [
    {
     "data": {
      "text/html": [
       "<div>\n",
       "<style scoped>\n",
       "    .dataframe tbody tr th:only-of-type {\n",
       "        vertical-align: middle;\n",
       "    }\n",
       "\n",
       "    .dataframe tbody tr th {\n",
       "        vertical-align: top;\n",
       "    }\n",
       "\n",
       "    .dataframe thead th {\n",
       "        text-align: right;\n",
       "    }\n",
       "</style>\n",
       "<table border=\"1\" class=\"dataframe\">\n",
       "  <thead>\n",
       "    <tr style=\"text-align: right;\">\n",
       "      <th></th>\n",
       "      <th>manufacturer</th>\n",
       "      <th>model</th>\n",
       "      <th>displ</th>\n",
       "      <th>year</th>\n",
       "      <th>cyl</th>\n",
       "      <th>trans</th>\n",
       "      <th>drv</th>\n",
       "      <th>cty</th>\n",
       "      <th>hwy</th>\n",
       "      <th>fl</th>\n",
       "      <th>class</th>\n",
       "      <th>avg_mpg</th>\n",
       "    </tr>\n",
       "  </thead>\n",
       "  <tbody>\n",
       "    <tr>\n",
       "      <th>1</th>\n",
       "      <td>audi</td>\n",
       "      <td>a4</td>\n",
       "      <td>1.8</td>\n",
       "      <td>1999</td>\n",
       "      <td>4</td>\n",
       "      <td>auto(l5)</td>\n",
       "      <td>f</td>\n",
       "      <td>18</td>\n",
       "      <td>29</td>\n",
       "      <td>p</td>\n",
       "      <td>compact</td>\n",
       "      <td>23.5</td>\n",
       "    </tr>\n",
       "    <tr>\n",
       "      <th>2</th>\n",
       "      <td>audi</td>\n",
       "      <td>a4</td>\n",
       "      <td>1.8</td>\n",
       "      <td>1999</td>\n",
       "      <td>4</td>\n",
       "      <td>manual(m5)</td>\n",
       "      <td>f</td>\n",
       "      <td>21</td>\n",
       "      <td>29</td>\n",
       "      <td>p</td>\n",
       "      <td>compact</td>\n",
       "      <td>25.0</td>\n",
       "    </tr>\n",
       "    <tr>\n",
       "      <th>3</th>\n",
       "      <td>audi</td>\n",
       "      <td>a4</td>\n",
       "      <td>2.0</td>\n",
       "      <td>2008</td>\n",
       "      <td>4</td>\n",
       "      <td>manual(m6)</td>\n",
       "      <td>f</td>\n",
       "      <td>20</td>\n",
       "      <td>31</td>\n",
       "      <td>p</td>\n",
       "      <td>compact</td>\n",
       "      <td>25.5</td>\n",
       "    </tr>\n",
       "    <tr>\n",
       "      <th>4</th>\n",
       "      <td>audi</td>\n",
       "      <td>a4</td>\n",
       "      <td>2.0</td>\n",
       "      <td>2008</td>\n",
       "      <td>4</td>\n",
       "      <td>auto(av)</td>\n",
       "      <td>f</td>\n",
       "      <td>21</td>\n",
       "      <td>30</td>\n",
       "      <td>p</td>\n",
       "      <td>compact</td>\n",
       "      <td>25.5</td>\n",
       "    </tr>\n",
       "    <tr>\n",
       "      <th>5</th>\n",
       "      <td>audi</td>\n",
       "      <td>a4</td>\n",
       "      <td>2.8</td>\n",
       "      <td>1999</td>\n",
       "      <td>6</td>\n",
       "      <td>auto(l5)</td>\n",
       "      <td>f</td>\n",
       "      <td>16</td>\n",
       "      <td>26</td>\n",
       "      <td>p</td>\n",
       "      <td>compact</td>\n",
       "      <td>21.0</td>\n",
       "    </tr>\n",
       "  </tbody>\n",
       "</table>\n",
       "</div>"
      ],
      "text/plain": [
       "  manufacturer model  displ  year  cyl       trans drv  cty  hwy fl    class  \\\n",
       "1         audi    a4    1.8  1999    4    auto(l5)   f   18   29  p  compact   \n",
       "2         audi    a4    1.8  1999    4  manual(m5)   f   21   29  p  compact   \n",
       "3         audi    a4    2.0  2008    4  manual(m6)   f   20   31  p  compact   \n",
       "4         audi    a4    2.0  2008    4    auto(av)   f   21   30  p  compact   \n",
       "5         audi    a4    2.8  1999    6    auto(l5)   f   16   26  p  compact   \n",
       "\n",
       "   avg_mpg  \n",
       "1     23.5  \n",
       "2     25.0  \n",
       "3     25.5  \n",
       "4     25.5  \n",
       "5     21.0  "
      ]
     },
     "execution_count": 9,
     "metadata": {},
     "output_type": "execute_result"
    }
   ],
   "source": [
    "# add a column for average fuel efficiency that is the average of city and hwy mpg\n",
    "mpg['avg_mpg'] = (mpg.cty + mpg.hwy) / 2\n",
    "mpg.head()"
   ]
  },
  {
   "cell_type": "code",
   "execution_count": 10,
   "id": "af4f558e-9a5f-492a-8543-a1f891aea6d8",
   "metadata": {},
   "outputs": [
    {
     "data": {
      "text/plain": [
       "3     25.5\n",
       "4     25.5\n",
       "7     22.5\n",
       "10    24.0\n",
       "11    23.0\n",
       "Name: avg_mpg, dtype: float64"
      ]
     },
     "execution_count": 10,
     "metadata": {},
     "output_type": "execute_result"
    }
   ],
   "source": [
    "# create pandas series for each group using boolean masks\n",
    "Oeight = mpg[mpg.year == 2008].avg_mpg\n",
    "Oeight.head()"
   ]
  },
  {
   "cell_type": "code",
   "execution_count": 11,
   "id": "079cf8f7-96f5-459d-98a1-3cb6ca22f6a9",
   "metadata": {},
   "outputs": [
    {
     "data": {
      "text/plain": [
       "1    23.5\n",
       "2    25.0\n",
       "5    21.0\n",
       "6    22.0\n",
       "8    22.0\n",
       "Name: avg_mpg, dtype: float64"
      ]
     },
     "execution_count": 11,
     "metadata": {},
     "output_type": "execute_result"
    }
   ],
   "source": [
    "ninety_nine = mpg[mpg.year == 1999].avg_mpg\n",
    "ninety_nine.head()"
   ]
  },
  {
   "cell_type": "markdown",
   "id": "b1b02dd4-2cc9-41a3-8697-6adf6400ac68",
   "metadata": {},
   "source": [
    "##### **Test assumptions:**"
   ]
  },
  {
   "cell_type": "code",
   "execution_count": 12,
   "id": "a8370420-2cdf-423c-95fe-f2217926b798",
   "metadata": {},
   "outputs": [
    {
     "data": {
      "text/plain": [
       "<AxesSubplot:>"
      ]
     },
     "execution_count": 12,
     "metadata": {},
     "output_type": "execute_result"
    },
    {
     "data": {
      "image/png": "[encoded data removed]",
      "text/plain": [
       "<Figure size 648x432 with 1 Axes>"
      ]
     },
     "metadata": {
      "needs_background": "light"
     },
     "output_type": "display_data"
    }
   ],
   "source": [
    "# plot distributions to see if normal\n",
    "\n",
    "Oeight.hist()"
   ]
  },
  {
   "cell_type": "code",
   "execution_count": 13,
   "id": "24793b78-c227-48aa-9b47-91b1e1c3fe05",
   "metadata": {},
   "outputs": [
    {
     "data": {
      "text/plain": [
       "117"
      ]
     },
     "execution_count": 13,
     "metadata": {},
     "output_type": "execute_result"
    }
   ],
   "source": [
    "Oeight.size"
   ]
  },
  {
   "cell_type": "code",
   "execution_count": 14,
   "id": "61f8c723-a637-40c6-a379-c7331eb128e5",
   "metadata": {},
   "outputs": [
    {
     "data": {
      "text/plain": [
       "<AxesSubplot:>"
      ]
     },
     "execution_count": 14,
     "metadata": {},
     "output_type": "execute_result"
    },
    {
     "data": {
      "image/png": "[encoded data removed]",
      "text/plain": [
       "<Figure size 648x432 with 1 Axes>"
      ]
     },
     "metadata": {
      "needs_background": "light"
     },
     "output_type": "display_data"
    }
   ],
   "source": [
    "ninety_nine.hist()"
   ]
  },
  {
   "cell_type": "code",
   "execution_count": 15,
   "id": "04a05d1a-ee33-456a-a7cb-264bacc37ae9",
   "metadata": {},
   "outputs": [],
   "source": [
    "# normal enough due to large number of observations"
   ]
  },
  {
   "cell_type": "code",
   "execution_count": 16,
   "id": "a524c1c5-cc0e-4fcb-b311-1dfe65a89a30",
   "metadata": {},
   "outputs": [
    {
     "data": {
      "text/plain": [
       "24.097480106100797"
      ]
     },
     "execution_count": 16,
     "metadata": {},
     "output_type": "execute_result"
    }
   ],
   "source": [
    "# check variances\n",
    "Oeight.var()"
   ]
  },
  {
   "cell_type": "code",
   "execution_count": 17,
   "id": "ecf54f68-3985-4da0-92f9-b054d4a9cbea",
   "metadata": {},
   "outputs": [
    {
     "data": {
      "text/plain": [
       "27.122605363984682"
      ]
     },
     "execution_count": 17,
     "metadata": {},
     "output_type": "execute_result"
    }
   ],
   "source": [
    "ninety_nine.var()"
   ]
  },
  {
   "cell_type": "code",
   "execution_count": 18,
   "id": "b9876910-3472-46fa-ad09-8dd7ed68b7d8",
   "metadata": {},
   "outputs": [],
   "source": [
    "# close enough"
   ]
  },
  {
   "cell_type": "markdown",
   "id": "e6aeb99e-d62b-4f5f-868c-9a43f3e2c496",
   "metadata": {},
   "source": [
    "##### Compute Test Statistic and p value:"
   ]
  },
  {
   "cell_type": "code",
   "execution_count": 19,
   "id": "3458fe3a-0148-4b8c-8c1d-0a64781f8f93",
   "metadata": {},
   "outputs": [
    {
     "data": {
      "text/plain": [
       "(-0.21960177245940962, 0.8263744040323578)"
      ]
     },
     "execution_count": 19,
     "metadata": {},
     "output_type": "execute_result"
    }
   ],
   "source": [
    "# compute test statistic\n",
    "\n",
    "t, p = stats.ttest_ind(Oeight, ninety_nine, equal_var = True) # not necessary to include equal_var argument \n",
    "# here since same as default, but adding to remember argument exists\n",
    "t, p"
   ]
  },
  {
   "cell_type": "code",
   "execution_count": 20,
   "id": "ecf757ec-5fd1-477c-87dd-7996df92752d",
   "metadata": {},
   "outputs": [
    {
     "data": {
      "text/plain": [
       "(-0.21960177245940962, 0.8263750772060638)"
      ]
     },
     "execution_count": 20,
     "metadata": {},
     "output_type": "execute_result"
    }
   ],
   "source": [
    "t, p = stats.ttest_ind(Oeight, ninety_nine, equal_var = False) # checking to copare difference\n",
    "t, p"
   ]
  },
  {
   "cell_type": "code",
   "execution_count": 21,
   "id": "6aa515e3-e06c-4312-b92c-f900d5df0940",
   "metadata": {},
   "outputs": [
    {
     "data": {
      "text/plain": [
       "20.076923076923077"
      ]
     },
     "execution_count": 21,
     "metadata": {},
     "output_type": "execute_result"
    }
   ],
   "source": [
    "Oeight.mean()"
   ]
  },
  {
   "cell_type": "code",
   "execution_count": 22,
   "id": "ae326d9a-7df5-4e29-8f8a-2b4179b0f1b6",
   "metadata": {},
   "outputs": [
    {
     "data": {
      "text/plain": [
       "20.22222222222222"
      ]
     },
     "execution_count": 22,
     "metadata": {},
     "output_type": "execute_result"
    }
   ],
   "source": [
    "ninety_nine.mean()"
   ]
  },
  {
   "cell_type": "markdown",
   "id": "c5ff064d-a6c3-43ba-9ab7-42ba8ac7816b",
   "metadata": {},
   "source": [
    "##### Conclusion: "
   ]
  },
  {
   "cell_type": "markdown",
   "id": "a94c0585-3970-4943-9627-c8270e1a1c98",
   "metadata": {},
   "source": [
    "***We fail to reject the null hypothesis and conclude that there is not a statistically significant difference between the means of the two groups***"
   ]
  },
  {
   "cell_type": "code",
   "execution_count": 23,
   "id": "4877502c-2d45-4548-813c-75fe69874936",
   "metadata": {},
   "outputs": [],
   "source": [
    "# double check answer with Mann-Whitney's test"
   ]
  },
  {
   "cell_type": "code",
   "execution_count": 60,
   "id": "834fb6b3-3fe9-467c-abcd-f2f3974b90c0",
   "metadata": {},
   "outputs": [
    {
     "data": {
      "text/plain": [
       "MannwhitneyuResult(statistic=7010.5, pvalue=0.7489868536015144)"
      ]
     },
     "execution_count": 60,
     "metadata": {},
     "output_type": "execute_result"
    }
   ],
   "source": [
    "stats.mannwhitneyu(Oeight, ninety_nine, alternative = 'two-sided')"
   ]
  },
  {
   "cell_type": "code",
   "execution_count": 57,
   "id": "d713ebe4-3121-43eb-abaa-8e63db726a26",
   "metadata": {},
   "outputs": [
    {
     "name": "stdout",
     "output_type": "stream",
     "text": [
      "Help on function mannwhitneyu in module scipy.stats.stats:\n",
      "\n",
      "mannwhitneyu(x, y, use_continuity=True, alternative=None)\n",
      "    Compute the Mann-Whitney rank test on samples x and y.\n",
      "    \n",
      "    Parameters\n",
      "    ----------\n",
      "    x, y : array_like\n",
      "        Array of samples, should be one-dimensional.\n",
      "    use_continuity : bool, optional\n",
      "            Whether a continuity correction (1/2.) should be taken into\n",
      "            account. Default is True.\n",
      "    alternative : {None, 'two-sided', 'less', 'greater'}, optional\n",
      "        Defines the alternative hypothesis.\n",
      "        The following options are available (default is None):\n",
      "    \n",
      "          * None: computes p-value half the size of the 'two-sided' p-value and\n",
      "            a different U statistic. The default behavior is not the same as\n",
      "            using 'less' or 'greater'; it only exists for backward compatibility\n",
      "            and is deprecated.\n",
      "          * 'two-sided'\n",
      "          * 'less': one-sided\n",
      "          * 'greater': one-sided\n",
      "    \n",
      "        Use of the None option is deprecated.\n",
      "    \n",
      "    Returns\n",
      "    -------\n",
      "    statistic : float\n",
      "        The Mann-Whitney U statistic, equal to min(U for x, U for y) if\n",
      "        `alternative` is equal to None (deprecated; exists for backward\n",
      "        compatibility), and U for y otherwise.\n",
      "    pvalue : float\n",
      "        p-value assuming an asymptotic normal distribution. One-sided or\n",
      "        two-sided, depending on the choice of `alternative`.\n",
      "    \n",
      "    Notes\n",
      "    -----\n",
      "    Use only when the number of observation in each sample is > 20 and\n",
      "    you have 2 independent samples of ranks. Mann-Whitney U is\n",
      "    significant if the u-obtained is LESS THAN or equal to the critical\n",
      "    value of U.\n",
      "    \n",
      "    This test corrects for ties and by default uses a continuity correction.\n",
      "    \n",
      "    References\n",
      "    ----------\n",
      "    .. [1] https://en.wikipedia.org/wiki/Mann-Whitney_U_test\n",
      "    \n",
      "    .. [2] H.B. Mann and D.R. Whitney, \"On a Test of Whether one of Two Random\n",
      "           Variables is Stochastically Larger than the Other,\" The Annals of\n",
      "           Mathematical Statistics, vol. 18, no. 1, pp. 50-60, 1947.\n",
      "\n"
     ]
    }
   ],
   "source": [
    "help(stats.mannwhitneyu)"
   ]
  },
  {
   "cell_type": "code",
   "execution_count": 25,
   "id": "6ebb3fd3-7fe6-4fb2-9b6f-516de56e1551",
   "metadata": {},
   "outputs": [],
   "source": [
    "# p value for non-parametric test is also above 0.05"
   ]
  },
  {
   "cell_type": "markdown",
   "id": "b4125faf-a2b6-436f-bc2e-6271c7577fb1",
   "metadata": {},
   "source": [
    "#### Are compact cars more fuel-efficient than the average car?"
   ]
  },
  {
   "cell_type": "code",
   "execution_count": 26,
   "id": "ca0cdc52-3384-463f-ba04-2f62199fa7a4",
   "metadata": {},
   "outputs": [
    {
     "data": {
      "text/html": [
       "<div>\n",
       "<style scoped>\n",
       "    .dataframe tbody tr th:only-of-type {\n",
       "        vertical-align: middle;\n",
       "    }\n",
       "\n",
       "    .dataframe tbody tr th {\n",
       "        vertical-align: top;\n",
       "    }\n",
       "\n",
       "    .dataframe thead th {\n",
       "        text-align: right;\n",
       "    }\n",
       "</style>\n",
       "<table border=\"1\" class=\"dataframe\">\n",
       "  <thead>\n",
       "    <tr style=\"text-align: right;\">\n",
       "      <th></th>\n",
       "      <th>manufacturer</th>\n",
       "      <th>model</th>\n",
       "      <th>displ</th>\n",
       "      <th>year</th>\n",
       "      <th>cyl</th>\n",
       "      <th>trans</th>\n",
       "      <th>drv</th>\n",
       "      <th>cty</th>\n",
       "      <th>hwy</th>\n",
       "      <th>fl</th>\n",
       "      <th>class</th>\n",
       "      <th>avg_mpg</th>\n",
       "    </tr>\n",
       "  </thead>\n",
       "  <tbody>\n",
       "    <tr>\n",
       "      <th>1</th>\n",
       "      <td>audi</td>\n",
       "      <td>a4</td>\n",
       "      <td>1.8</td>\n",
       "      <td>1999</td>\n",
       "      <td>4</td>\n",
       "      <td>auto(l5)</td>\n",
       "      <td>f</td>\n",
       "      <td>18</td>\n",
       "      <td>29</td>\n",
       "      <td>p</td>\n",
       "      <td>compact</td>\n",
       "      <td>23.5</td>\n",
       "    </tr>\n",
       "    <tr>\n",
       "      <th>2</th>\n",
       "      <td>audi</td>\n",
       "      <td>a4</td>\n",
       "      <td>1.8</td>\n",
       "      <td>1999</td>\n",
       "      <td>4</td>\n",
       "      <td>manual(m5)</td>\n",
       "      <td>f</td>\n",
       "      <td>21</td>\n",
       "      <td>29</td>\n",
       "      <td>p</td>\n",
       "      <td>compact</td>\n",
       "      <td>25.0</td>\n",
       "    </tr>\n",
       "    <tr>\n",
       "      <th>3</th>\n",
       "      <td>audi</td>\n",
       "      <td>a4</td>\n",
       "      <td>2.0</td>\n",
       "      <td>2008</td>\n",
       "      <td>4</td>\n",
       "      <td>manual(m6)</td>\n",
       "      <td>f</td>\n",
       "      <td>20</td>\n",
       "      <td>31</td>\n",
       "      <td>p</td>\n",
       "      <td>compact</td>\n",
       "      <td>25.5</td>\n",
       "    </tr>\n",
       "    <tr>\n",
       "      <th>4</th>\n",
       "      <td>audi</td>\n",
       "      <td>a4</td>\n",
       "      <td>2.0</td>\n",
       "      <td>2008</td>\n",
       "      <td>4</td>\n",
       "      <td>auto(av)</td>\n",
       "      <td>f</td>\n",
       "      <td>21</td>\n",
       "      <td>30</td>\n",
       "      <td>p</td>\n",
       "      <td>compact</td>\n",
       "      <td>25.5</td>\n",
       "    </tr>\n",
       "    <tr>\n",
       "      <th>5</th>\n",
       "      <td>audi</td>\n",
       "      <td>a4</td>\n",
       "      <td>2.8</td>\n",
       "      <td>1999</td>\n",
       "      <td>6</td>\n",
       "      <td>auto(l5)</td>\n",
       "      <td>f</td>\n",
       "      <td>16</td>\n",
       "      <td>26</td>\n",
       "      <td>p</td>\n",
       "      <td>compact</td>\n",
       "      <td>21.0</td>\n",
       "    </tr>\n",
       "  </tbody>\n",
       "</table>\n",
       "</div>"
      ],
      "text/plain": [
       "  manufacturer model  displ  year  cyl       trans drv  cty  hwy fl    class  \\\n",
       "1         audi    a4    1.8  1999    4    auto(l5)   f   18   29  p  compact   \n",
       "2         audi    a4    1.8  1999    4  manual(m5)   f   21   29  p  compact   \n",
       "3         audi    a4    2.0  2008    4  manual(m6)   f   20   31  p  compact   \n",
       "4         audi    a4    2.0  2008    4    auto(av)   f   21   30  p  compact   \n",
       "5         audi    a4    2.8  1999    6    auto(l5)   f   16   26  p  compact   \n",
       "\n",
       "   avg_mpg  \n",
       "1     23.5  \n",
       "2     25.0  \n",
       "3     25.5  \n",
       "4     25.5  \n",
       "5     21.0  "
      ]
     },
     "execution_count": 26,
     "metadata": {},
     "output_type": "execute_result"
    }
   ],
   "source": [
    "mpg.head()"
   ]
  },
  {
   "cell_type": "code",
   "execution_count": 27,
   "id": "b85624f8-1c59-43ca-bc4e-bb513a9d0047",
   "metadata": {},
   "outputs": [
    {
     "data": {
      "text/plain": [
       "class\n",
       "2seater        5\n",
       "compact       47\n",
       "midsize       41\n",
       "minivan       11\n",
       "pickup        33\n",
       "subcompact    35\n",
       "suv           62\n",
       "Name: cyl, dtype: int64"
      ]
     },
     "execution_count": 27,
     "metadata": {},
     "output_type": "execute_result"
    }
   ],
   "source": [
    "mpg.groupby('class').cyl.count()"
   ]
  },
  {
   "cell_type": "markdown",
   "id": "b9579ec3-6f9a-47ac-9499-8fea84808062",
   "metadata": {},
   "source": [
    "##### Hypotheses:"
   ]
  },
  {
   "cell_type": "markdown",
   "id": "a316c93c-2cb7-4f01-b50b-626a87cc8177",
   "metadata": {},
   "source": [
    "This will be one sample t test and single tailed\n",
    "\n",
    "H0: Average mpg of compact cars is less than or equal to that of all other cars\n",
    "\n",
    "Ha: Average mpg of compact cars is greater than that of all other cars"
   ]
  },
  {
   "cell_type": "code",
   "execution_count": 28,
   "id": "f6c9be18-65a6-4c75-8f83-63e6048dfad4",
   "metadata": {},
   "outputs": [
    {
     "data": {
      "text/plain": [
       "1    23.5\n",
       "2    25.0\n",
       "3    25.5\n",
       "4    25.5\n",
       "5    21.0\n",
       "Name: avg_mpg, dtype: float64"
      ]
     },
     "execution_count": 28,
     "metadata": {},
     "output_type": "execute_result"
    }
   ],
   "source": [
    "# create pandas series for each group using boolean masks\n",
    "\n",
    "compact = mpg[mpg['class'] == 'compact'].avg_mpg\n",
    "compact.head()"
   ]
  },
  {
   "cell_type": "code",
   "execution_count": 29,
   "id": "84d07206-9d0e-4fd7-82f4-94afbbf5454d",
   "metadata": {},
   "outputs": [
    {
     "data": {
      "text/plain": [
       "1    23.5\n",
       "2    25.0\n",
       "3    25.5\n",
       "4    25.5\n",
       "5    21.0\n",
       "Name: avg_mpg, dtype: float64"
      ]
     },
     "execution_count": 29,
     "metadata": {},
     "output_type": "execute_result"
    }
   ],
   "source": [
    "all_cars = mpg.avg_mpg\n",
    "all_cars.head()"
   ]
  },
  {
   "cell_type": "code",
   "execution_count": 30,
   "id": "65210c56-38ed-4eac-a1b6-ce0de0f2bcfb",
   "metadata": {},
   "outputs": [
    {
     "data": {
      "text/plain": [
       "24.21276595744681"
      ]
     },
     "execution_count": 30,
     "metadata": {},
     "output_type": "execute_result"
    }
   ],
   "source": [
    "# look at averages to get an idea before running test\n",
    "\n",
    "compact.mean()"
   ]
  },
  {
   "cell_type": "code",
   "execution_count": 31,
   "id": "61aed9b0-08da-44c1-9d85-7d274f06bffc",
   "metadata": {},
   "outputs": [
    {
     "data": {
      "text/plain": [
       "20.14957264957265"
      ]
     },
     "execution_count": 31,
     "metadata": {},
     "output_type": "execute_result"
    }
   ],
   "source": [
    "all_cars.mean()"
   ]
  },
  {
   "cell_type": "markdown",
   "id": "f10836ec-c22a-465b-b713-ef18d4ddeda6",
   "metadata": {},
   "source": [
    "##### Test assumptions:"
   ]
  },
  {
   "cell_type": "code",
   "execution_count": 32,
   "id": "03b61b80-96cd-472c-be8c-36ee83e2498f",
   "metadata": {},
   "outputs": [
    {
     "data": {
      "text/plain": [
       "<AxesSubplot:>"
      ]
     },
     "execution_count": 32,
     "metadata": {},
     "output_type": "execute_result"
    },
    {
     "data": {
      "image/png": "[encoded data removed]",
      "text/plain": [
       "<Figure size 648x432 with 1 Axes>"
      ]
     },
     "metadata": {
      "needs_background": "light"
     },
     "output_type": "display_data"
    }
   ],
   "source": [
    "compact.hist()"
   ]
  },
  {
   "cell_type": "code",
   "execution_count": 33,
   "id": "b307dd48-19bc-4ea4-a833-e66b6d2dcffd",
   "metadata": {},
   "outputs": [
    {
     "data": {
      "text/plain": [
       "47"
      ]
     },
     "execution_count": 33,
     "metadata": {},
     "output_type": "execute_result"
    }
   ],
   "source": [
    "compact.size"
   ]
  },
  {
   "cell_type": "code",
   "execution_count": 34,
   "id": "8843b618-7427-4b08-ab03-6b681f08060c",
   "metadata": {},
   "outputs": [],
   "source": [
    "# close enough to normal and has more than 30 observations"
   ]
  },
  {
   "cell_type": "code",
   "execution_count": 35,
   "id": "cb5ed68f-f29e-49f8-87ec-08e5e12de00b",
   "metadata": {},
   "outputs": [
    {
     "data": {
      "text/plain": [
       "<AxesSubplot:>"
      ]
     },
     "execution_count": 35,
     "metadata": {},
     "output_type": "execute_result"
    },
    {
     "data": {
      "image/png": "[encoded data removed]",
      "text/plain": [
       "<Figure size 648x432 with 1 Axes>"
      ]
     },
     "metadata": {
      "needs_background": "light"
     },
     "output_type": "display_data"
    }
   ],
   "source": [
    "all_cars.hist()"
   ]
  },
  {
   "cell_type": "code",
   "execution_count": 36,
   "id": "cb372557-aac5-4881-9f05-64be00eea4d9",
   "metadata": {},
   "outputs": [
    {
     "data": {
      "text/plain": [
       "234"
      ]
     },
     "execution_count": 36,
     "metadata": {},
     "output_type": "execute_result"
    }
   ],
   "source": [
    "all_cars.size"
   ]
  },
  {
   "cell_type": "code",
   "execution_count": 37,
   "id": "73ef650f-d5a0-435c-8c7b-57cea7f8fd9c",
   "metadata": {},
   "outputs": [],
   "source": [
    "# close enough to normal and has more than 30 observations"
   ]
  },
  {
   "cell_type": "markdown",
   "id": "2395523b-7e74-480d-9f27-c6701d45fa5a",
   "metadata": {},
   "source": [
    "##### Compute Test Statistic and p value:"
   ]
  },
  {
   "cell_type": "code",
   "execution_count": 38,
   "id": "e5212e63-1ca8-42a0-80c2-f7c04d62c486",
   "metadata": {},
   "outputs": [
    {
     "data": {
      "text/plain": [
       "(7.896888573132535, 2.0992818971585668e-10)"
      ]
     },
     "execution_count": 38,
     "metadata": {},
     "output_type": "execute_result"
    }
   ],
   "source": [
    "t, p = stats.ttest_1samp(compact, all_cars.mean())\n",
    "t, p/2"
   ]
  },
  {
   "cell_type": "code",
   "execution_count": 39,
   "id": "4e63d167-5207-4f9e-88ec-9f478fa14471",
   "metadata": {},
   "outputs": [],
   "source": [
    "#help(stats.ttest_1samp)"
   ]
  },
  {
   "cell_type": "markdown",
   "id": "da450377-ca3f-4143-a0df-13c7047d08d1",
   "metadata": {},
   "source": [
    "##### Conclusion: "
   ]
  },
  {
   "cell_type": "markdown",
   "id": "bf99b340-b41e-4586-8425-578567ccdc7b",
   "metadata": {},
   "source": [
    "***We reject the null hypothesis and have evidence to support that there is a statistically significant different in average fuel efficiency between compact cars and all other cars and that they have better average fuel efficiency.***"
   ]
  },
  {
   "cell_type": "code",
   "execution_count": 40,
   "id": "5a2f88b9-ea51-4654-9057-5c0f9bcdba4c",
   "metadata": {},
   "outputs": [],
   "source": [
    "# investigate necessary args for Wilcoxon signed rank test\n",
    "#help(stats.wilcoxon)"
   ]
  },
  {
   "cell_type": "code",
   "execution_count": 41,
   "id": "d8c25268-e444-45be-83bb-f9f6fd54373a",
   "metadata": {},
   "outputs": [],
   "source": [
    "# run non-parametric test and compare results\n",
    "\n",
    "#stats.wilcoxon(compact, all_cars)\n",
    "\n",
    "# this didn't work for this problem, arrays passed in must be of same length and it doesn't accept a\n",
    "# pop mean like the stats.ttest_1samp() does, would need to look more into how to set things up to \n",
    "# run this test"
   ]
  },
  {
   "cell_type": "markdown",
   "id": "8a00062a-d402-4660-ad57-05fde4d70df2",
   "metadata": {},
   "source": [
    "#### Do manual cars get better gas mileage than automatic cars?"
   ]
  },
  {
   "cell_type": "markdown",
   "id": "ef439509-c7d4-4910-b49e-5ddc132f9a82",
   "metadata": {},
   "source": [
    "##### Hypotheses:"
   ]
  },
  {
   "cell_type": "markdown",
   "id": "404f6427-acda-448e-a6af-3d5466cbe31c",
   "metadata": {},
   "source": [
    "Two sample t test with single tail\n",
    "\n",
    "H0: Gas mileage of manual cars is less than or equal to that of automatic cars\n",
    "\n",
    "Ha: Manual cars get better gas mileage than automatic cars"
   ]
  },
  {
   "cell_type": "code",
   "execution_count": 42,
   "id": "52b8a15b-2d35-4e64-8b15-bf3a19105a70",
   "metadata": {},
   "outputs": [
    {
     "data": {
      "text/html": [
       "<div>\n",
       "<style scoped>\n",
       "    .dataframe tbody tr th:only-of-type {\n",
       "        vertical-align: middle;\n",
       "    }\n",
       "\n",
       "    .dataframe tbody tr th {\n",
       "        vertical-align: top;\n",
       "    }\n",
       "\n",
       "    .dataframe thead th {\n",
       "        text-align: right;\n",
       "    }\n",
       "</style>\n",
       "<table border=\"1\" class=\"dataframe\">\n",
       "  <thead>\n",
       "    <tr style=\"text-align: right;\">\n",
       "      <th></th>\n",
       "      <th>manufacturer</th>\n",
       "      <th>model</th>\n",
       "      <th>displ</th>\n",
       "      <th>year</th>\n",
       "      <th>cyl</th>\n",
       "      <th>trans</th>\n",
       "      <th>drv</th>\n",
       "      <th>cty</th>\n",
       "      <th>hwy</th>\n",
       "      <th>fl</th>\n",
       "      <th>class</th>\n",
       "      <th>avg_mpg</th>\n",
       "    </tr>\n",
       "  </thead>\n",
       "  <tbody>\n",
       "    <tr>\n",
       "      <th>1</th>\n",
       "      <td>audi</td>\n",
       "      <td>a4</td>\n",
       "      <td>1.8</td>\n",
       "      <td>1999</td>\n",
       "      <td>4</td>\n",
       "      <td>auto(l5)</td>\n",
       "      <td>f</td>\n",
       "      <td>18</td>\n",
       "      <td>29</td>\n",
       "      <td>p</td>\n",
       "      <td>compact</td>\n",
       "      <td>23.5</td>\n",
       "    </tr>\n",
       "    <tr>\n",
       "      <th>2</th>\n",
       "      <td>audi</td>\n",
       "      <td>a4</td>\n",
       "      <td>1.8</td>\n",
       "      <td>1999</td>\n",
       "      <td>4</td>\n",
       "      <td>manual(m5)</td>\n",
       "      <td>f</td>\n",
       "      <td>21</td>\n",
       "      <td>29</td>\n",
       "      <td>p</td>\n",
       "      <td>compact</td>\n",
       "      <td>25.0</td>\n",
       "    </tr>\n",
       "    <tr>\n",
       "      <th>3</th>\n",
       "      <td>audi</td>\n",
       "      <td>a4</td>\n",
       "      <td>2.0</td>\n",
       "      <td>2008</td>\n",
       "      <td>4</td>\n",
       "      <td>manual(m6)</td>\n",
       "      <td>f</td>\n",
       "      <td>20</td>\n",
       "      <td>31</td>\n",
       "      <td>p</td>\n",
       "      <td>compact</td>\n",
       "      <td>25.5</td>\n",
       "    </tr>\n",
       "    <tr>\n",
       "      <th>4</th>\n",
       "      <td>audi</td>\n",
       "      <td>a4</td>\n",
       "      <td>2.0</td>\n",
       "      <td>2008</td>\n",
       "      <td>4</td>\n",
       "      <td>auto(av)</td>\n",
       "      <td>f</td>\n",
       "      <td>21</td>\n",
       "      <td>30</td>\n",
       "      <td>p</td>\n",
       "      <td>compact</td>\n",
       "      <td>25.5</td>\n",
       "    </tr>\n",
       "    <tr>\n",
       "      <th>5</th>\n",
       "      <td>audi</td>\n",
       "      <td>a4</td>\n",
       "      <td>2.8</td>\n",
       "      <td>1999</td>\n",
       "      <td>6</td>\n",
       "      <td>auto(l5)</td>\n",
       "      <td>f</td>\n",
       "      <td>16</td>\n",
       "      <td>26</td>\n",
       "      <td>p</td>\n",
       "      <td>compact</td>\n",
       "      <td>21.0</td>\n",
       "    </tr>\n",
       "  </tbody>\n",
       "</table>\n",
       "</div>"
      ],
      "text/plain": [
       "  manufacturer model  displ  year  cyl       trans drv  cty  hwy fl    class  \\\n",
       "1         audi    a4    1.8  1999    4    auto(l5)   f   18   29  p  compact   \n",
       "2         audi    a4    1.8  1999    4  manual(m5)   f   21   29  p  compact   \n",
       "3         audi    a4    2.0  2008    4  manual(m6)   f   20   31  p  compact   \n",
       "4         audi    a4    2.0  2008    4    auto(av)   f   21   30  p  compact   \n",
       "5         audi    a4    2.8  1999    6    auto(l5)   f   16   26  p  compact   \n",
       "\n",
       "   avg_mpg  \n",
       "1     23.5  \n",
       "2     25.0  \n",
       "3     25.5  \n",
       "4     25.5  \n",
       "5     21.0  "
      ]
     },
     "execution_count": 42,
     "metadata": {},
     "output_type": "execute_result"
    }
   ],
   "source": [
    "# create series for each group using boolean masks\n",
    "mpg.head()"
   ]
  },
  {
   "cell_type": "code",
   "execution_count": 43,
   "id": "79ea11a2-162f-43b7-a9d3-8b8a68e1969d",
   "metadata": {},
   "outputs": [
    {
     "data": {
      "text/html": [
       "<div>\n",
       "<style scoped>\n",
       "    .dataframe tbody tr th:only-of-type {\n",
       "        vertical-align: middle;\n",
       "    }\n",
       "\n",
       "    .dataframe tbody tr th {\n",
       "        vertical-align: top;\n",
       "    }\n",
       "\n",
       "    .dataframe thead th {\n",
       "        text-align: right;\n",
       "    }\n",
       "</style>\n",
       "<table border=\"1\" class=\"dataframe\">\n",
       "  <thead>\n",
       "    <tr style=\"text-align: right;\">\n",
       "      <th></th>\n",
       "      <th>manufacturer</th>\n",
       "      <th>model</th>\n",
       "      <th>displ</th>\n",
       "      <th>year</th>\n",
       "      <th>cyl</th>\n",
       "      <th>trans</th>\n",
       "      <th>drv</th>\n",
       "      <th>cty</th>\n",
       "      <th>hwy</th>\n",
       "      <th>fl</th>\n",
       "      <th>class</th>\n",
       "      <th>avg_mpg</th>\n",
       "      <th>is_auto</th>\n",
       "    </tr>\n",
       "  </thead>\n",
       "  <tbody>\n",
       "    <tr>\n",
       "      <th>1</th>\n",
       "      <td>audi</td>\n",
       "      <td>a4</td>\n",
       "      <td>1.8</td>\n",
       "      <td>1999</td>\n",
       "      <td>4</td>\n",
       "      <td>auto(l5)</td>\n",
       "      <td>f</td>\n",
       "      <td>18</td>\n",
       "      <td>29</td>\n",
       "      <td>p</td>\n",
       "      <td>compact</td>\n",
       "      <td>23.5</td>\n",
       "      <td>True</td>\n",
       "    </tr>\n",
       "    <tr>\n",
       "      <th>2</th>\n",
       "      <td>audi</td>\n",
       "      <td>a4</td>\n",
       "      <td>1.8</td>\n",
       "      <td>1999</td>\n",
       "      <td>4</td>\n",
       "      <td>manual(m5)</td>\n",
       "      <td>f</td>\n",
       "      <td>21</td>\n",
       "      <td>29</td>\n",
       "      <td>p</td>\n",
       "      <td>compact</td>\n",
       "      <td>25.0</td>\n",
       "      <td>False</td>\n",
       "    </tr>\n",
       "    <tr>\n",
       "      <th>3</th>\n",
       "      <td>audi</td>\n",
       "      <td>a4</td>\n",
       "      <td>2.0</td>\n",
       "      <td>2008</td>\n",
       "      <td>4</td>\n",
       "      <td>manual(m6)</td>\n",
       "      <td>f</td>\n",
       "      <td>20</td>\n",
       "      <td>31</td>\n",
       "      <td>p</td>\n",
       "      <td>compact</td>\n",
       "      <td>25.5</td>\n",
       "      <td>False</td>\n",
       "    </tr>\n",
       "    <tr>\n",
       "      <th>4</th>\n",
       "      <td>audi</td>\n",
       "      <td>a4</td>\n",
       "      <td>2.0</td>\n",
       "      <td>2008</td>\n",
       "      <td>4</td>\n",
       "      <td>auto(av)</td>\n",
       "      <td>f</td>\n",
       "      <td>21</td>\n",
       "      <td>30</td>\n",
       "      <td>p</td>\n",
       "      <td>compact</td>\n",
       "      <td>25.5</td>\n",
       "      <td>True</td>\n",
       "    </tr>\n",
       "    <tr>\n",
       "      <th>5</th>\n",
       "      <td>audi</td>\n",
       "      <td>a4</td>\n",
       "      <td>2.8</td>\n",
       "      <td>1999</td>\n",
       "      <td>6</td>\n",
       "      <td>auto(l5)</td>\n",
       "      <td>f</td>\n",
       "      <td>16</td>\n",
       "      <td>26</td>\n",
       "      <td>p</td>\n",
       "      <td>compact</td>\n",
       "      <td>21.0</td>\n",
       "      <td>True</td>\n",
       "    </tr>\n",
       "  </tbody>\n",
       "</table>\n",
       "</div>"
      ],
      "text/plain": [
       "  manufacturer model  displ  year  cyl       trans drv  cty  hwy fl    class  \\\n",
       "1         audi    a4    1.8  1999    4    auto(l5)   f   18   29  p  compact   \n",
       "2         audi    a4    1.8  1999    4  manual(m5)   f   21   29  p  compact   \n",
       "3         audi    a4    2.0  2008    4  manual(m6)   f   20   31  p  compact   \n",
       "4         audi    a4    2.0  2008    4    auto(av)   f   21   30  p  compact   \n",
       "5         audi    a4    2.8  1999    6    auto(l5)   f   16   26  p  compact   \n",
       "\n",
       "   avg_mpg  is_auto  \n",
       "1     23.5     True  \n",
       "2     25.0    False  \n",
       "3     25.5    False  \n",
       "4     25.5     True  \n",
       "5     21.0     True  "
      ]
     },
     "execution_count": 43,
     "metadata": {},
     "output_type": "execute_result"
    }
   ],
   "source": [
    "# create new column for is_auto\n",
    "mpg['is_auto'] = mpg.trans.str.contains(\"auto\")\n",
    "mpg.head()"
   ]
  },
  {
   "cell_type": "code",
   "execution_count": 44,
   "id": "04a64d1a-1c75-4c9d-bec5-010ec1bc69ea",
   "metadata": {},
   "outputs": [
    {
     "data": {
      "text/plain": [
       "1    23.5\n",
       "4    25.5\n",
       "5    21.0\n",
       "7    22.5\n",
       "9    20.5\n",
       "Name: avg_mpg, dtype: float64"
      ]
     },
     "execution_count": 44,
     "metadata": {},
     "output_type": "execute_result"
    }
   ],
   "source": [
    "auto = mpg[mpg.is_auto == True].avg_mpg\n",
    "auto.head()"
   ]
  },
  {
   "cell_type": "code",
   "execution_count": 45,
   "id": "fe03d12f-3cd6-4735-a39d-4a896a8282f0",
   "metadata": {},
   "outputs": [
    {
     "data": {
      "text/plain": [
       "2     25.0\n",
       "3     25.5\n",
       "6     22.0\n",
       "8     22.0\n",
       "10    24.0\n",
       "Name: avg_mpg, dtype: float64"
      ]
     },
     "execution_count": 45,
     "metadata": {},
     "output_type": "execute_result"
    }
   ],
   "source": [
    "manual = mpg[mpg.is_auto == False].avg_mpg\n",
    "manual.head()"
   ]
  },
  {
   "cell_type": "markdown",
   "id": "27daf6ae-0dad-4f6a-a72a-8b59d450ae35",
   "metadata": {},
   "source": [
    "##### Test Assumptions:"
   ]
  },
  {
   "cell_type": "markdown",
   "id": "7724dd6b-a5b7-40b8-b5a1-bc31bdb0ab46",
   "metadata": {},
   "source": [
    "- Independent? Yes, they are two different subsets of data\n",
    "- Normally distributed or sufficient observations? Yes (see histograms and observation counts below)\n",
    "- Equal variances? See variance calculations below\n",
    "    - Not sure on this one, will run with both arguments and do non parametric"
   ]
  },
  {
   "cell_type": "code",
   "execution_count": 46,
   "id": "000b9948-1104-4d49-81cd-f16093e5246b",
   "metadata": {},
   "outputs": [
    {
     "data": {
      "text/plain": [
       "<AxesSubplot:>"
      ]
     },
     "execution_count": 46,
     "metadata": {},
     "output_type": "execute_result"
    },
    {
     "data": {
      "image/png": "[encoded data removed]",
      "text/plain": [
       "<Figure size 648x432 with 1 Axes>"
      ]
     },
     "metadata": {
      "needs_background": "light"
     },
     "output_type": "display_data"
    }
   ],
   "source": [
    "auto.hist()"
   ]
  },
  {
   "cell_type": "code",
   "execution_count": 47,
   "id": "8a189df1-d383-44d5-8ac0-1d3e389b8e33",
   "metadata": {},
   "outputs": [
    {
     "data": {
      "text/plain": [
       "157"
      ]
     },
     "execution_count": 47,
     "metadata": {},
     "output_type": "execute_result"
    }
   ],
   "source": [
    "auto.size"
   ]
  },
  {
   "cell_type": "code",
   "execution_count": 48,
   "id": "b15e21c5-6a9c-4122-897d-3793a15b31d5",
   "metadata": {},
   "outputs": [
    {
     "data": {
      "text/plain": [
       "<AxesSubplot:>"
      ]
     },
     "execution_count": 48,
     "metadata": {},
     "output_type": "execute_result"
    },
    {
     "data": {
      "image/png": "[encoded data removed]",
      "text/plain": [
       "<Figure size 648x432 with 1 Axes>"
      ]
     },
     "metadata": {
      "needs_background": "light"
     },
     "output_type": "display_data"
    }
   ],
   "source": [
    "manual.hist()"
   ]
  },
  {
   "cell_type": "code",
   "execution_count": 49,
   "id": "9a7bedce-a947-4a49-8c96-613351bf60a7",
   "metadata": {},
   "outputs": [
    {
     "data": {
      "text/plain": [
       "77"
      ]
     },
     "execution_count": 49,
     "metadata": {},
     "output_type": "execute_result"
    }
   ],
   "source": [
    "manual.size"
   ]
  },
  {
   "cell_type": "code",
   "execution_count": 50,
   "id": "6aa716b5-7ba9-4d7e-a03c-0781e9a5e836",
   "metadata": {},
   "outputs": [
    {
     "data": {
      "text/plain": [
       "21.942777233382337"
      ]
     },
     "execution_count": 50,
     "metadata": {},
     "output_type": "execute_result"
    }
   ],
   "source": [
    "auto.var()"
   ]
  },
  {
   "cell_type": "code",
   "execution_count": 51,
   "id": "b841cd2d-9212-449d-8b69-f39a1d368777",
   "metadata": {},
   "outputs": [
    {
     "data": {
      "text/plain": [
       "26.635167464114826"
      ]
     },
     "execution_count": 51,
     "metadata": {},
     "output_type": "execute_result"
    }
   ],
   "source": [
    "manual.var()"
   ]
  },
  {
   "cell_type": "markdown",
   "id": "630fc485-be09-4a78-be50-15229c961165",
   "metadata": {},
   "source": [
    "##### Compute test statistic and p value:"
   ]
  },
  {
   "cell_type": "code",
   "execution_count": 52,
   "id": "19483b6d-4a17-48f6-8821-5385ebf5c7d2",
   "metadata": {},
   "outputs": [
    {
     "data": {
      "text/plain": [
       "(4.593437735750014, 3.5771872005728416e-06)"
      ]
     },
     "execution_count": 52,
     "metadata": {},
     "output_type": "execute_result"
    }
   ],
   "source": [
    "t, p = stats.ttest_ind(manual, auto, equal_var = True)\n",
    "t, p/2"
   ]
  },
  {
   "cell_type": "code",
   "execution_count": 53,
   "id": "e280beda-2f7d-4dc5-8f80-264c7faa9b5c",
   "metadata": {},
   "outputs": [
    {
     "data": {
      "text/plain": [
       "(4.443514012903071, 8.976124499958965e-06)"
      ]
     },
     "execution_count": 53,
     "metadata": {},
     "output_type": "execute_result"
    }
   ],
   "source": [
    "t, p = stats.ttest_ind(manual, auto, equal_var = False)\n",
    "t, p/2"
   ]
  },
  {
   "cell_type": "code",
   "execution_count": 63,
   "id": "5468acc7-6c2c-4053-85fa-6b6b8e09969d",
   "metadata": {},
   "outputs": [
    {
     "data": {
      "text/plain": [
       "MannwhitneyuResult(statistic=8193.5, pvalue=4.9297998930308745e-06)"
      ]
     },
     "execution_count": 63,
     "metadata": {},
     "output_type": "execute_result"
    }
   ],
   "source": [
    "stats.mannwhitneyu(manual, auto, alternative = 'greater')"
   ]
  },
  {
   "cell_type": "code",
   "execution_count": 55,
   "id": "94254a08-9297-4b40-ba6d-3a88e31cdb24",
   "metadata": {},
   "outputs": [
    {
     "data": {
      "text/plain": [
       "22.227272727272727"
      ]
     },
     "execution_count": 55,
     "metadata": {},
     "output_type": "execute_result"
    }
   ],
   "source": [
    "manual.mean()"
   ]
  },
  {
   "cell_type": "code",
   "execution_count": 56,
   "id": "d4c12d37-5280-4e6c-97f4-4c500a4d85b3",
   "metadata": {},
   "outputs": [
    {
     "data": {
      "text/plain": [
       "19.130573248407643"
      ]
     },
     "execution_count": 56,
     "metadata": {},
     "output_type": "execute_result"
    }
   ],
   "source": [
    "auto.mean()"
   ]
  },
  {
   "cell_type": "markdown",
   "id": "bb7613f5-1e54-471d-9e72-a59acaff8342",
   "metadata": {},
   "source": [
    "##### Conclusion:"
   ]
  },
  {
   "cell_type": "markdown",
   "id": "95a57212-fd91-4033-853f-f8e5c2df7e3e",
   "metadata": {},
   "source": [
    "***We reject the null hypothesis and have evidence that there is a statistically significant difference in mean fuel efficiency between manual and automatic cars and that manual cars have better fuel efficiency on average***"
   ]
  },
  {
   "cell_type": "markdown",
   "id": "a3e85c24-feca-4d06-9dde-390fc89d1244",
   "metadata": {},
   "source": [
    "# Correlation Exercises"
   ]
  },
  {
   "cell_type": "markdown",
   "id": "02bc84e7-ba9c-48b2-b955-ef0a598f9b22",
   "metadata": {},
   "source": [
    "### 1."
   ]
  },
  {
   "cell_type": "markdown",
   "id": "adfe8abb-7e46-4b61-bb9e-89ca49285882",
   "metadata": {},
   "source": [
    "Use the telco_churn data. Does tenure correlate with monthly charges? Total charges? What happens if you control for phone and internet service?"
   ]
  },
  {
   "cell_type": "code",
   "execution_count": 72,
   "id": "f5db9b75-ab25-4a20-b4d5-62e0fdaf7447",
   "metadata": {},
   "outputs": [
    {
     "data": {
      "text/plain": [
       "Index(['customer_id', 'gender', 'is_senior_citizen', 'partner', 'dependents',\n",
       "       'phone_service', 'internet_service', 'contract_type', 'payment_type',\n",
       "       'monthly_charges', 'total_charges', 'churn', 'monthly_tenure',\n",
       "       'rounded_tenure', 'is_female', 'has_churned', 'has_phone',\n",
       "       'has_internet', 'has_phone_and_internet', 'partner_dependents',\n",
       "       'start_date', 'average_monthly_charges', 'validate_calc',\n",
       "       'contract_type_name', 'phone_service_type', 'internet_type',\n",
       "       'service_type', 'has_churned_summable', 'if_female_summable', 'is_male',\n",
       "       'part_dep_name'],\n",
       "      dtype='object')"
      ]
     },
     "execution_count": 72,
     "metadata": {},
     "output_type": "execute_result"
    }
   ],
   "source": [
    "df = pd.read_csv(\"~/Desktop/TelcoTableau.csv\")  \n",
    "df.columns"
   ]
  },
  {
   "cell_type": "code",
   "execution_count": 93,
   "id": "c1e4cd29-29b8-423a-b768-3f948d063dbc",
   "metadata": {},
   "outputs": [
    {
     "data": {
      "text/plain": [
       "(7043, 31)"
      ]
     },
     "execution_count": 93,
     "metadata": {},
     "output_type": "execute_result"
    }
   ],
   "source": [
    "df.shape"
   ]
  },
  {
   "cell_type": "code",
   "execution_count": 97,
   "id": "79bc2709-51b7-4215-951b-5c7b36f96ea2",
   "metadata": {},
   "outputs": [
    {
     "data": {
      "text/plain": [
       "(7032, 31)"
      ]
     },
     "execution_count": 97,
     "metadata": {},
     "output_type": "execute_result"
    }
   ],
   "source": [
    "# drop all nulls\n",
    "df = df.dropna()\n",
    "df.shape"
   ]
  },
  {
   "cell_type": "code",
   "execution_count": 98,
   "id": "873dfe25-a318-433e-86a6-b9122b335d85",
   "metadata": {},
   "outputs": [],
   "source": [
    "# Take a look at data\n",
    "# sns.pairplot(df)\n",
    "# too many columns and most are not numerical"
   ]
  },
  {
   "cell_type": "code",
   "execution_count": 99,
   "id": "7dcef4a5-040d-4eb7-a500-728ae8c74caa",
   "metadata": {},
   "outputs": [
    {
     "data": {
      "image/png": "[encoded data removed]",
      "text/plain": [
       "<Figure size 360x360 with 1 Axes>"
      ]
     },
     "metadata": {
      "needs_background": "light"
     },
     "output_type": "display_data"
    }
   ],
   "source": [
    "sns.relplot(x='monthly_tenure', y='monthly_charges', data=df)\n",
    "plt.show()"
   ]
  },
  {
   "cell_type": "code",
   "execution_count": 100,
   "id": "3aba4a31-f092-44a0-824c-4f53e4702a16",
   "metadata": {},
   "outputs": [
    {
     "data": {
      "text/html": [
       "<div>\n",
       "<style scoped>\n",
       "    .dataframe tbody tr th:only-of-type {\n",
       "        vertical-align: middle;\n",
       "    }\n",
       "\n",
       "    .dataframe tbody tr th {\n",
       "        vertical-align: top;\n",
       "    }\n",
       "\n",
       "    .dataframe thead th {\n",
       "        text-align: right;\n",
       "    }\n",
       "</style>\n",
       "<table border=\"1\" class=\"dataframe\">\n",
       "  <thead>\n",
       "    <tr style=\"text-align: right;\">\n",
       "      <th></th>\n",
       "      <th>monthly_tenure</th>\n",
       "      <th>monthly_charges</th>\n",
       "    </tr>\n",
       "  </thead>\n",
       "  <tbody>\n",
       "    <tr>\n",
       "      <th>monthly_tenure</th>\n",
       "      <td>1.000000</td>\n",
       "      <td>0.246502</td>\n",
       "    </tr>\n",
       "    <tr>\n",
       "      <th>monthly_charges</th>\n",
       "      <td>0.246502</td>\n",
       "      <td>1.000000</td>\n",
       "    </tr>\n",
       "  </tbody>\n",
       "</table>\n",
       "</div>"
      ],
      "text/plain": [
       "                 monthly_tenure  monthly_charges\n",
       "monthly_tenure         1.000000         0.246502\n",
       "monthly_charges        0.246502         1.000000"
      ]
     },
     "execution_count": 100,
     "metadata": {},
     "output_type": "execute_result"
    }
   ],
   "source": [
    "df[['monthly_tenure', 'monthly_charges']].corr()"
   ]
  },
  {
   "cell_type": "code",
   "execution_count": 118,
   "id": "ae0938b6-1d5c-4ad2-9181-5d3b2e2bd777",
   "metadata": {},
   "outputs": [
    {
     "data": {
      "text/plain": [
       "(0.24650174436990646, 7.767854624218193e-98)"
      ]
     },
     "execution_count": 118,
     "metadata": {},
     "output_type": "execute_result"
    }
   ],
   "source": [
    "r, p = stats.pearsonr(df.monthly_tenure, df.monthly_charges)\n",
    "r, p"
   ]
  },
  {
   "cell_type": "markdown",
   "id": "90ac5fa3-422b-4c3d-9175-58d6a2006d7e",
   "metadata": {},
   "source": [
    "***Monthly tenure does not strongly correlate with monthly charges***"
   ]
  },
  {
   "cell_type": "code",
   "execution_count": 102,
   "id": "724c42e3-3319-49bb-9ec3-dc78ed5432fd",
   "metadata": {},
   "outputs": [
    {
     "data": {
      "image/png": "[encoded data removed]",
      "text/plain": [
       "<Figure size 360x360 with 1 Axes>"
      ]
     },
     "metadata": {
      "needs_background": "light"
     },
     "output_type": "display_data"
    }
   ],
   "source": [
    "# monthly tenure with total charges\n",
    "\n",
    "sns.relplot(x='monthly_tenure', y='total_charges', data=df)\n",
    "plt.show()"
   ]
  },
  {
   "cell_type": "code",
   "execution_count": 103,
   "id": "a09ad626-2139-4eb1-9623-7c1bcc7c43d0",
   "metadata": {},
   "outputs": [
    {
     "data": {
      "text/html": [
       "<div>\n",
       "<style scoped>\n",
       "    .dataframe tbody tr th:only-of-type {\n",
       "        vertical-align: middle;\n",
       "    }\n",
       "\n",
       "    .dataframe tbody tr th {\n",
       "        vertical-align: top;\n",
       "    }\n",
       "\n",
       "    .dataframe thead th {\n",
       "        text-align: right;\n",
       "    }\n",
       "</style>\n",
       "<table border=\"1\" class=\"dataframe\">\n",
       "  <thead>\n",
       "    <tr style=\"text-align: right;\">\n",
       "      <th></th>\n",
       "      <th>monthly_tenure</th>\n",
       "      <th>total_charges</th>\n",
       "    </tr>\n",
       "  </thead>\n",
       "  <tbody>\n",
       "    <tr>\n",
       "      <th>monthly_tenure</th>\n",
       "      <td>1.000000</td>\n",
       "      <td>0.826161</td>\n",
       "    </tr>\n",
       "    <tr>\n",
       "      <th>total_charges</th>\n",
       "      <td>0.826161</td>\n",
       "      <td>1.000000</td>\n",
       "    </tr>\n",
       "  </tbody>\n",
       "</table>\n",
       "</div>"
      ],
      "text/plain": [
       "                monthly_tenure  total_charges\n",
       "monthly_tenure        1.000000       0.826161\n",
       "total_charges         0.826161       1.000000"
      ]
     },
     "execution_count": 103,
     "metadata": {},
     "output_type": "execute_result"
    }
   ],
   "source": [
    "df[['monthly_tenure', 'total_charges']].corr()"
   ]
  },
  {
   "cell_type": "code",
   "execution_count": 104,
   "id": "310189dc-4f96-4b41-96ba-a82571c8afae",
   "metadata": {},
   "outputs": [
    {
     "data": {
      "text/plain": [
       "(0.8261605364104811, 0.0)"
      ]
     },
     "execution_count": 104,
     "metadata": {},
     "output_type": "execute_result"
    }
   ],
   "source": [
    "r, p = stats.pearsonr(df.monthly_tenure, df.total_charges)\n",
    "r, p"
   ]
  },
  {
   "cell_type": "markdown",
   "id": "d4a2602c-9602-4d31-93b0-acf7368c2185",
   "metadata": {},
   "source": [
    "***Monthly tenure does have a strong correlation with total charges***"
   ]
  },
  {
   "cell_type": "code",
   "execution_count": 108,
   "id": "2a74554b-ead5-4d19-a471-e15df6512546",
   "metadata": {},
   "outputs": [
    {
     "data": {
      "text/html": [
       "<div>\n",
       "<style scoped>\n",
       "    .dataframe tbody tr th:only-of-type {\n",
       "        vertical-align: middle;\n",
       "    }\n",
       "\n",
       "    .dataframe tbody tr th {\n",
       "        vertical-align: top;\n",
       "    }\n",
       "\n",
       "    .dataframe thead th {\n",
       "        text-align: right;\n",
       "    }\n",
       "</style>\n",
       "<table border=\"1\" class=\"dataframe\">\n",
       "  <thead>\n",
       "    <tr style=\"text-align: right;\">\n",
       "      <th></th>\n",
       "      <th>customer_id</th>\n",
       "      <th>gender</th>\n",
       "      <th>is_senior_citizen</th>\n",
       "      <th>partner</th>\n",
       "      <th>dependents</th>\n",
       "      <th>phone_service</th>\n",
       "      <th>internet_service</th>\n",
       "      <th>contract_type</th>\n",
       "      <th>payment_type</th>\n",
       "      <th>monthly_charges</th>\n",
       "      <th>...</th>\n",
       "      <th>average_monthly_charges</th>\n",
       "      <th>validate_calc</th>\n",
       "      <th>contract_type_name</th>\n",
       "      <th>phone_service_type</th>\n",
       "      <th>internet_type</th>\n",
       "      <th>service_type</th>\n",
       "      <th>has_churned_summable</th>\n",
       "      <th>if_female_summable</th>\n",
       "      <th>is_male</th>\n",
       "      <th>part_dep_name</th>\n",
       "    </tr>\n",
       "  </thead>\n",
       "  <tbody>\n",
       "    <tr>\n",
       "      <th>0</th>\n",
       "      <td>0002-ORFBO</td>\n",
       "      <td>Female</td>\n",
       "      <td>0</td>\n",
       "      <td>Yes</td>\n",
       "      <td>Yes</td>\n",
       "      <td>1</td>\n",
       "      <td>1</td>\n",
       "      <td>1</td>\n",
       "      <td>Mailed check</td>\n",
       "      <td>65.6</td>\n",
       "      <td>...</td>\n",
       "      <td>65.6</td>\n",
       "      <td>True</td>\n",
       "      <td>1 Year</td>\n",
       "      <td>One Line</td>\n",
       "      <td>DSL</td>\n",
       "      <td>phone_and_internet</td>\n",
       "      <td>0</td>\n",
       "      <td>1</td>\n",
       "      <td>0</td>\n",
       "      <td>partner_and_dependents</td>\n",
       "    </tr>\n",
       "    <tr>\n",
       "      <th>1</th>\n",
       "      <td>0003-MKNFE</td>\n",
       "      <td>Male</td>\n",
       "      <td>0</td>\n",
       "      <td>No</td>\n",
       "      <td>No</td>\n",
       "      <td>2</td>\n",
       "      <td>1</td>\n",
       "      <td>0</td>\n",
       "      <td>Mailed check</td>\n",
       "      <td>59.9</td>\n",
       "      <td>...</td>\n",
       "      <td>59.9</td>\n",
       "      <td>True</td>\n",
       "      <td>Month-to-Month</td>\n",
       "      <td>Two or More Lines</td>\n",
       "      <td>DSL</td>\n",
       "      <td>phone_and_internet</td>\n",
       "      <td>0</td>\n",
       "      <td>0</td>\n",
       "      <td>1</td>\n",
       "      <td>no_partners_no_dependents</td>\n",
       "    </tr>\n",
       "    <tr>\n",
       "      <th>2</th>\n",
       "      <td>0004-TLHLJ</td>\n",
       "      <td>Male</td>\n",
       "      <td>0</td>\n",
       "      <td>No</td>\n",
       "      <td>No</td>\n",
       "      <td>1</td>\n",
       "      <td>2</td>\n",
       "      <td>0</td>\n",
       "      <td>Electronic check</td>\n",
       "      <td>73.9</td>\n",
       "      <td>...</td>\n",
       "      <td>73.9</td>\n",
       "      <td>True</td>\n",
       "      <td>Month-to-Month</td>\n",
       "      <td>One Line</td>\n",
       "      <td>Fiber Optic</td>\n",
       "      <td>phone_and_internet</td>\n",
       "      <td>1</td>\n",
       "      <td>0</td>\n",
       "      <td>1</td>\n",
       "      <td>no_partners_no_dependents</td>\n",
       "    </tr>\n",
       "    <tr>\n",
       "      <th>3</th>\n",
       "      <td>0011-IGKFF</td>\n",
       "      <td>Male</td>\n",
       "      <td>1</td>\n",
       "      <td>Yes</td>\n",
       "      <td>No</td>\n",
       "      <td>1</td>\n",
       "      <td>2</td>\n",
       "      <td>0</td>\n",
       "      <td>Electronic check</td>\n",
       "      <td>98.0</td>\n",
       "      <td>...</td>\n",
       "      <td>98.0</td>\n",
       "      <td>True</td>\n",
       "      <td>Month-to-Month</td>\n",
       "      <td>One Line</td>\n",
       "      <td>Fiber Optic</td>\n",
       "      <td>phone_and_internet</td>\n",
       "      <td>1</td>\n",
       "      <td>0</td>\n",
       "      <td>1</td>\n",
       "      <td>partner_only</td>\n",
       "    </tr>\n",
       "    <tr>\n",
       "      <th>4</th>\n",
       "      <td>0013-EXCHZ</td>\n",
       "      <td>Female</td>\n",
       "      <td>1</td>\n",
       "      <td>Yes</td>\n",
       "      <td>No</td>\n",
       "      <td>1</td>\n",
       "      <td>2</td>\n",
       "      <td>0</td>\n",
       "      <td>Mailed check</td>\n",
       "      <td>83.9</td>\n",
       "      <td>...</td>\n",
       "      <td>83.9</td>\n",
       "      <td>True</td>\n",
       "      <td>Month-to-Month</td>\n",
       "      <td>One Line</td>\n",
       "      <td>Fiber Optic</td>\n",
       "      <td>phone_and_internet</td>\n",
       "      <td>1</td>\n",
       "      <td>1</td>\n",
       "      <td>0</td>\n",
       "      <td>partner_only</td>\n",
       "    </tr>\n",
       "  </tbody>\n",
       "</table>\n",
       "<p>5 rows × 31 columns</p>\n",
       "</div>"
      ],
      "text/plain": [
       "  customer_id  gender  is_senior_citizen partner dependents  phone_service  \\\n",
       "0  0002-ORFBO  Female                  0     Yes        Yes              1   \n",
       "1  0003-MKNFE    Male                  0      No         No              2   \n",
       "2  0004-TLHLJ    Male                  0      No         No              1   \n",
       "3  0011-IGKFF    Male                  1     Yes         No              1   \n",
       "4  0013-EXCHZ  Female                  1     Yes         No              1   \n",
       "\n",
       "   internet_service  contract_type      payment_type  monthly_charges  ...  \\\n",
       "0                 1              1      Mailed check             65.6  ...   \n",
       "1                 1              0      Mailed check             59.9  ...   \n",
       "2                 2              0  Electronic check             73.9  ...   \n",
       "3                 2              0  Electronic check             98.0  ...   \n",
       "4                 2              0      Mailed check             83.9  ...   \n",
       "\n",
       "   average_monthly_charges validate_calc  contract_type_name  \\\n",
       "0                     65.6          True              1 Year   \n",
       "1                     59.9          True      Month-to-Month   \n",
       "2                     73.9          True      Month-to-Month   \n",
       "3                     98.0          True      Month-to-Month   \n",
       "4                     83.9          True      Month-to-Month   \n",
       "\n",
       "   phone_service_type  internet_type        service_type  \\\n",
       "0            One Line            DSL  phone_and_internet   \n",
       "1   Two or More Lines            DSL  phone_and_internet   \n",
       "2            One Line    Fiber Optic  phone_and_internet   \n",
       "3            One Line    Fiber Optic  phone_and_internet   \n",
       "4            One Line    Fiber Optic  phone_and_internet   \n",
       "\n",
       "   has_churned_summable  if_female_summable  is_male  \\\n",
       "0                     0                   1        0   \n",
       "1                     0                   0        1   \n",
       "2                     1                   0        1   \n",
       "3                     1                   0        1   \n",
       "4                     1                   1        0   \n",
       "\n",
       "               part_dep_name  \n",
       "0     partner_and_dependents  \n",
       "1  no_partners_no_dependents  \n",
       "2  no_partners_no_dependents  \n",
       "3               partner_only  \n",
       "4               partner_only  \n",
       "\n",
       "[5 rows x 31 columns]"
      ]
     },
     "execution_count": 108,
     "metadata": {},
     "output_type": "execute_result"
    }
   ],
   "source": [
    "# control for phone and internet service\n",
    "\n",
    "p_and_i = df[df.service_type == 'phone_and_internet']\n",
    "p_and_i.head()"
   ]
  },
  {
   "cell_type": "code",
   "execution_count": 111,
   "id": "2528e113-d984-43b6-9b94-b229dbe7c608",
   "metadata": {},
   "outputs": [
    {
     "data": {
      "image/png": "[encoded data removed]",
      "text/plain": [
       "<Figure size 360x360 with 1 Axes>"
      ]
     },
     "metadata": {
      "needs_background": "light"
     },
     "output_type": "display_data"
    }
   ],
   "source": [
    "# lets look at tenure and monthly charges first\n",
    "sns.relplot(x='monthly_tenure', y='monthly_charges', data=p_and_i)\n",
    "plt.show()"
   ]
  },
  {
   "cell_type": "code",
   "execution_count": 112,
   "id": "87ee21ea-bb79-4a39-b376-9caea9d4109b",
   "metadata": {},
   "outputs": [
    {
     "data": {
      "text/html": [
       "<div>\n",
       "<style scoped>\n",
       "    .dataframe tbody tr th:only-of-type {\n",
       "        vertical-align: middle;\n",
       "    }\n",
       "\n",
       "    .dataframe tbody tr th {\n",
       "        vertical-align: top;\n",
       "    }\n",
       "\n",
       "    .dataframe thead th {\n",
       "        text-align: right;\n",
       "    }\n",
       "</style>\n",
       "<table border=\"1\" class=\"dataframe\">\n",
       "  <thead>\n",
       "    <tr style=\"text-align: right;\">\n",
       "      <th></th>\n",
       "      <th>monthly_tenure</th>\n",
       "      <th>monthly_charges</th>\n",
       "    </tr>\n",
       "  </thead>\n",
       "  <tbody>\n",
       "    <tr>\n",
       "      <th>monthly_tenure</th>\n",
       "      <td>1.000000</td>\n",
       "      <td>0.443312</td>\n",
       "    </tr>\n",
       "    <tr>\n",
       "      <th>monthly_charges</th>\n",
       "      <td>0.443312</td>\n",
       "      <td>1.000000</td>\n",
       "    </tr>\n",
       "  </tbody>\n",
       "</table>\n",
       "</div>"
      ],
      "text/plain": [
       "                 monthly_tenure  monthly_charges\n",
       "monthly_tenure         1.000000         0.443312\n",
       "monthly_charges        0.443312         1.000000"
      ]
     },
     "execution_count": 112,
     "metadata": {},
     "output_type": "execute_result"
    }
   ],
   "source": [
    "p_and_i[['monthly_tenure', 'monthly_charges']].corr()"
   ]
  },
  {
   "cell_type": "code",
   "execution_count": 113,
   "id": "e06d1290-bbcd-4abd-90f8-c7f77aeb8470",
   "metadata": {},
   "outputs": [
    {
     "data": {
      "text/plain": [
       "(0.44331175895165253, 8.331544730202107e-232)"
      ]
     },
     "execution_count": 113,
     "metadata": {},
     "output_type": "execute_result"
    }
   ],
   "source": [
    "r, p = stats.pearsonr(p_and_i.monthly_tenure, p_and_i.monthly_charges)\n",
    "r, p"
   ]
  },
  {
   "cell_type": "markdown",
   "id": "9ff30779-a572-4f06-83e8-96b0d10e7fcf",
   "metadata": {},
   "source": [
    "***Correlation is still very weak for only phone and internet customers***"
   ]
  },
  {
   "cell_type": "code",
   "execution_count": 115,
   "id": "555778d1-1915-4580-aede-68150e41667b",
   "metadata": {},
   "outputs": [
    {
     "data": {
      "image/png": "[encoded data removed]",
      "text/plain": [
       "<Figure size 360x360 with 1 Axes>"
      ]
     },
     "metadata": {
      "needs_background": "light"
     },
     "output_type": "display_data"
    }
   ],
   "source": [
    "# now lets look at tenure and total charges\n",
    "sns.relplot(x='monthly_tenure', y='total_charges', data=p_and_i)\n",
    "plt.show()"
   ]
  },
  {
   "cell_type": "code",
   "execution_count": 116,
   "id": "32a02bd3-ddfc-4249-8080-853153fb5c80",
   "metadata": {},
   "outputs": [
    {
     "data": {
      "text/html": [
       "<div>\n",
       "<style scoped>\n",
       "    .dataframe tbody tr th:only-of-type {\n",
       "        vertical-align: middle;\n",
       "    }\n",
       "\n",
       "    .dataframe tbody tr th {\n",
       "        vertical-align: top;\n",
       "    }\n",
       "\n",
       "    .dataframe thead th {\n",
       "        text-align: right;\n",
       "    }\n",
       "</style>\n",
       "<table border=\"1\" class=\"dataframe\">\n",
       "  <thead>\n",
       "    <tr style=\"text-align: right;\">\n",
       "      <th></th>\n",
       "      <th>monthly_tenure</th>\n",
       "      <th>total_charges</th>\n",
       "    </tr>\n",
       "  </thead>\n",
       "  <tbody>\n",
       "    <tr>\n",
       "      <th>monthly_tenure</th>\n",
       "      <td>1.000000</td>\n",
       "      <td>0.958769</td>\n",
       "    </tr>\n",
       "    <tr>\n",
       "      <th>total_charges</th>\n",
       "      <td>0.958769</td>\n",
       "      <td>1.000000</td>\n",
       "    </tr>\n",
       "  </tbody>\n",
       "</table>\n",
       "</div>"
      ],
      "text/plain": [
       "                monthly_tenure  total_charges\n",
       "monthly_tenure        1.000000       0.958769\n",
       "total_charges         0.958769       1.000000"
      ]
     },
     "execution_count": 116,
     "metadata": {},
     "output_type": "execute_result"
    }
   ],
   "source": [
    "p_and_i[['monthly_tenure', 'total_charges']].corr()"
   ]
  },
  {
   "cell_type": "code",
   "execution_count": 117,
   "id": "709efa11-c584-4a15-b32f-d7e988f058f6",
   "metadata": {},
   "outputs": [
    {
     "data": {
      "text/plain": [
       "(0.95876919644389, 0.0)"
      ]
     },
     "execution_count": 117,
     "metadata": {},
     "output_type": "execute_result"
    }
   ],
   "source": [
    "r, p = stats.pearsonr(p_and_i.monthly_tenure, p_and_i.total_charges)\n",
    "r, p"
   ]
  },
  {
   "cell_type": "markdown",
   "id": "2a79baab-3557-4f06-88fc-bc1e9b9ff8d0",
   "metadata": {},
   "source": [
    "***The correlation becomes even stronger when controlling for phone and internet customers***"
   ]
  },
  {
   "cell_type": "markdown",
   "id": "15aca8d0-a696-481e-9389-550ff46b45a9",
   "metadata": {},
   "source": [
    "### 2."
   ]
  },
  {
   "cell_type": "markdown",
   "id": "4359c176-6910-4c35-97e1-3667e0db3ae5",
   "metadata": {},
   "source": [
    "Use the employees database."
   ]
  },
  {
   "cell_type": "code",
   "execution_count": null,
   "id": "99fa3c75-7024-484a-9a79-c091eefe526d",
   "metadata": {},
   "outputs": [],
   "source": []
  },
  {
   "cell_type": "markdown",
   "id": "7e680593-ab5a-4bd2-bf52-61bdd803026a",
   "metadata": {},
   "source": [
    "   - Is there a relationship between how long an employee has been with the company and their salary?"
   ]
  },
  {
   "cell_type": "markdown",
   "id": "6e9e167c-8dcc-4a32-9064-76f46b2a225b",
   "metadata": {},
   "source": [
    "   - Is there a relationship between how long an employee has been with the company and the number of titles they have had?"
   ]
  },
  {
   "cell_type": "markdown",
   "id": "f4ed73b9-2d80-4042-ac5e-4c50a56fadc3",
   "metadata": {},
   "source": [
    "### 3."
   ]
  },
  {
   "cell_type": "markdown",
   "id": "6c2a9c12-b981-4922-9f3a-c37ee6ff4178",
   "metadata": {},
   "source": [
    "Use the sleepstudy data. Is there a relationship between days and reaction time?"
   ]
  },
  {
   "cell_type": "code",
   "execution_count": null,
   "id": "b21f0b21-9ae5-49b7-9280-52caff40873a",
   "metadata": {},
   "outputs": [],
   "source": []
  }
 ],
 "metadata": {
  "kernelspec": {
   "display_name": "Python 3",
   "language": "python",
   "name": "python3"
  },
  "language_info": {
   "codemirror_mode": {
    "name": "ipython",
    "version": 3
   },
   "file_extension": ".py",
   "mimetype": "text/x-python",
   "name": "python",
   "nbconvert_exporter": "python",
   "pygments_lexer": "ipython3",
   "version": "3.8.8"
  }
 },
 "nbformat": 4,
 "nbformat_minor": 5
}

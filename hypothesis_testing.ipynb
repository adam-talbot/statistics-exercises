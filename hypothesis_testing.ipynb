{
 "cells": [
  {
   "cell_type": "markdown",
   "id": "1e11ce1b-0d3e-4008-a46e-87fb8fced88d",
   "metadata": {},
   "source": [
    "# Overview Exercises"
   ]
  },
  {
   "cell_type": "markdown",
   "id": "90ceab63-eabe-4b1c-b6d0-dfaab390d4bc",
   "metadata": {},
   "source": [
    "For each of the following questions, formulate a null and alternative hypothesis (be as specific as you can be), then give an example of what a true positive, true negative, type I and type II errors would look like. Note that some of the questions are intentionally phrased in a vague way. It is your job to reword these as more precise questions that could be tested.\n",
    "\n",
    "- Has the network latency gone up since we switched internet service providers?\n",
    "- Is the website redesign any good?\n",
    "- Is our television ad driving more sales?"
   ]
  },
  {
   "cell_type": "markdown",
   "id": "6aa24c71-8428-46b8-93f9-ed74b6096761",
   "metadata": {},
   "source": [
    "***Has the network latency gone up since we switched internet service providers?***\n",
    "\n",
    "Revised question:\n",
    "\n",
    "- Has network latency changed since switching internet service providers?\n",
    "\n",
    "H0:\n",
    "\n",
    "- Network latency has not changed same or decreased since switching\n",
    "\n",
    "Ha:\n",
    "\n",
    "- Network latency has changed since switching internet service providers\n",
    "\n",
    "True positive: Said there was a difference and there was\n",
    "\n",
    "- Our test confirmed that the change after switching was indeed not due to chance\n",
    "\n",
    "True negative: Failed to reject the null hypothesis when it was indeed false\n",
    "\n",
    "- Our test confirmed that the change was indeed due to chance \n",
    "\n",
    "Type I Error (False Positive Rate): Said there was a difference where there wasn't\n",
    "\n",
    "- Our test disproved the null hypothesis of no change but the change was actually due to chance and the null should not have been rejected\n",
    "\n",
    "Type II Error (False Negative): Failing to reject null hypothesis when it is false\n",
    "\n",
    "- Our test failed to reject the null hypothesis of no change when we should have rejected it\n"
   ]
  },
  {
   "cell_type": "markdown",
   "id": "5e09379f-98db-41db-b334-d749b95c66da",
   "metadata": {},
   "source": [
    "***Is the website redesign any good?***\n",
    "\n",
    "Revised question:\n",
    "\n",
    "- Have click through rates changed since redesigning the website?\n",
    "\n",
    "H0:\n",
    "\n",
    "- Click through rates have not changed since redesigning the website\n",
    "\n",
    "Ha:\n",
    "\n",
    "- Click through rates have changed since redesigning the website\n",
    "\n",
    "True positive: Said there was a difference and there was\n",
    "\n",
    "- Our test confirmed that the change after redesign was indeed not due to chance\n",
    "\n",
    "True negative: Rejected the null hypothesis when it was indeed false\n",
    "\n",
    "- Our test confirmed that the change was indeed due to chance \n",
    "\n",
    "Type I Error (False Positive Rate): Said there was a difference where there wasn't\n",
    "\n",
    "- Our test disproved the null hypothesis of no change but the change was actually due to chance and the null should not have been rejected\n",
    "\n",
    "Type II Error (False Negative): Failing to reject null hypothesis when it is false\n",
    "\n",
    "- Our test failed to reject the null hypothesis of no change when we should have rejected it\n"
   ]
  },
  {
   "cell_type": "markdown",
   "id": "c795cd53-5e3c-4910-b253-6d46529e9e09",
   "metadata": {},
   "source": [
    "***Is our television ad driving more sales?***\n",
    "\n",
    "Revised question:\n",
    "\n",
    "- Has sales revenue changed since we deployed our TV ad?\n",
    "\n",
    "H0:\n",
    "\n",
    "- Sales revenue has not changed since deploying TV ad\n",
    "\n",
    "Ha:\n",
    "\n",
    "- Sales revenue has changed since deploying TV ad\n",
    "\n",
    "True positive: Said there was a difference and there was\n",
    "\n",
    "- Our test confirmed that the change after switching was indeed not due to chance\n",
    "\n",
    "True negative: Rejected the null hypothesis when it was indeed false\n",
    "\n",
    "- Our test confirmed that the change was indeed due to chance \n",
    "\n",
    "Type I Error (False Positive Rate): Said there was a difference where there wasn't\n",
    "\n",
    "- Our test disproved the null hypothesis of no change but the change was actually due to chance and the null should not have been rejected\n",
    "\n",
    "Type II Error (False Negative): Failing to reject null hypothesis when it is false\n",
    "\n",
    "- Our test failed to reject the null hypothesis of no change when we should have rejected it since there was a statistically significant difference"
   ]
  },
  {
   "cell_type": "code",
   "execution_count": null,
   "id": "8126bfc3-75ab-42f3-a5ea-e14f193cca10",
   "metadata": {},
   "outputs": [],
   "source": []
  }
 ],
 "metadata": {
  "kernelspec": {
   "display_name": "Python 3",
   "language": "python",
   "name": "python3"
  },
  "language_info": {
   "codemirror_mode": {
    "name": "ipython",
    "version": 3
   },
   "file_extension": ".py",
   "mimetype": "text/x-python",
   "name": "python",
   "nbconvert_exporter": "python",
   "pygments_lexer": "ipython3",
   "version": "3.8.8"
  }
 },
 "nbformat": 4,
 "nbformat_minor": 5
}

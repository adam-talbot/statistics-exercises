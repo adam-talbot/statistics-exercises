{
 "cells": [
  {
   "cell_type": "markdown",
   "id": "1e11ce1b-0d3e-4008-a46e-87fb8fced88d",
   "metadata": {},
   "source": [
    "# Overview Exercises"
   ]
  },
  {
   "cell_type": "markdown",
   "id": "90ceab63-eabe-4b1c-b6d0-dfaab390d4bc",
   "metadata": {},
   "source": [
    "For each of the following questions, formulate a null and alternative hypothesis (be as specific as you can be), then give an example of what a true positive, true negative, type I and type II errors would look like. Note that some of the questions are intentionally phrased in a vague way. It is your job to reword these as more precise questions that could be tested.\n",
    "\n",
    "- Has the network latency gone up since we switched internet service providers?\n",
    "- Is the website redesign any good?\n",
    "- Is our television ad driving more sales?"
   ]
  },
  {
   "cell_type": "markdown",
   "id": "6aa24c71-8428-46b8-93f9-ed74b6096761",
   "metadata": {},
   "source": [
    "***Has the network latency gone up since we switched internet service providers?***\n",
    "\n",
    "Revised question:\n",
    "\n",
    "- Has network latency changed since switching internet service providers?\n",
    "\n",
    "H0:\n",
    "\n",
    "- Network latency has not changed same or decreased since switching\n",
    "\n",
    "Ha:\n",
    "\n",
    "- Network latency has changed since switching internet service providers\n",
    "\n",
    "True positive: Said there was a difference and there was\n",
    "\n",
    "- Our test confirmed that the change after switching was indeed not due to chance\n",
    "\n",
    "True negative: Failed to reject the null hypothesis when it was indeed false\n",
    "\n",
    "- Our test confirmed that the change was indeed due to chance \n",
    "\n",
    "Type I Error (False Positive Rate): Said there was a difference where there wasn't\n",
    "\n",
    "- Our test disproved the null hypothesis of no change but the change was actually due to chance and the null should not have been rejected\n",
    "\n",
    "Type II Error (False Negative): Failing to reject null hypothesis when it is false\n",
    "\n",
    "- Our test failed to reject the null hypothesis of no change when we should have rejected it\n"
   ]
  },
  {
   "cell_type": "markdown",
   "id": "5e09379f-98db-41db-b334-d749b95c66da",
   "metadata": {},
   "source": [
    "***Is the website redesign any good?***\n",
    "\n",
    "Revised question:\n",
    "\n",
    "- Have click through rates changed since redesigning the website?\n",
    "\n",
    "H0:\n",
    "\n",
    "- Click through rates have not changed since redesigning the website\n",
    "\n",
    "Ha:\n",
    "\n",
    "- Click through rates have changed since redesigning the website\n",
    "\n",
    "True positive: Said there was a difference and there was\n",
    "\n",
    "- Our test confirmed that the change after redesign was indeed not due to chance\n",
    "\n",
    "True negative: Rejected the null hypothesis when it was indeed false\n",
    "\n",
    "- Our test confirmed that the change was indeed due to chance \n",
    "\n",
    "Type I Error (False Positive Rate): Said there was a difference where there wasn't\n",
    "\n",
    "- Our test disproved the null hypothesis of no change but the change was actually due to chance and the null should not have been rejected\n",
    "\n",
    "Type II Error (False Negative): Failing to reject null hypothesis when it is false\n",
    "\n",
    "- Our test failed to reject the null hypothesis of no change when we should have rejected it\n"
   ]
  },
  {
   "cell_type": "markdown",
   "id": "c795cd53-5e3c-4910-b253-6d46529e9e09",
   "metadata": {},
   "source": [
    "***Is our television ad driving more sales?***\n",
    "\n",
    "Revised question:\n",
    "\n",
    "- Has sales revenue changed since we deployed our TV ad?\n",
    "\n",
    "H0:\n",
    "\n",
    "- Sales revenue has not changed since deploying TV ad\n",
    "\n",
    "Ha:\n",
    "\n",
    "- Sales revenue has changed since deploying TV ad\n",
    "\n",
    "True positive: Said there was a difference and there was\n",
    "\n",
    "- Our test confirmed that the change after switching was indeed not due to chance\n",
    "\n",
    "True negative: Rejected the null hypothesis when it was indeed false\n",
    "\n",
    "- Our test confirmed that the change was indeed due to chance \n",
    "\n",
    "Type I Error (False Positive Rate): Said there was a difference where there wasn't\n",
    "\n",
    "- Our test disproved the null hypothesis of no change but the change was actually due to chance and the null should not have been rejected\n",
    "\n",
    "Type II Error (False Negative): Failing to reject null hypothesis when it is false\n",
    "\n",
    "- Our test failed to reject the null hypothesis of no change when we should have rejected it since there was a statistically significant difference"
   ]
  },
  {
   "cell_type": "markdown",
   "id": "e64dc589-b513-4691-9be1-afe70edde648",
   "metadata": {},
   "source": [
    "# T-Test Exercises "
   ]
  },
  {
   "cell_type": "code",
   "execution_count": 31,
   "id": "ca5013ce-31ba-4b31-a493-5201a5f9d263",
   "metadata": {},
   "outputs": [],
   "source": [
    "# imports\n",
    "\n",
    "from math import sqrt\n",
    "from scipy import stats\n",
    "\n",
    "import matplotlib.pyplot as plt\n",
    "import numpy as np\n",
    "import pandas as pd\n",
    "import viz # curriculum visualization examples\n",
    "\n",
    "import seaborn as sns\n",
    "from pydataset import data"
   ]
  },
  {
   "cell_type": "markdown",
   "id": "58acc0d2-a7aa-44d3-967b-3221e4d2b34f",
   "metadata": {},
   "source": [
    "### 1."
   ]
  },
  {
   "cell_type": "markdown",
   "id": "967dfd5c-04e4-4e5c-b9f5-56be4676af50",
   "metadata": {},
   "source": [
    "Ace Realty wants to determine whether the average time it takes to sell homes is different for its two offices. A sample of 40 sales from office #1 revealed a mean of 90 days and a standard deviation of 15 days. A sample of 50 sales from office #2 revealed a mean of 100 days and a standard deviation of 20 days. Use a .05 level of significance."
   ]
  },
  {
   "attachments": {
    "d59b6b0b-8fb3-41d8-8a81-a342f667ac20.png": {
     "image/png": "[encoded data removed]"
    }
   },
   "cell_type": "markdown",
   "id": "3858a83b-c1ab-4a4b-8f6c-319e3135afbb",
   "metadata": {},
   "source": [
    "Formula to manually calculate t-statistic for this case:\n",
    "\n",
    "![image.png](attachment:d59b6b0b-8fb3-41d8-8a81-a342f667ac20.png)"
   ]
  },
  {
   "attachments": {
    "badb7656-5c9c-4af5-8195-c3244fa9ed29.png": {
     "image/png": "[encoded data removed]"
    }
   },
   "cell_type": "markdown",
   "id": "5042fe84-d116-4daa-bb3a-037973d42569",
   "metadata": {},
   "source": [
    "Formula to calculate pooled standard deviation to use in formula above:\n",
    "\n",
    "![image.png](attachment:badb7656-5c9c-4af5-8195-c3244fa9ed29.png)"
   ]
  },
  {
   "cell_type": "markdown",
   "id": "043766b5-1380-4315-af6f-a5821800f6d0",
   "metadata": {},
   "source": [
    "Will need to use 2 sample t test.\n",
    "\n",
    "H0: There is no difference in average time it takes to sell homes in two different offices\n",
    "\n",
    "Ha: There is a difference in average time it takes to sell homes in two different offices"
   ]
  },
  {
   "cell_type": "code",
   "execution_count": 12,
   "id": "55ee1fd0-64cd-4081-bcfa-ba49db9d770c",
   "metadata": {},
   "outputs": [],
   "source": [
    "#create and assign variables for all needed parts of above formula\n",
    "xbar1 = 90\n",
    "s1 = 15\n",
    "n1 = 40\n",
    "\n",
    "xbar2 = 100\n",
    "s2 = 20\n",
    "n2 = 50\n",
    "\n",
    "degf = n1 + n2 - 2"
   ]
  },
  {
   "cell_type": "code",
   "execution_count": 13,
   "id": "4c0b83aa-3c60-4ab1-b83a-c244ef2a37e5",
   "metadata": {},
   "outputs": [
    {
     "data": {
      "text/plain": [
       "17.956702977389302"
      ]
     },
     "execution_count": 13,
     "metadata": {},
     "output_type": "execute_result"
    }
   ],
   "source": [
    "# calculate pooled standard deviation\n",
    "\n",
    "s_p = sqrt(((n1 - 1) * s1**2 + (n2 - 1) * s2**2) / (n1 + n2 - 2))\n",
    "s_p"
   ]
  },
  {
   "cell_type": "code",
   "execution_count": 14,
   "id": "3afd22d8-ab01-4384-b7ef-2d096efd9366",
   "metadata": {},
   "outputs": [
    {
     "data": {
      "text/plain": [
       "-2.6252287036468456"
      ]
     },
     "execution_count": 14,
     "metadata": {},
     "output_type": "execute_result"
    }
   ],
   "source": [
    "# calculate test statistic\n",
    "\n",
    "t = (xbar1 - xbar2) / (s_p * sqrt(1/n1 + 1/n2))\n",
    "t"
   ]
  },
  {
   "cell_type": "code",
   "execution_count": 17,
   "id": "2b5cc5f9-6358-4111-85e3-5e3de61b24b1",
   "metadata": {},
   "outputs": [
    {
     "data": {
      "text/plain": [
       "0.01020985244923939"
      ]
     },
     "execution_count": 17,
     "metadata": {},
     "output_type": "execute_result"
    }
   ],
   "source": [
    "# calculate p value\n",
    "\n",
    "p = stats.t(degf).cdf(t) * 2\n",
    "p"
   ]
  },
  {
   "cell_type": "markdown",
   "id": "417116da-e0a7-4934-9143-7f6aabe7b1ac",
   "metadata": {},
   "source": [
    "***Because p < 0.05, we can reject the null hypothesis and can say that the difference in average time that it takes to sell homes in the two different offices is statistically significant***"
   ]
  },
  {
   "cell_type": "markdown",
   "id": "607b3035-e391-4e5b-b1b8-69cb64bef736",
   "metadata": {},
   "source": [
    "### 2."
   ]
  },
  {
   "cell_type": "markdown",
   "id": "b6d3389b-9f79-43ee-853a-31f63fe20ab0",
   "metadata": {},
   "source": [
    "Load the mpg dataset and use it to answer the following questions:\n",
    "\n",
    "- Is there a difference in fuel-efficiency in cars from 2008 vs 1999?\n",
    "- Are compact cars more fuel-efficient than the average car?\n",
    "- Do manual cars get better gas mileage than automatic cars?"
   ]
  },
  {
   "cell_type": "code",
   "execution_count": 39,
   "id": "9814a6ed-49c3-4261-a006-a4b898e9b0dd",
   "metadata": {},
   "outputs": [
    {
     "data": {
      "text/html": [
       "<div>\n",
       "<style scoped>\n",
       "    .dataframe tbody tr th:only-of-type {\n",
       "        vertical-align: middle;\n",
       "    }\n",
       "\n",
       "    .dataframe tbody tr th {\n",
       "        vertical-align: top;\n",
       "    }\n",
       "\n",
       "    .dataframe thead th {\n",
       "        text-align: right;\n",
       "    }\n",
       "</style>\n",
       "<table border=\"1\" class=\"dataframe\">\n",
       "  <thead>\n",
       "    <tr style=\"text-align: right;\">\n",
       "      <th></th>\n",
       "      <th>manufacturer</th>\n",
       "      <th>model</th>\n",
       "      <th>displ</th>\n",
       "      <th>year</th>\n",
       "      <th>cyl</th>\n",
       "      <th>trans</th>\n",
       "      <th>drv</th>\n",
       "      <th>cty</th>\n",
       "      <th>hwy</th>\n",
       "      <th>fl</th>\n",
       "      <th>class</th>\n",
       "    </tr>\n",
       "  </thead>\n",
       "  <tbody>\n",
       "    <tr>\n",
       "      <th>1</th>\n",
       "      <td>audi</td>\n",
       "      <td>a4</td>\n",
       "      <td>1.8</td>\n",
       "      <td>1999</td>\n",
       "      <td>4</td>\n",
       "      <td>auto(l5)</td>\n",
       "      <td>f</td>\n",
       "      <td>18</td>\n",
       "      <td>29</td>\n",
       "      <td>p</td>\n",
       "      <td>compact</td>\n",
       "    </tr>\n",
       "    <tr>\n",
       "      <th>2</th>\n",
       "      <td>audi</td>\n",
       "      <td>a4</td>\n",
       "      <td>1.8</td>\n",
       "      <td>1999</td>\n",
       "      <td>4</td>\n",
       "      <td>manual(m5)</td>\n",
       "      <td>f</td>\n",
       "      <td>21</td>\n",
       "      <td>29</td>\n",
       "      <td>p</td>\n",
       "      <td>compact</td>\n",
       "    </tr>\n",
       "    <tr>\n",
       "      <th>3</th>\n",
       "      <td>audi</td>\n",
       "      <td>a4</td>\n",
       "      <td>2.0</td>\n",
       "      <td>2008</td>\n",
       "      <td>4</td>\n",
       "      <td>manual(m6)</td>\n",
       "      <td>f</td>\n",
       "      <td>20</td>\n",
       "      <td>31</td>\n",
       "      <td>p</td>\n",
       "      <td>compact</td>\n",
       "    </tr>\n",
       "    <tr>\n",
       "      <th>4</th>\n",
       "      <td>audi</td>\n",
       "      <td>a4</td>\n",
       "      <td>2.0</td>\n",
       "      <td>2008</td>\n",
       "      <td>4</td>\n",
       "      <td>auto(av)</td>\n",
       "      <td>f</td>\n",
       "      <td>21</td>\n",
       "      <td>30</td>\n",
       "      <td>p</td>\n",
       "      <td>compact</td>\n",
       "    </tr>\n",
       "    <tr>\n",
       "      <th>5</th>\n",
       "      <td>audi</td>\n",
       "      <td>a4</td>\n",
       "      <td>2.8</td>\n",
       "      <td>1999</td>\n",
       "      <td>6</td>\n",
       "      <td>auto(l5)</td>\n",
       "      <td>f</td>\n",
       "      <td>16</td>\n",
       "      <td>26</td>\n",
       "      <td>p</td>\n",
       "      <td>compact</td>\n",
       "    </tr>\n",
       "  </tbody>\n",
       "</table>\n",
       "</div>"
      ],
      "text/plain": [
       "  manufacturer model  displ  year  cyl       trans drv  cty  hwy fl    class\n",
       "1         audi    a4    1.8  1999    4    auto(l5)   f   18   29  p  compact\n",
       "2         audi    a4    1.8  1999    4  manual(m5)   f   21   29  p  compact\n",
       "3         audi    a4    2.0  2008    4  manual(m6)   f   20   31  p  compact\n",
       "4         audi    a4    2.0  2008    4    auto(av)   f   21   30  p  compact\n",
       "5         audi    a4    2.8  1999    6    auto(l5)   f   16   26  p  compact"
      ]
     },
     "execution_count": 39,
     "metadata": {},
     "output_type": "execute_result"
    }
   ],
   "source": [
    "# load the mpg dataset\n",
    "mpg = data('mpg')\n",
    "mpg.head()"
   ]
  },
  {
   "cell_type": "markdown",
   "id": "0202e999-a272-4f0e-a394-830fe2a9430b",
   "metadata": {},
   "source": [
    "#### Is there a difference in fuel-efficiency in cars from 2008 vs 1999?"
   ]
  },
  {
   "cell_type": "code",
   "execution_count": 35,
   "id": "7b4011cd-7a7e-4b7d-b69e-0925246e53d3",
   "metadata": {},
   "outputs": [
    {
     "data": {
      "text/plain": [
       "year\n",
       "1999    117\n",
       "2008    117\n",
       "Name: cyl, dtype: int64"
      ]
     },
     "execution_count": 35,
     "metadata": {},
     "output_type": "execute_result"
    }
   ],
   "source": [
    "mpg.groupby('year').cyl.count()"
   ]
  },
  {
   "cell_type": "markdown",
   "id": "825fa74f-6d90-4f74-8fe4-43f86d159dfe",
   "metadata": {},
   "source": [
    "##### **Hypotheses:**\n",
    "\n",
    "H0: there is no difference in average fuel efficiency in cars made in 2008 vs those made in 1999\n",
    "\n",
    "Ha: there is a difference in average fuel efficiency in cars made in 2008 vs those made in 1999\n",
    "\n",
    "Two sample t-test is needed. Two tailed.\n"
   ]
  },
  {
   "cell_type": "code",
   "execution_count": 41,
   "id": "04f0ad7d-5303-46a9-8ae7-8ff9ce0dc640",
   "metadata": {},
   "outputs": [
    {
     "data": {
      "text/html": [
       "<div>\n",
       "<style scoped>\n",
       "    .dataframe tbody tr th:only-of-type {\n",
       "        vertical-align: middle;\n",
       "    }\n",
       "\n",
       "    .dataframe tbody tr th {\n",
       "        vertical-align: top;\n",
       "    }\n",
       "\n",
       "    .dataframe thead th {\n",
       "        text-align: right;\n",
       "    }\n",
       "</style>\n",
       "<table border=\"1\" class=\"dataframe\">\n",
       "  <thead>\n",
       "    <tr style=\"text-align: right;\">\n",
       "      <th></th>\n",
       "      <th>manufacturer</th>\n",
       "      <th>model</th>\n",
       "      <th>displ</th>\n",
       "      <th>year</th>\n",
       "      <th>cyl</th>\n",
       "      <th>trans</th>\n",
       "      <th>drv</th>\n",
       "      <th>cty</th>\n",
       "      <th>hwy</th>\n",
       "      <th>fl</th>\n",
       "      <th>class</th>\n",
       "      <th>avg_mpg</th>\n",
       "    </tr>\n",
       "  </thead>\n",
       "  <tbody>\n",
       "    <tr>\n",
       "      <th>1</th>\n",
       "      <td>audi</td>\n",
       "      <td>a4</td>\n",
       "      <td>1.8</td>\n",
       "      <td>1999</td>\n",
       "      <td>4</td>\n",
       "      <td>auto(l5)</td>\n",
       "      <td>f</td>\n",
       "      <td>18</td>\n",
       "      <td>29</td>\n",
       "      <td>p</td>\n",
       "      <td>compact</td>\n",
       "      <td>23.5</td>\n",
       "    </tr>\n",
       "    <tr>\n",
       "      <th>2</th>\n",
       "      <td>audi</td>\n",
       "      <td>a4</td>\n",
       "      <td>1.8</td>\n",
       "      <td>1999</td>\n",
       "      <td>4</td>\n",
       "      <td>manual(m5)</td>\n",
       "      <td>f</td>\n",
       "      <td>21</td>\n",
       "      <td>29</td>\n",
       "      <td>p</td>\n",
       "      <td>compact</td>\n",
       "      <td>25.0</td>\n",
       "    </tr>\n",
       "    <tr>\n",
       "      <th>3</th>\n",
       "      <td>audi</td>\n",
       "      <td>a4</td>\n",
       "      <td>2.0</td>\n",
       "      <td>2008</td>\n",
       "      <td>4</td>\n",
       "      <td>manual(m6)</td>\n",
       "      <td>f</td>\n",
       "      <td>20</td>\n",
       "      <td>31</td>\n",
       "      <td>p</td>\n",
       "      <td>compact</td>\n",
       "      <td>25.5</td>\n",
       "    </tr>\n",
       "    <tr>\n",
       "      <th>4</th>\n",
       "      <td>audi</td>\n",
       "      <td>a4</td>\n",
       "      <td>2.0</td>\n",
       "      <td>2008</td>\n",
       "      <td>4</td>\n",
       "      <td>auto(av)</td>\n",
       "      <td>f</td>\n",
       "      <td>21</td>\n",
       "      <td>30</td>\n",
       "      <td>p</td>\n",
       "      <td>compact</td>\n",
       "      <td>25.5</td>\n",
       "    </tr>\n",
       "    <tr>\n",
       "      <th>5</th>\n",
       "      <td>audi</td>\n",
       "      <td>a4</td>\n",
       "      <td>2.8</td>\n",
       "      <td>1999</td>\n",
       "      <td>6</td>\n",
       "      <td>auto(l5)</td>\n",
       "      <td>f</td>\n",
       "      <td>16</td>\n",
       "      <td>26</td>\n",
       "      <td>p</td>\n",
       "      <td>compact</td>\n",
       "      <td>21.0</td>\n",
       "    </tr>\n",
       "  </tbody>\n",
       "</table>\n",
       "</div>"
      ],
      "text/plain": [
       "  manufacturer model  displ  year  cyl       trans drv  cty  hwy fl    class  \\\n",
       "1         audi    a4    1.8  1999    4    auto(l5)   f   18   29  p  compact   \n",
       "2         audi    a4    1.8  1999    4  manual(m5)   f   21   29  p  compact   \n",
       "3         audi    a4    2.0  2008    4  manual(m6)   f   20   31  p  compact   \n",
       "4         audi    a4    2.0  2008    4    auto(av)   f   21   30  p  compact   \n",
       "5         audi    a4    2.8  1999    6    auto(l5)   f   16   26  p  compact   \n",
       "\n",
       "   avg_mpg  \n",
       "1     23.5  \n",
       "2     25.0  \n",
       "3     25.5  \n",
       "4     25.5  \n",
       "5     21.0  "
      ]
     },
     "execution_count": 41,
     "metadata": {},
     "output_type": "execute_result"
    }
   ],
   "source": [
    "# add a column for average fuel efficiency that is the average of city and hwy mpg\n",
    "mpg['avg_mpg'] = (mpg.cty + mpg.hwy) / 2\n",
    "mpg.head()"
   ]
  },
  {
   "cell_type": "code",
   "execution_count": 44,
   "id": "af4f558e-9a5f-492a-8543-a1f891aea6d8",
   "metadata": {},
   "outputs": [
    {
     "data": {
      "text/plain": [
       "3     25.5\n",
       "4     25.5\n",
       "7     22.5\n",
       "10    24.0\n",
       "11    23.0\n",
       "Name: avg_mpg, dtype: float64"
      ]
     },
     "execution_count": 44,
     "metadata": {},
     "output_type": "execute_result"
    }
   ],
   "source": [
    "# create pandas series for each group using boolean masks\n",
    "Oeight = mpg[mpg.year == 2008].avg_mpg\n",
    "Oeight.head()"
   ]
  },
  {
   "cell_type": "code",
   "execution_count": 48,
   "id": "079cf8f7-96f5-459d-98a1-3cb6ca22f6a9",
   "metadata": {},
   "outputs": [
    {
     "data": {
      "text/plain": [
       "1    23.5\n",
       "2    25.0\n",
       "5    21.0\n",
       "6    22.0\n",
       "8    22.0\n",
       "Name: avg_mpg, dtype: float64"
      ]
     },
     "execution_count": 48,
     "metadata": {},
     "output_type": "execute_result"
    }
   ],
   "source": [
    "ninety_nine = mpg[mpg.year == 1999].avg_mpg\n",
    "ninety_nine.head()"
   ]
  },
  {
   "cell_type": "markdown",
   "id": "b1b02dd4-2cc9-41a3-8697-6adf6400ac68",
   "metadata": {},
   "source": [
    "##### **Test assumptions:**"
   ]
  },
  {
   "cell_type": "code",
   "execution_count": 49,
   "id": "a8370420-2cdf-423c-95fe-f2217926b798",
   "metadata": {},
   "outputs": [
    {
     "data": {
      "text/plain": [
       "<AxesSubplot:>"
      ]
     },
     "execution_count": 49,
     "metadata": {},
     "output_type": "execute_result"
    },
    {
     "data": {
      "image/png": "[encoded data removed]",
      "text/plain": [
       "<Figure size 648x432 with 1 Axes>"
      ]
     },
     "metadata": {
      "needs_background": "light"
     },
     "output_type": "display_data"
    }
   ],
   "source": [
    "# plot distributions to see if normal\n",
    "\n",
    "Oeight.hist()"
   ]
  },
  {
   "cell_type": "code",
   "execution_count": 51,
   "id": "24793b78-c227-48aa-9b47-91b1e1c3fe05",
   "metadata": {},
   "outputs": [
    {
     "data": {
      "text/plain": [
       "117"
      ]
     },
     "execution_count": 51,
     "metadata": {},
     "output_type": "execute_result"
    }
   ],
   "source": [
    "Oeight.size"
   ]
  },
  {
   "cell_type": "code",
   "execution_count": 53,
   "id": "61f8c723-a637-40c6-a379-c7331eb128e5",
   "metadata": {},
   "outputs": [
    {
     "data": {
      "text/plain": [
       "<AxesSubplot:>"
      ]
     },
     "execution_count": 53,
     "metadata": {},
     "output_type": "execute_result"
    },
    {
     "data": {
      "image/png": "[encoded data removed]",
      "text/plain": [
       "<Figure size 648x432 with 1 Axes>"
      ]
     },
     "metadata": {
      "needs_background": "light"
     },
     "output_type": "display_data"
    }
   ],
   "source": [
    "ninety_nine.hist()"
   ]
  },
  {
   "cell_type": "code",
   "execution_count": 52,
   "id": "04a05d1a-ee33-456a-a7cb-264bacc37ae9",
   "metadata": {},
   "outputs": [],
   "source": [
    "# normal enough due to large number of observations"
   ]
  },
  {
   "cell_type": "code",
   "execution_count": 54,
   "id": "a524c1c5-cc0e-4fcb-b311-1dfe65a89a30",
   "metadata": {},
   "outputs": [
    {
     "data": {
      "text/plain": [
       "24.097480106100797"
      ]
     },
     "execution_count": 54,
     "metadata": {},
     "output_type": "execute_result"
    }
   ],
   "source": [
    "# check variances\n",
    "Oeight.var()"
   ]
  },
  {
   "cell_type": "code",
   "execution_count": 55,
   "id": "ecf54f68-3985-4da0-92f9-b054d4a9cbea",
   "metadata": {},
   "outputs": [
    {
     "data": {
      "text/plain": [
       "27.122605363984682"
      ]
     },
     "execution_count": 55,
     "metadata": {},
     "output_type": "execute_result"
    }
   ],
   "source": [
    "ninety_nine.var()"
   ]
  },
  {
   "cell_type": "code",
   "execution_count": 56,
   "id": "b9876910-3472-46fa-ad09-8dd7ed68b7d8",
   "metadata": {},
   "outputs": [],
   "source": [
    "# close enough"
   ]
  },
  {
   "cell_type": "markdown",
   "id": "e6aeb99e-d62b-4f5f-868c-9a43f3e2c496",
   "metadata": {},
   "source": [
    "##### Compute Test Statistic and p value:"
   ]
  },
  {
   "cell_type": "code",
   "execution_count": 58,
   "id": "3458fe3a-0148-4b8c-8c1d-0a64781f8f93",
   "metadata": {},
   "outputs": [
    {
     "data": {
      "text/plain": [
       "(-0.21960177245940962, 0.8263744040323578)"
      ]
     },
     "execution_count": 58,
     "metadata": {},
     "output_type": "execute_result"
    }
   ],
   "source": [
    "# compute test statistic\n",
    "\n",
    "t, p = stats.ttest_ind(Oeight, ninety_nine, equal_var = True) # not necessary to include equal_var argument \n",
    "# here since same as default, but adding to remember argument exists\n",
    "t, p"
   ]
  },
  {
   "cell_type": "code",
   "execution_count": 120,
   "id": "ecf757ec-5fd1-477c-87dd-7996df92752d",
   "metadata": {},
   "outputs": [
    {
     "data": {
      "text/plain": [
       "(-0.21960177245940962, 0.8263750772060638)"
      ]
     },
     "execution_count": 120,
     "metadata": {},
     "output_type": "execute_result"
    }
   ],
   "source": [
    "t, p = stats.ttest_ind(Oeight, ninety_nine, equal_var = False) # checking to copare difference\n",
    "t, p"
   ]
  },
  {
   "cell_type": "code",
   "execution_count": 59,
   "id": "6aa515e3-e06c-4312-b92c-f900d5df0940",
   "metadata": {},
   "outputs": [
    {
     "data": {
      "text/plain": [
       "20.076923076923077"
      ]
     },
     "execution_count": 59,
     "metadata": {},
     "output_type": "execute_result"
    }
   ],
   "source": [
    "Oeight.mean()"
   ]
  },
  {
   "cell_type": "code",
   "execution_count": 60,
   "id": "ae326d9a-7df5-4e29-8f8a-2b4179b0f1b6",
   "metadata": {},
   "outputs": [
    {
     "data": {
      "text/plain": [
       "20.22222222222222"
      ]
     },
     "execution_count": 60,
     "metadata": {},
     "output_type": "execute_result"
    }
   ],
   "source": [
    "ninety_nine.mean()"
   ]
  },
  {
   "cell_type": "markdown",
   "id": "c5ff064d-a6c3-43ba-9ab7-42ba8ac7816b",
   "metadata": {},
   "source": [
    "##### Conclusion: "
   ]
  },
  {
   "cell_type": "markdown",
   "id": "a94c0585-3970-4943-9627-c8270e1a1c98",
   "metadata": {},
   "source": [
    "***We fail to reject the null hypothesis and conclude that there is not a statistically significant difference between the means of the two groups***"
   ]
  },
  {
   "cell_type": "code",
   "execution_count": 61,
   "id": "4877502c-2d45-4548-813c-75fe69874936",
   "metadata": {},
   "outputs": [],
   "source": [
    "# double check answer with Mann-Whitney's test"
   ]
  },
  {
   "cell_type": "code",
   "execution_count": 62,
   "id": "834fb6b3-3fe9-467c-abcd-f2f3974b90c0",
   "metadata": {},
   "outputs": [
    {
     "data": {
      "text/plain": [
       "MannwhitneyuResult(statistic=6678.5, pvalue=0.3744934268007572)"
      ]
     },
     "execution_count": 62,
     "metadata": {},
     "output_type": "execute_result"
    }
   ],
   "source": [
    "stats.mannwhitneyu(Oeight, ninety_nine)"
   ]
  },
  {
   "cell_type": "code",
   "execution_count": 63,
   "id": "6ebb3fd3-7fe6-4fb2-9b6f-516de56e1551",
   "metadata": {},
   "outputs": [],
   "source": [
    "# p value for non-parametric test is also above 0.05"
   ]
  },
  {
   "cell_type": "markdown",
   "id": "b4125faf-a2b6-436f-bc2e-6271c7577fb1",
   "metadata": {},
   "source": [
    "#### Are compact cars more fuel-efficient than the average car?"
   ]
  },
  {
   "cell_type": "code",
   "execution_count": 64,
   "id": "ca0cdc52-3384-463f-ba04-2f62199fa7a4",
   "metadata": {},
   "outputs": [
    {
     "data": {
      "text/html": [
       "<div>\n",
       "<style scoped>\n",
       "    .dataframe tbody tr th:only-of-type {\n",
       "        vertical-align: middle;\n",
       "    }\n",
       "\n",
       "    .dataframe tbody tr th {\n",
       "        vertical-align: top;\n",
       "    }\n",
       "\n",
       "    .dataframe thead th {\n",
       "        text-align: right;\n",
       "    }\n",
       "</style>\n",
       "<table border=\"1\" class=\"dataframe\">\n",
       "  <thead>\n",
       "    <tr style=\"text-align: right;\">\n",
       "      <th></th>\n",
       "      <th>manufacturer</th>\n",
       "      <th>model</th>\n",
       "      <th>displ</th>\n",
       "      <th>year</th>\n",
       "      <th>cyl</th>\n",
       "      <th>trans</th>\n",
       "      <th>drv</th>\n",
       "      <th>cty</th>\n",
       "      <th>hwy</th>\n",
       "      <th>fl</th>\n",
       "      <th>class</th>\n",
       "      <th>avg_mpg</th>\n",
       "    </tr>\n",
       "  </thead>\n",
       "  <tbody>\n",
       "    <tr>\n",
       "      <th>1</th>\n",
       "      <td>audi</td>\n",
       "      <td>a4</td>\n",
       "      <td>1.8</td>\n",
       "      <td>1999</td>\n",
       "      <td>4</td>\n",
       "      <td>auto(l5)</td>\n",
       "      <td>f</td>\n",
       "      <td>18</td>\n",
       "      <td>29</td>\n",
       "      <td>p</td>\n",
       "      <td>compact</td>\n",
       "      <td>23.5</td>\n",
       "    </tr>\n",
       "    <tr>\n",
       "      <th>2</th>\n",
       "      <td>audi</td>\n",
       "      <td>a4</td>\n",
       "      <td>1.8</td>\n",
       "      <td>1999</td>\n",
       "      <td>4</td>\n",
       "      <td>manual(m5)</td>\n",
       "      <td>f</td>\n",
       "      <td>21</td>\n",
       "      <td>29</td>\n",
       "      <td>p</td>\n",
       "      <td>compact</td>\n",
       "      <td>25.0</td>\n",
       "    </tr>\n",
       "    <tr>\n",
       "      <th>3</th>\n",
       "      <td>audi</td>\n",
       "      <td>a4</td>\n",
       "      <td>2.0</td>\n",
       "      <td>2008</td>\n",
       "      <td>4</td>\n",
       "      <td>manual(m6)</td>\n",
       "      <td>f</td>\n",
       "      <td>20</td>\n",
       "      <td>31</td>\n",
       "      <td>p</td>\n",
       "      <td>compact</td>\n",
       "      <td>25.5</td>\n",
       "    </tr>\n",
       "    <tr>\n",
       "      <th>4</th>\n",
       "      <td>audi</td>\n",
       "      <td>a4</td>\n",
       "      <td>2.0</td>\n",
       "      <td>2008</td>\n",
       "      <td>4</td>\n",
       "      <td>auto(av)</td>\n",
       "      <td>f</td>\n",
       "      <td>21</td>\n",
       "      <td>30</td>\n",
       "      <td>p</td>\n",
       "      <td>compact</td>\n",
       "      <td>25.5</td>\n",
       "    </tr>\n",
       "    <tr>\n",
       "      <th>5</th>\n",
       "      <td>audi</td>\n",
       "      <td>a4</td>\n",
       "      <td>2.8</td>\n",
       "      <td>1999</td>\n",
       "      <td>6</td>\n",
       "      <td>auto(l5)</td>\n",
       "      <td>f</td>\n",
       "      <td>16</td>\n",
       "      <td>26</td>\n",
       "      <td>p</td>\n",
       "      <td>compact</td>\n",
       "      <td>21.0</td>\n",
       "    </tr>\n",
       "  </tbody>\n",
       "</table>\n",
       "</div>"
      ],
      "text/plain": [
       "  manufacturer model  displ  year  cyl       trans drv  cty  hwy fl    class  \\\n",
       "1         audi    a4    1.8  1999    4    auto(l5)   f   18   29  p  compact   \n",
       "2         audi    a4    1.8  1999    4  manual(m5)   f   21   29  p  compact   \n",
       "3         audi    a4    2.0  2008    4  manual(m6)   f   20   31  p  compact   \n",
       "4         audi    a4    2.0  2008    4    auto(av)   f   21   30  p  compact   \n",
       "5         audi    a4    2.8  1999    6    auto(l5)   f   16   26  p  compact   \n",
       "\n",
       "   avg_mpg  \n",
       "1     23.5  \n",
       "2     25.0  \n",
       "3     25.5  \n",
       "4     25.5  \n",
       "5     21.0  "
      ]
     },
     "execution_count": 64,
     "metadata": {},
     "output_type": "execute_result"
    }
   ],
   "source": [
    "mpg.head()"
   ]
  },
  {
   "cell_type": "code",
   "execution_count": 65,
   "id": "b85624f8-1c59-43ca-bc4e-bb513a9d0047",
   "metadata": {},
   "outputs": [
    {
     "data": {
      "text/plain": [
       "class\n",
       "2seater        5\n",
       "compact       47\n",
       "midsize       41\n",
       "minivan       11\n",
       "pickup        33\n",
       "subcompact    35\n",
       "suv           62\n",
       "Name: cyl, dtype: int64"
      ]
     },
     "execution_count": 65,
     "metadata": {},
     "output_type": "execute_result"
    }
   ],
   "source": [
    "mpg.groupby('class').cyl.count()"
   ]
  },
  {
   "cell_type": "markdown",
   "id": "b9579ec3-6f9a-47ac-9499-8fea84808062",
   "metadata": {},
   "source": [
    "##### Hypotheses:"
   ]
  },
  {
   "cell_type": "markdown",
   "id": "a316c93c-2cb7-4f01-b50b-626a87cc8177",
   "metadata": {},
   "source": [
    "This will be one sample t test and single tailed\n",
    "\n",
    "H0: Average mpg of compact cars is less than or equal to that of all other cars\n",
    "\n",
    "Ha: Average mpg of compact cars is greater than that of all other cars"
   ]
  },
  {
   "cell_type": "code",
   "execution_count": 71,
   "id": "f6c9be18-65a6-4c75-8f83-63e6048dfad4",
   "metadata": {},
   "outputs": [
    {
     "data": {
      "text/plain": [
       "1    23.5\n",
       "2    25.0\n",
       "3    25.5\n",
       "4    25.5\n",
       "5    21.0\n",
       "Name: avg_mpg, dtype: float64"
      ]
     },
     "execution_count": 71,
     "metadata": {},
     "output_type": "execute_result"
    }
   ],
   "source": [
    "# create pandas series for each group using boolean masks\n",
    "\n",
    "compact = mpg[mpg['class'] == 'compact'].avg_mpg\n",
    "compact.head()"
   ]
  },
  {
   "cell_type": "code",
   "execution_count": 73,
   "id": "84d07206-9d0e-4fd7-82f4-94afbbf5454d",
   "metadata": {},
   "outputs": [
    {
     "data": {
      "text/plain": [
       "1    23.5\n",
       "2    25.0\n",
       "3    25.5\n",
       "4    25.5\n",
       "5    21.0\n",
       "Name: avg_mpg, dtype: float64"
      ]
     },
     "execution_count": 73,
     "metadata": {},
     "output_type": "execute_result"
    }
   ],
   "source": [
    "all_cars = mpg.avg_mpg\n",
    "all_cars.head()"
   ]
  },
  {
   "cell_type": "code",
   "execution_count": 75,
   "id": "65210c56-38ed-4eac-a1b6-ce0de0f2bcfb",
   "metadata": {},
   "outputs": [
    {
     "data": {
      "text/plain": [
       "24.21276595744681"
      ]
     },
     "execution_count": 75,
     "metadata": {},
     "output_type": "execute_result"
    }
   ],
   "source": [
    "# look at averages to get an idea before running test\n",
    "\n",
    "compact.mean()"
   ]
  },
  {
   "cell_type": "code",
   "execution_count": 76,
   "id": "61aed9b0-08da-44c1-9d85-7d274f06bffc",
   "metadata": {},
   "outputs": [
    {
     "data": {
      "text/plain": [
       "20.14957264957265"
      ]
     },
     "execution_count": 76,
     "metadata": {},
     "output_type": "execute_result"
    }
   ],
   "source": [
    "all_cars.mean()"
   ]
  },
  {
   "cell_type": "markdown",
   "id": "f10836ec-c22a-465b-b713-ef18d4ddeda6",
   "metadata": {},
   "source": [
    "##### Test assumptions:"
   ]
  },
  {
   "cell_type": "code",
   "execution_count": 77,
   "id": "03b61b80-96cd-472c-be8c-36ee83e2498f",
   "metadata": {},
   "outputs": [
    {
     "data": {
      "text/plain": [
       "<AxesSubplot:>"
      ]
     },
     "execution_count": 77,
     "metadata": {},
     "output_type": "execute_result"
    },
    {
     "data": {
      "image/png": "[encoded data removed]",
      "text/plain": [
       "<Figure size 648x432 with 1 Axes>"
      ]
     },
     "metadata": {
      "needs_background": "light"
     },
     "output_type": "display_data"
    }
   ],
   "source": [
    "compact.hist()"
   ]
  },
  {
   "cell_type": "code",
   "execution_count": 78,
   "id": "b307dd48-19bc-4ea4-a833-e66b6d2dcffd",
   "metadata": {},
   "outputs": [
    {
     "data": {
      "text/plain": [
       "47"
      ]
     },
     "execution_count": 78,
     "metadata": {},
     "output_type": "execute_result"
    }
   ],
   "source": [
    "compact.size"
   ]
  },
  {
   "cell_type": "code",
   "execution_count": 79,
   "id": "8843b618-7427-4b08-ab03-6b681f08060c",
   "metadata": {},
   "outputs": [],
   "source": [
    "# close enough to normal and has more than 30 observations"
   ]
  },
  {
   "cell_type": "code",
   "execution_count": 80,
   "id": "cb5ed68f-f29e-49f8-87ec-08e5e12de00b",
   "metadata": {},
   "outputs": [
    {
     "data": {
      "text/plain": [
       "<AxesSubplot:>"
      ]
     },
     "execution_count": 80,
     "metadata": {},
     "output_type": "execute_result"
    },
    {
     "data": {
      "image/png": "[encoded data removed]",
      "text/plain": [
       "<Figure size 648x432 with 1 Axes>"
      ]
     },
     "metadata": {
      "needs_background": "light"
     },
     "output_type": "display_data"
    }
   ],
   "source": [
    "all_cars.hist()"
   ]
  },
  {
   "cell_type": "code",
   "execution_count": 81,
   "id": "cb372557-aac5-4881-9f05-64be00eea4d9",
   "metadata": {},
   "outputs": [
    {
     "data": {
      "text/plain": [
       "234"
      ]
     },
     "execution_count": 81,
     "metadata": {},
     "output_type": "execute_result"
    }
   ],
   "source": [
    "all_cars.size"
   ]
  },
  {
   "cell_type": "code",
   "execution_count": 82,
   "id": "73ef650f-d5a0-435c-8c7b-57cea7f8fd9c",
   "metadata": {},
   "outputs": [],
   "source": [
    "# close enough to normal and has more than 30 observations"
   ]
  },
  {
   "cell_type": "markdown",
   "id": "2395523b-7e74-480d-9f27-c6701d45fa5a",
   "metadata": {},
   "source": [
    "##### Compute Test Statistic and p value:"
   ]
  },
  {
   "cell_type": "code",
   "execution_count": 85,
   "id": "e5212e63-1ca8-42a0-80c2-f7c04d62c486",
   "metadata": {},
   "outputs": [
    {
     "data": {
      "text/plain": [
       "(7.896888573132535, 2.0992818971585668e-10)"
      ]
     },
     "execution_count": 85,
     "metadata": {},
     "output_type": "execute_result"
    }
   ],
   "source": [
    "t, p = stats.ttest_1samp(compact, all_cars.mean())\n",
    "t, p/2"
   ]
  },
  {
   "cell_type": "code",
   "execution_count": 90,
   "id": "4e63d167-5207-4f9e-88ec-9f478fa14471",
   "metadata": {},
   "outputs": [],
   "source": [
    "#help(stats.ttest_1samp)"
   ]
  },
  {
   "cell_type": "markdown",
   "id": "da450377-ca3f-4143-a0df-13c7047d08d1",
   "metadata": {},
   "source": [
    "##### Conclusion: "
   ]
  },
  {
   "cell_type": "markdown",
   "id": "bf99b340-b41e-4586-8425-578567ccdc7b",
   "metadata": {},
   "source": [
    "***We reject the null hypothesis and have evidence to support that there is a statistically significant different in average fuel efficiency between compact cars and all other cars and that they have better average fuel efficiency.***"
   ]
  },
  {
   "cell_type": "code",
   "execution_count": 87,
   "id": "5a2f88b9-ea51-4654-9057-5c0f9bcdba4c",
   "metadata": {},
   "outputs": [],
   "source": [
    "# investigate necessary args for Wilcoxon signed rank test\n",
    "#help(stats.wilcoxon)"
   ]
  },
  {
   "cell_type": "code",
   "execution_count": 92,
   "id": "d8c25268-e444-45be-83bb-f9f6fd54373a",
   "metadata": {},
   "outputs": [],
   "source": [
    "# run non-parametric test and compare results\n",
    "\n",
    "#stats.wilcoxon(compact, all_cars)\n",
    "\n",
    "# this didn't work for this problem, arrays passed in must be of same length and it doesn't accept a\n",
    "# pop mean like the stats.ttest_1samp() does, would need to look more into how to set things up to \n",
    "# run this test"
   ]
  },
  {
   "cell_type": "markdown",
   "id": "8a00062a-d402-4660-ad57-05fde4d70df2",
   "metadata": {},
   "source": [
    "#### Do manual cars get better gas mileage than automatic cars?"
   ]
  },
  {
   "cell_type": "markdown",
   "id": "ef439509-c7d4-4910-b49e-5ddc132f9a82",
   "metadata": {},
   "source": [
    "##### Hypotheses:"
   ]
  },
  {
   "cell_type": "markdown",
   "id": "404f6427-acda-448e-a6af-3d5466cbe31c",
   "metadata": {},
   "source": [
    "Two sample t test with single tail\n",
    "\n",
    "H0: Gas mileage of manual cars is less than or equal to that of automatic cars\n",
    "\n",
    "Ha: Manual cars get better gas mileage than automatic cars"
   ]
  },
  {
   "cell_type": "code",
   "execution_count": 93,
   "id": "52b8a15b-2d35-4e64-8b15-bf3a19105a70",
   "metadata": {},
   "outputs": [
    {
     "data": {
      "text/html": [
       "<div>\n",
       "<style scoped>\n",
       "    .dataframe tbody tr th:only-of-type {\n",
       "        vertical-align: middle;\n",
       "    }\n",
       "\n",
       "    .dataframe tbody tr th {\n",
       "        vertical-align: top;\n",
       "    }\n",
       "\n",
       "    .dataframe thead th {\n",
       "        text-align: right;\n",
       "    }\n",
       "</style>\n",
       "<table border=\"1\" class=\"dataframe\">\n",
       "  <thead>\n",
       "    <tr style=\"text-align: right;\">\n",
       "      <th></th>\n",
       "      <th>manufacturer</th>\n",
       "      <th>model</th>\n",
       "      <th>displ</th>\n",
       "      <th>year</th>\n",
       "      <th>cyl</th>\n",
       "      <th>trans</th>\n",
       "      <th>drv</th>\n",
       "      <th>cty</th>\n",
       "      <th>hwy</th>\n",
       "      <th>fl</th>\n",
       "      <th>class</th>\n",
       "      <th>avg_mpg</th>\n",
       "    </tr>\n",
       "  </thead>\n",
       "  <tbody>\n",
       "    <tr>\n",
       "      <th>1</th>\n",
       "      <td>audi</td>\n",
       "      <td>a4</td>\n",
       "      <td>1.8</td>\n",
       "      <td>1999</td>\n",
       "      <td>4</td>\n",
       "      <td>auto(l5)</td>\n",
       "      <td>f</td>\n",
       "      <td>18</td>\n",
       "      <td>29</td>\n",
       "      <td>p</td>\n",
       "      <td>compact</td>\n",
       "      <td>23.5</td>\n",
       "    </tr>\n",
       "    <tr>\n",
       "      <th>2</th>\n",
       "      <td>audi</td>\n",
       "      <td>a4</td>\n",
       "      <td>1.8</td>\n",
       "      <td>1999</td>\n",
       "      <td>4</td>\n",
       "      <td>manual(m5)</td>\n",
       "      <td>f</td>\n",
       "      <td>21</td>\n",
       "      <td>29</td>\n",
       "      <td>p</td>\n",
       "      <td>compact</td>\n",
       "      <td>25.0</td>\n",
       "    </tr>\n",
       "    <tr>\n",
       "      <th>3</th>\n",
       "      <td>audi</td>\n",
       "      <td>a4</td>\n",
       "      <td>2.0</td>\n",
       "      <td>2008</td>\n",
       "      <td>4</td>\n",
       "      <td>manual(m6)</td>\n",
       "      <td>f</td>\n",
       "      <td>20</td>\n",
       "      <td>31</td>\n",
       "      <td>p</td>\n",
       "      <td>compact</td>\n",
       "      <td>25.5</td>\n",
       "    </tr>\n",
       "    <tr>\n",
       "      <th>4</th>\n",
       "      <td>audi</td>\n",
       "      <td>a4</td>\n",
       "      <td>2.0</td>\n",
       "      <td>2008</td>\n",
       "      <td>4</td>\n",
       "      <td>auto(av)</td>\n",
       "      <td>f</td>\n",
       "      <td>21</td>\n",
       "      <td>30</td>\n",
       "      <td>p</td>\n",
       "      <td>compact</td>\n",
       "      <td>25.5</td>\n",
       "    </tr>\n",
       "    <tr>\n",
       "      <th>5</th>\n",
       "      <td>audi</td>\n",
       "      <td>a4</td>\n",
       "      <td>2.8</td>\n",
       "      <td>1999</td>\n",
       "      <td>6</td>\n",
       "      <td>auto(l5)</td>\n",
       "      <td>f</td>\n",
       "      <td>16</td>\n",
       "      <td>26</td>\n",
       "      <td>p</td>\n",
       "      <td>compact</td>\n",
       "      <td>21.0</td>\n",
       "    </tr>\n",
       "  </tbody>\n",
       "</table>\n",
       "</div>"
      ],
      "text/plain": [
       "  manufacturer model  displ  year  cyl       trans drv  cty  hwy fl    class  \\\n",
       "1         audi    a4    1.8  1999    4    auto(l5)   f   18   29  p  compact   \n",
       "2         audi    a4    1.8  1999    4  manual(m5)   f   21   29  p  compact   \n",
       "3         audi    a4    2.0  2008    4  manual(m6)   f   20   31  p  compact   \n",
       "4         audi    a4    2.0  2008    4    auto(av)   f   21   30  p  compact   \n",
       "5         audi    a4    2.8  1999    6    auto(l5)   f   16   26  p  compact   \n",
       "\n",
       "   avg_mpg  \n",
       "1     23.5  \n",
       "2     25.0  \n",
       "3     25.5  \n",
       "4     25.5  \n",
       "5     21.0  "
      ]
     },
     "execution_count": 93,
     "metadata": {},
     "output_type": "execute_result"
    }
   ],
   "source": [
    "# create series for each group using boolean masks\n",
    "mpg.head()"
   ]
  },
  {
   "cell_type": "code",
   "execution_count": 95,
   "id": "79ea11a2-162f-43b7-a9d3-8b8a68e1969d",
   "metadata": {},
   "outputs": [
    {
     "data": {
      "text/html": [
       "<div>\n",
       "<style scoped>\n",
       "    .dataframe tbody tr th:only-of-type {\n",
       "        vertical-align: middle;\n",
       "    }\n",
       "\n",
       "    .dataframe tbody tr th {\n",
       "        vertical-align: top;\n",
       "    }\n",
       "\n",
       "    .dataframe thead th {\n",
       "        text-align: right;\n",
       "    }\n",
       "</style>\n",
       "<table border=\"1\" class=\"dataframe\">\n",
       "  <thead>\n",
       "    <tr style=\"text-align: right;\">\n",
       "      <th></th>\n",
       "      <th>manufacturer</th>\n",
       "      <th>model</th>\n",
       "      <th>displ</th>\n",
       "      <th>year</th>\n",
       "      <th>cyl</th>\n",
       "      <th>trans</th>\n",
       "      <th>drv</th>\n",
       "      <th>cty</th>\n",
       "      <th>hwy</th>\n",
       "      <th>fl</th>\n",
       "      <th>class</th>\n",
       "      <th>avg_mpg</th>\n",
       "      <th>is_auto</th>\n",
       "    </tr>\n",
       "  </thead>\n",
       "  <tbody>\n",
       "    <tr>\n",
       "      <th>1</th>\n",
       "      <td>audi</td>\n",
       "      <td>a4</td>\n",
       "      <td>1.8</td>\n",
       "      <td>1999</td>\n",
       "      <td>4</td>\n",
       "      <td>auto(l5)</td>\n",
       "      <td>f</td>\n",
       "      <td>18</td>\n",
       "      <td>29</td>\n",
       "      <td>p</td>\n",
       "      <td>compact</td>\n",
       "      <td>23.5</td>\n",
       "      <td>True</td>\n",
       "    </tr>\n",
       "    <tr>\n",
       "      <th>2</th>\n",
       "      <td>audi</td>\n",
       "      <td>a4</td>\n",
       "      <td>1.8</td>\n",
       "      <td>1999</td>\n",
       "      <td>4</td>\n",
       "      <td>manual(m5)</td>\n",
       "      <td>f</td>\n",
       "      <td>21</td>\n",
       "      <td>29</td>\n",
       "      <td>p</td>\n",
       "      <td>compact</td>\n",
       "      <td>25.0</td>\n",
       "      <td>False</td>\n",
       "    </tr>\n",
       "    <tr>\n",
       "      <th>3</th>\n",
       "      <td>audi</td>\n",
       "      <td>a4</td>\n",
       "      <td>2.0</td>\n",
       "      <td>2008</td>\n",
       "      <td>4</td>\n",
       "      <td>manual(m6)</td>\n",
       "      <td>f</td>\n",
       "      <td>20</td>\n",
       "      <td>31</td>\n",
       "      <td>p</td>\n",
       "      <td>compact</td>\n",
       "      <td>25.5</td>\n",
       "      <td>False</td>\n",
       "    </tr>\n",
       "    <tr>\n",
       "      <th>4</th>\n",
       "      <td>audi</td>\n",
       "      <td>a4</td>\n",
       "      <td>2.0</td>\n",
       "      <td>2008</td>\n",
       "      <td>4</td>\n",
       "      <td>auto(av)</td>\n",
       "      <td>f</td>\n",
       "      <td>21</td>\n",
       "      <td>30</td>\n",
       "      <td>p</td>\n",
       "      <td>compact</td>\n",
       "      <td>25.5</td>\n",
       "      <td>True</td>\n",
       "    </tr>\n",
       "    <tr>\n",
       "      <th>5</th>\n",
       "      <td>audi</td>\n",
       "      <td>a4</td>\n",
       "      <td>2.8</td>\n",
       "      <td>1999</td>\n",
       "      <td>6</td>\n",
       "      <td>auto(l5)</td>\n",
       "      <td>f</td>\n",
       "      <td>16</td>\n",
       "      <td>26</td>\n",
       "      <td>p</td>\n",
       "      <td>compact</td>\n",
       "      <td>21.0</td>\n",
       "      <td>True</td>\n",
       "    </tr>\n",
       "  </tbody>\n",
       "</table>\n",
       "</div>"
      ],
      "text/plain": [
       "  manufacturer model  displ  year  cyl       trans drv  cty  hwy fl    class  \\\n",
       "1         audi    a4    1.8  1999    4    auto(l5)   f   18   29  p  compact   \n",
       "2         audi    a4    1.8  1999    4  manual(m5)   f   21   29  p  compact   \n",
       "3         audi    a4    2.0  2008    4  manual(m6)   f   20   31  p  compact   \n",
       "4         audi    a4    2.0  2008    4    auto(av)   f   21   30  p  compact   \n",
       "5         audi    a4    2.8  1999    6    auto(l5)   f   16   26  p  compact   \n",
       "\n",
       "   avg_mpg  is_auto  \n",
       "1     23.5     True  \n",
       "2     25.0    False  \n",
       "3     25.5    False  \n",
       "4     25.5     True  \n",
       "5     21.0     True  "
      ]
     },
     "execution_count": 95,
     "metadata": {},
     "output_type": "execute_result"
    }
   ],
   "source": [
    "# create new column for is_auto\n",
    "mpg['is_auto'] = mpg.trans.str.contains(\"auto\")\n",
    "mpg.head()"
   ]
  },
  {
   "cell_type": "code",
   "execution_count": 100,
   "id": "04a64d1a-1c75-4c9d-bec5-010ec1bc69ea",
   "metadata": {},
   "outputs": [
    {
     "data": {
      "text/plain": [
       "1    23.5\n",
       "4    25.5\n",
       "5    21.0\n",
       "7    22.5\n",
       "9    20.5\n",
       "Name: avg_mpg, dtype: float64"
      ]
     },
     "execution_count": 100,
     "metadata": {},
     "output_type": "execute_result"
    }
   ],
   "source": [
    "auto = mpg[mpg.is_auto == True].avg_mpg\n",
    "auto.head()"
   ]
  },
  {
   "cell_type": "code",
   "execution_count": 102,
   "id": "fe03d12f-3cd6-4735-a39d-4a896a8282f0",
   "metadata": {},
   "outputs": [
    {
     "data": {
      "text/plain": [
       "2     25.0\n",
       "3     25.5\n",
       "6     22.0\n",
       "8     22.0\n",
       "10    24.0\n",
       "Name: avg_mpg, dtype: float64"
      ]
     },
     "execution_count": 102,
     "metadata": {},
     "output_type": "execute_result"
    }
   ],
   "source": [
    "manual = mpg[mpg.is_auto == False].avg_mpg\n",
    "manual.head()"
   ]
  },
  {
   "cell_type": "markdown",
   "id": "27daf6ae-0dad-4f6a-a72a-8b59d450ae35",
   "metadata": {},
   "source": [
    "##### Test Assumptions:"
   ]
  },
  {
   "cell_type": "markdown",
   "id": "7724dd6b-a5b7-40b8-b5a1-bc31bdb0ab46",
   "metadata": {},
   "source": [
    "- Independent? Yes\n",
    "- Normally distributed or sufficient observations? Yes (see histograms and observation counts below)\n",
    "- Equal variances? See variance calculations below\n",
    "    - Not sure on this one, will run with both arguments and do non parametric"
   ]
  },
  {
   "cell_type": "code",
   "execution_count": 104,
   "id": "000b9948-1104-4d49-81cd-f16093e5246b",
   "metadata": {},
   "outputs": [
    {
     "data": {
      "text/plain": [
       "<AxesSubplot:>"
      ]
     },
     "execution_count": 104,
     "metadata": {},
     "output_type": "execute_result"
    },
    {
     "data": {
      "image/png": "[encoded data removed]",
      "text/plain": [
       "<Figure size 648x432 with 1 Axes>"
      ]
     },
     "metadata": {
      "needs_background": "light"
     },
     "output_type": "display_data"
    }
   ],
   "source": [
    "auto.hist()"
   ]
  },
  {
   "cell_type": "code",
   "execution_count": 105,
   "id": "8a189df1-d383-44d5-8ac0-1d3e389b8e33",
   "metadata": {},
   "outputs": [
    {
     "data": {
      "text/plain": [
       "157"
      ]
     },
     "execution_count": 105,
     "metadata": {},
     "output_type": "execute_result"
    }
   ],
   "source": [
    "auto.size"
   ]
  },
  {
   "cell_type": "code",
   "execution_count": 106,
   "id": "b15e21c5-6a9c-4122-897d-3793a15b31d5",
   "metadata": {},
   "outputs": [
    {
     "data": {
      "text/plain": [
       "<AxesSubplot:>"
      ]
     },
     "execution_count": 106,
     "metadata": {},
     "output_type": "execute_result"
    },
    {
     "data": {
      "image/png": "[encoded data removed]",
      "text/plain": [
       "<Figure size 648x432 with 1 Axes>"
      ]
     },
     "metadata": {
      "needs_background": "light"
     },
     "output_type": "display_data"
    }
   ],
   "source": [
    "manual.hist()"
   ]
  },
  {
   "cell_type": "code",
   "execution_count": 107,
   "id": "9a7bedce-a947-4a49-8c96-613351bf60a7",
   "metadata": {},
   "outputs": [
    {
     "data": {
      "text/plain": [
       "77"
      ]
     },
     "execution_count": 107,
     "metadata": {},
     "output_type": "execute_result"
    }
   ],
   "source": [
    "manual.size"
   ]
  },
  {
   "cell_type": "code",
   "execution_count": 108,
   "id": "6aa716b5-7ba9-4d7e-a03c-0781e9a5e836",
   "metadata": {},
   "outputs": [
    {
     "data": {
      "text/plain": [
       "21.942777233382337"
      ]
     },
     "execution_count": 108,
     "metadata": {},
     "output_type": "execute_result"
    }
   ],
   "source": [
    "auto.var()"
   ]
  },
  {
   "cell_type": "code",
   "execution_count": 109,
   "id": "b841cd2d-9212-449d-8b69-f39a1d368777",
   "metadata": {},
   "outputs": [
    {
     "data": {
      "text/plain": [
       "26.635167464114826"
      ]
     },
     "execution_count": 109,
     "metadata": {},
     "output_type": "execute_result"
    }
   ],
   "source": [
    "manual.var()"
   ]
  },
  {
   "cell_type": "markdown",
   "id": "630fc485-be09-4a78-be50-15229c961165",
   "metadata": {},
   "source": [
    "##### Compute test statistic and p value:"
   ]
  },
  {
   "cell_type": "code",
   "execution_count": 112,
   "id": "19483b6d-4a17-48f6-8821-5385ebf5c7d2",
   "metadata": {},
   "outputs": [
    {
     "data": {
      "text/plain": [
       "(4.593437735750014, 3.5771872005728416e-06)"
      ]
     },
     "execution_count": 112,
     "metadata": {},
     "output_type": "execute_result"
    }
   ],
   "source": [
    "t, p = stats.ttest_ind(manual, auto, equal_var = True)\n",
    "t, p/2"
   ]
  },
  {
   "cell_type": "code",
   "execution_count": 113,
   "id": "e280beda-2f7d-4dc5-8f80-264c7faa9b5c",
   "metadata": {},
   "outputs": [
    {
     "data": {
      "text/plain": [
       "(4.443514012903071, 8.976124499958965e-06)"
      ]
     },
     "execution_count": 113,
     "metadata": {},
     "output_type": "execute_result"
    }
   ],
   "source": [
    "t, p = stats.ttest_ind(manual, auto, equal_var = False)\n",
    "t, p/2"
   ]
  },
  {
   "cell_type": "code",
   "execution_count": 114,
   "id": "5468acc7-6c2c-4053-85fa-6b6b8e09969d",
   "metadata": {},
   "outputs": [
    {
     "data": {
      "text/plain": [
       "MannwhitneyuResult(statistic=3895.5, pvalue=4.9297998930308745e-06)"
      ]
     },
     "execution_count": 114,
     "metadata": {},
     "output_type": "execute_result"
    }
   ],
   "source": [
    "stats.mannwhitneyu(manual, auto)"
   ]
  },
  {
   "cell_type": "code",
   "execution_count": 115,
   "id": "94254a08-9297-4b40-ba6d-3a88e31cdb24",
   "metadata": {},
   "outputs": [
    {
     "data": {
      "text/plain": [
       "22.227272727272727"
      ]
     },
     "execution_count": 115,
     "metadata": {},
     "output_type": "execute_result"
    }
   ],
   "source": [
    "manual.mean()"
   ]
  },
  {
   "cell_type": "code",
   "execution_count": 116,
   "id": "d4c12d37-5280-4e6c-97f4-4c500a4d85b3",
   "metadata": {},
   "outputs": [
    {
     "data": {
      "text/plain": [
       "19.130573248407643"
      ]
     },
     "execution_count": 116,
     "metadata": {},
     "output_type": "execute_result"
    }
   ],
   "source": [
    "auto.mean()"
   ]
  },
  {
   "cell_type": "markdown",
   "id": "bb7613f5-1e54-471d-9e72-a59acaff8342",
   "metadata": {},
   "source": [
    "##### Conclusion:"
   ]
  },
  {
   "cell_type": "markdown",
   "id": "95a57212-fd91-4033-853f-f8e5c2df7e3e",
   "metadata": {},
   "source": [
    "***We reject the null hypothesis and have evidence that there is a statistically significant difference in mean fuel efficiency between manual and automatic cars and that manual cars have better fuel efficiency on average***"
   ]
  },
  {
   "cell_type": "code",
   "execution_count": null,
   "id": "aad59120-2f82-4868-b7ae-a990167b2c7a",
   "metadata": {},
   "outputs": [],
   "source": []
  }
 ],
 "metadata": {
  "kernelspec": {
   "display_name": "Python 3",
   "language": "python",
   "name": "python3"
  },
  "language_info": {
   "codemirror_mode": {
    "name": "ipython",
    "version": 3
   },
   "file_extension": ".py",
   "mimetype": "text/x-python",
   "name": "python",
   "nbconvert_exporter": "python",
   "pygments_lexer": "ipython3",
   "version": "3.8.8"
  }
 },
 "nbformat": 4,
 "nbformat_minor": 5
}

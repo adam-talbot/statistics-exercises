{
 "cells": [
  {
   "cell_type": "markdown",
   "id": "e4cc0bf9-1a45-45bf-a03c-a83de40ab6bd",
   "metadata": {},
   "source": [
    "# Curriculum Examples"
   ]
  },
  {
   "cell_type": "code",
   "execution_count": 124,
   "id": "a6477b1f-1fb1-442c-8570-ea88a2ba6d7a",
   "metadata": {},
   "outputs": [],
   "source": [
    "import matplotlib.pyplot as plt\n",
    "import numpy as np\n",
    "import pandas as pd\n",
    "from scipy import stats\n",
    "import viz # curriculum viz example code\n",
    "\n",
    "np.random.seed(123)"
   ]
  },
  {
   "cell_type": "code",
   "execution_count": 2,
   "id": "f8539933-1964-4988-a560-c3f83c79454a",
   "metadata": {},
   "outputs": [],
   "source": [
    "die_distribution = stats.randint(1, 7)"
   ]
  },
  {
   "cell_type": "code",
   "execution_count": 8,
   "id": "a4a30b21-d39c-45d6-a1a3-dde474e9348d",
   "metadata": {},
   "outputs": [
    {
     "data": {
      "text/plain": [
       "6"
      ]
     },
     "execution_count": 8,
     "metadata": {},
     "output_type": "execute_result"
    }
   ],
   "source": [
    "die_distribution.rvs()"
   ]
  },
  {
   "cell_type": "code",
   "execution_count": 10,
   "id": "1a5ec398-7d00-4865-9cfb-032d52207e7f",
   "metadata": {},
   "outputs": [
    {
     "data": {
      "text/plain": [
       "Text(0.5, 1.0, 'Outcome of 10,000 Dice Rolls')"
      ]
     },
     "execution_count": 10,
     "metadata": {},
     "output_type": "execute_result"
    },
    {
     "data": {
      "image/png": "[encoded data removed]",
      "text/plain": [
       "<Figure size 648x432 with 1 Axes>"
      ]
     },
     "metadata": {
      "needs_background": "light"
     },
     "output_type": "display_data"
    }
   ],
   "source": [
    "n = 10_000\n",
    "\n",
    "x = die_distribution.rvs(n)\n",
    "\n",
    "plt.hist(x, bins=range(0, 9), align='left', width=1, edgecolor='black')\n",
    "plt.title(f'Outcome of {n:,} Dice Rolls')"
   ]
  },
  {
   "cell_type": "code",
   "execution_count": 11,
   "id": "cf0c0c93-4965-4aaa-9616-f6cd7c26b5d2",
   "metadata": {},
   "outputs": [
    {
     "data": {
      "text/plain": [
       "0.16666666666666666"
      ]
     },
     "execution_count": 11,
     "metadata": {},
     "output_type": "execute_result"
    }
   ],
   "source": [
    "# probability of getting a 3 in this distribution\n",
    "die_distribution.pmf(3)"
   ]
  },
  {
   "cell_type": "code",
   "execution_count": 12,
   "id": "641568ed-6b79-4306-b876-b6aee1962bed",
   "metadata": {},
   "outputs": [
    {
     "data": {
      "text/plain": [
       "array([0.16666667, 0.16666667, 0.16666667])"
      ]
     },
     "execution_count": 12,
     "metadata": {},
     "output_type": "execute_result"
    }
   ],
   "source": [
    "# can also pass in a list of numbers and get back a list of probabilities\n",
    "die_distribution.pmf([1, 2, 3])"
   ]
  },
  {
   "cell_type": "code",
   "execution_count": 13,
   "id": "2891aceb-b5f0-461d-af52-35812dcada92",
   "metadata": {},
   "outputs": [
    {
     "data": {
      "text/plain": [
       "0.5"
      ]
     },
     "execution_count": 13,
     "metadata": {},
     "output_type": "execute_result"
    }
   ],
   "source": [
    "# probability of gettig a 3 or lower (inclusive of value passed)\n",
    "die_distribution.cdf(3)"
   ]
  },
  {
   "cell_type": "code",
   "execution_count": 15,
   "id": "35b00e3e-4b53-442f-a7ec-9946f4d23d79",
   "metadata": {},
   "outputs": [
    {
     "data": {
      "image/png": "[encoded data removed]",
      "text/plain": [
       "<Figure size 648x432 with 1 Axes>"
      ]
     },
     "metadata": {
      "needs_background": "light"
     },
     "output_type": "display_data"
    }
   ],
   "source": [
    "viz.distributions_example1(die_distribution)"
   ]
  },
  {
   "cell_type": "code",
   "execution_count": 16,
   "id": "be871d40-bff8-4f24-bd95-44b386777d42",
   "metadata": {},
   "outputs": [
    {
     "data": {
      "text/plain": [
       "5.0"
      ]
     },
     "execution_count": 16,
     "metadata": {},
     "output_type": "execute_result"
    }
   ],
   "source": [
    "# provide the probability to get the cut off value\n",
    "die_distribution.ppf(5/6)"
   ]
  },
  {
   "cell_type": "code",
   "execution_count": 17,
   "id": "d95820b3-5cab-414f-9791-494209379753",
   "metadata": {},
   "outputs": [
    {
     "data": {
      "text/plain": [
       "0.33333333333333337"
      ]
     },
     "execution_count": 17,
     "metadata": {},
     "output_type": "execute_result"
    }
   ],
   "source": [
    "# probability of getting above a 4 (exclusive of value passed)\n",
    "die_distribution.sf(4)"
   ]
  },
  {
   "cell_type": "code",
   "execution_count": 18,
   "id": "b5c8e5b4-5e03-437a-93c3-5bb71d3ee9cb",
   "metadata": {},
   "outputs": [
    {
     "data": {
      "image/png": "[encoded data removed]",
      "text/plain": [
       "<Figure size 648x432 with 1 Axes>"
      ]
     },
     "metadata": {
      "needs_background": "light"
     },
     "output_type": "display_data"
    }
   ],
   "source": [
    "viz.distributions_example2(die_distribution)"
   ]
  },
  {
   "cell_type": "code",
   "execution_count": 19,
   "id": "4c0956ff-3743-48f3-8473-a05cbbc7bce7",
   "metadata": {},
   "outputs": [
    {
     "data": {
      "text/plain": [
       "4.0"
      ]
     },
     "execution_count": 19,
     "metadata": {},
     "output_type": "execute_result"
    }
   ],
   "source": [
    "# provide value to get probability\n",
    "die_distribution.isf(1/3)"
   ]
  },
  {
   "cell_type": "code",
   "execution_count": 22,
   "id": "1aa594c5-75c8-467f-a3e0-e9773ff03927",
   "metadata": {},
   "outputs": [],
   "source": [
    "test = stats.binom(30, .25)\n",
    "# number of trials and probability of success"
   ]
  },
  {
   "cell_type": "code",
   "execution_count": 24,
   "id": "497b1c11-8dbd-4002-bdc0-42a87eac317a",
   "metadata": {},
   "outputs": [
    {
     "data": {
      "text/plain": [
       "array([4, 9, 6, 8, 1])"
      ]
     },
     "execution_count": 24,
     "metadata": {},
     "output_type": "execute_result"
    }
   ],
   "source": [
    "test.rvs(5)"
   ]
  },
  {
   "cell_type": "code",
   "execution_count": 25,
   "id": "c76d254c-847c-4370-8d34-b4b4e1daf43c",
   "metadata": {},
   "outputs": [
    {
     "data": {
      "text/plain": [
       "0.10572812269266013"
      ]
     },
     "execution_count": 25,
     "metadata": {},
     "output_type": "execute_result"
    }
   ],
   "source": [
    "# probability of getting more than 10 right\n",
    "test.sf(10)"
   ]
  },
  {
   "cell_type": "code",
   "execution_count": 26,
   "id": "95936e75-f30f-4ac3-888a-632ccb0b3540",
   "metadata": {},
   "outputs": [
    {
     "data": {
      "image/png": "[encoded data removed]",
      "text/plain": [
       "<Figure size 720x576 with 2 Axes>"
      ]
     },
     "metadata": {
      "needs_background": "light"
     },
     "output_type": "display_data"
    }
   ],
   "source": [
    "viz.distributions_example3()"
   ]
  },
  {
   "cell_type": "code",
   "execution_count": 27,
   "id": "0914c5b5-e0b8-4379-9973-375666f63b40",
   "metadata": {},
   "outputs": [
    {
     "data": {
      "image/png": "[encoded data removed]",
      "text/plain": [
       "<Figure size 576x360 with 1 Axes>"
      ]
     },
     "metadata": {
      "needs_background": "light"
     },
     "output_type": "display_data"
    }
   ],
   "source": [
    "viz.distributions_example4()\n"
   ]
  },
  {
   "cell_type": "code",
   "execution_count": 28,
   "id": "8ca24cef-d6b7-4afc-bc13-a829042f38c5",
   "metadata": {},
   "outputs": [
    {
     "data": {
      "text/plain": [
       "0.3584859224085422"
      ]
     },
     "execution_count": 28,
     "metadata": {},
     "output_type": "execute_result"
    }
   ],
   "source": [
    "stats.binom(20, .05).pmf(0)"
   ]
  },
  {
   "cell_type": "code",
   "execution_count": 29,
   "id": "60707029-222c-4982-a51e-49315cb3168a",
   "metadata": {},
   "outputs": [
    {
     "data": {
      "image/png": "[encoded data removed]",
      "text/plain": [
       "<Figure size 648x432 with 1 Axes>"
      ]
     },
     "metadata": {
      "needs_background": "light"
     },
     "output_type": "display_data"
    }
   ],
   "source": [
    "viz.distributions_example5()"
   ]
  },
  {
   "cell_type": "code",
   "execution_count": 30,
   "id": "6e157dc7-5249-4cda-9e23-0dbd6af1fa9c",
   "metadata": {},
   "outputs": [
    {
     "data": {
      "image/png": "[encoded data removed]",
      "text/plain": [
       "<Figure size 1152x720 with 4 Axes>"
      ]
     },
     "metadata": {
      "needs_background": "light"
     },
     "output_type": "display_data"
    }
   ],
   "source": [
    "viz.distributions_example6()\n"
   ]
  },
  {
   "cell_type": "code",
   "execution_count": 31,
   "id": "8fb4e6d0-1c47-4d7b-92a5-1750c7fc9e0d",
   "metadata": {},
   "outputs": [
    {
     "name": "stdout",
     "output_type": "stream",
     "text": [
      "$14,563.10\n"
     ]
    }
   ],
   "source": [
    "μ = 12000\n",
    "σ = 2000\n",
    "\n",
    "sales = stats.norm(μ, σ)\n",
    "\n",
    "top_10_percent_cutoff = sales.ppf(.9)\n",
    "\n",
    "print('${:,.2f}'.format(top_10_percent_cutoff))"
   ]
  },
  {
   "cell_type": "code",
   "execution_count": 33,
   "id": "89fac2ff-561d-422a-86f8-824f542647ca",
   "metadata": {},
   "outputs": [
    {
     "data": {
      "text/plain": [
       "14563.103131089201"
      ]
     },
     "execution_count": 33,
     "metadata": {},
     "output_type": "execute_result"
    }
   ],
   "source": [
    "top10 = sales.isf(0.1)\n",
    "top10"
   ]
  },
  {
   "cell_type": "code",
   "execution_count": 34,
   "id": "f27f20c9-bdcd-421b-bf09-4544abcae165",
   "metadata": {},
   "outputs": [
    {
     "data": {
      "image/png": "[encoded data removed]",
      "text/plain": [
       "<Figure size 648x432 with 1 Axes>"
      ]
     },
     "metadata": {
      "needs_background": "light"
     },
     "output_type": "display_data"
    }
   ],
   "source": [
    "viz.distributions_example7(μ, σ)"
   ]
  },
  {
   "cell_type": "code",
   "execution_count": 36,
   "id": "6fa4dfb6-fea7-4b2c-8d95-c9753a992c21",
   "metadata": {},
   "outputs": [
    {
     "data": {
      "text/plain": [
       "0.15865525393145707"
      ]
     },
     "execution_count": 36,
     "metadata": {},
     "output_type": "execute_result"
    }
   ],
   "source": [
    "p = sales.cdf(10_000)\n",
    "p"
   ]
  },
  {
   "cell_type": "code",
   "execution_count": 37,
   "id": "b5168621-a3a1-48b0-9aad-58509be70781",
   "metadata": {},
   "outputs": [
    {
     "name": "stderr",
     "output_type": "stream",
     "text": [
      "/usr/local/anaconda3/lib/python3.8/site-packages/seaborn/distributions.py:2557: FutureWarning: `distplot` is a deprecated function and will be removed in a future version. Please adapt your code to use either `displot` (a figure-level function with similar flexibility) or `histplot` (an axes-level function for histograms).\n",
      "  warnings.warn(msg, FutureWarning)\n",
      "/usr/local/anaconda3/lib/python3.8/site-packages/seaborn/distributions.py:2557: FutureWarning: `distplot` is a deprecated function and will be removed in a future version. Please adapt your code to use either `displot` (a figure-level function with similar flexibility) or `histplot` (an axes-level function for histograms).\n",
      "  warnings.warn(msg, FutureWarning)\n",
      "/usr/local/anaconda3/lib/python3.8/site-packages/seaborn/distributions.py:2557: FutureWarning: `distplot` is a deprecated function and will be removed in a future version. Please adapt your code to use either `displot` (a figure-level function with similar flexibility) or `histplot` (an axes-level function for histograms).\n",
      "  warnings.warn(msg, FutureWarning)\n",
      "/usr/local/anaconda3/lib/python3.8/site-packages/seaborn/distributions.py:2557: FutureWarning: `distplot` is a deprecated function and will be removed in a future version. Please adapt your code to use either `displot` (a figure-level function with similar flexibility) or `histplot` (an axes-level function for histograms).\n",
      "  warnings.warn(msg, FutureWarning)\n"
     ]
    },
    {
     "data": {
      "image/png": "[encoded data removed]",
      "text/plain": [
       "<Figure size 864x648 with 1 Axes>"
      ]
     },
     "metadata": {
      "needs_background": "light"
     },
     "output_type": "display_data"
    }
   ],
   "source": [
    "viz.distributions_example8()"
   ]
  },
  {
   "cell_type": "code",
   "execution_count": 41,
   "id": "94f5b910-dd38-4820-934a-63e3951d8519",
   "metadata": {},
   "outputs": [
    {
     "data": {
      "text/plain": [
       "0.1403738958142805"
      ]
     },
     "execution_count": 41,
     "metadata": {},
     "output_type": "execute_result"
    }
   ],
   "source": [
    "stats.poisson(5).pmf(3)"
   ]
  },
  {
   "cell_type": "code",
   "execution_count": 39,
   "id": "022fa398-4f65-4167-9b25-dbfb8c690a6c",
   "metadata": {},
   "outputs": [
    {
     "data": {
      "image/png": "[encoded data removed]",
      "text/plain": [
       "<Figure size 648x432 with 1 Axes>"
      ]
     },
     "metadata": {
      "needs_background": "light"
     },
     "output_type": "display_data"
    }
   ],
   "source": [
    "viz.distributions_example10()"
   ]
  },
  {
   "cell_type": "code",
   "execution_count": 42,
   "id": "cdca4d49-7660-44bf-9e0a-ee7bc5f6d786",
   "metadata": {},
   "outputs": [
    {
     "data": {
      "text/plain": [
       "0.13337167407000744"
      ]
     },
     "execution_count": 42,
     "metadata": {},
     "output_type": "execute_result"
    }
   ],
   "source": [
    "stats.poisson(5).sf(7)"
   ]
  },
  {
   "cell_type": "code",
   "execution_count": 43,
   "id": "4c5e169b-32e8-4c29-8f48-57c15a6fe8e3",
   "metadata": {},
   "outputs": [
    {
     "data": {
      "image/png": "[encoded data removed]",
      "text/plain": [
       "<Figure size 648x432 with 1 Axes>"
      ]
     },
     "metadata": {
      "needs_background": "light"
     },
     "output_type": "display_data"
    }
   ],
   "source": [
    "viz.distributions_example11()\n"
   ]
  },
  {
   "cell_type": "code",
   "execution_count": 44,
   "id": "58808f15-04e9-491a-b273-0298933cb6b2",
   "metadata": {},
   "outputs": [
    {
     "data": {
      "image/png": "[encoded data removed]",
      "text/plain": [
       "<Figure size 936x720 with 4 Axes>"
      ]
     },
     "metadata": {
      "needs_background": "light"
     },
     "output_type": "display_data"
    }
   ],
   "source": [
    "viz.distributions_example12()\n"
   ]
  },
  {
   "cell_type": "markdown",
   "id": "add95759-c34b-4eae-81fd-9d558eb13fdc",
   "metadata": {},
   "source": [
    "# Exercises Theoretical"
   ]
  },
  {
   "cell_type": "markdown",
   "id": "ef64f918-5642-43d1-b670-a165b94a6a4c",
   "metadata": {},
   "source": [
    "For the following problems, use python to simulate the problem and calculate an experimental probability, then compare that to the theoretical probability."
   ]
  },
  {
   "cell_type": "markdown",
   "id": "c75c6d7c-ebcc-4d94-b00a-23fa757331a2",
   "metadata": {},
   "source": [
    "#### 1."
   ]
  },
  {
   "cell_type": "markdown",
   "id": "e0392f65-728e-4295-8222-9f656cf075a6",
   "metadata": {},
   "source": [
    "A bank found that the average number of cars waiting during the noon hour at a drive-up window follows a Poisson distribution with a mean of 2 cars. Make a chart of this distribution and answer these questions concerning the probability of cars waiting at the drive-up window.\n",
    "- What is the probability that no cars drive up in the noon hour?\n",
    "- What is the probability that 3 or more cars come through the drive through?\n",
    "- How likely is it that the drive through gets at least 1 car?"
   ]
  },
  {
   "cell_type": "code",
   "execution_count": 46,
   "id": "7ddf78cf-f4fa-44bc-96ea-fac55d451c53",
   "metadata": {},
   "outputs": [],
   "source": [
    "# create the poisson dist\n",
    "cars = stats.poisson(2)"
   ]
  },
  {
   "cell_type": "code",
   "execution_count": 155,
   "id": "84ecc055-deea-45ba-8142-e8f58a87da67",
   "metadata": {},
   "outputs": [
    {
     "data": {
      "text/plain": [
       "(array([1.35149e+05, 2.70906e+05, 2.70513e+05, 1.80960e+05, 9.03490e+04,\n",
       "        3.57310e+04, 1.19120e+04, 3.39400e+03, 8.68000e+02, 2.12000e+02]),\n",
       " array([ 0,  1,  2,  3,  4,  5,  6,  7,  8,  9, 10]),\n",
       " <BarContainer object of 10 artists>)"
      ]
     },
     "execution_count": 155,
     "metadata": {},
     "output_type": "execute_result"
    },
    {
     "data": {
      "image/png": "[encoded data removed]",
      "text/plain": [
       "<Figure size 648x432 with 1 Axes>"
      ]
     },
     "metadata": {
      "needs_background": "light"
     },
     "output_type": "display_data"
    }
   ],
   "source": [
    "# create a chart of this distribution\n",
    "n = 1_000_000\n",
    "\n",
    "x = cars.rvs(n)\n",
    "\n",
    "# plt.hist(x)\n",
    "plt.hist(x, bins=range(0, 11), align='left', width=1, edgecolor='black')"
   ]
  },
  {
   "cell_type": "code",
   "execution_count": 59,
   "id": "56b404cd-6583-4dea-ad74-a2fffcd335c4",
   "metadata": {},
   "outputs": [
    {
     "data": {
      "text/plain": [
       "0.1353352832366127"
      ]
     },
     "execution_count": 59,
     "metadata": {},
     "output_type": "execute_result"
    }
   ],
   "source": [
    "# probability of no cars\n",
    "cars.pmf(0)"
   ]
  },
  {
   "cell_type": "code",
   "execution_count": 157,
   "id": "ff6a5fe0-8d4d-41c8-9c6f-ddf7b807a781",
   "metadata": {},
   "outputs": [
    {
     "data": {
      "text/plain": [
       "0.135149"
      ]
     },
     "execution_count": 157,
     "metadata": {},
     "output_type": "execute_result"
    }
   ],
   "source": [
    "# experimental probability\n",
    "(x == 0).mean()"
   ]
  },
  {
   "cell_type": "code",
   "execution_count": 159,
   "id": "fbbb22e9-f276-4b6e-a437-8f1e1957d01a",
   "metadata": {},
   "outputs": [],
   "source": [
    "# 3 or more cars "
   ]
  },
  {
   "cell_type": "code",
   "execution_count": 62,
   "id": "71adac33-4f4c-4e3f-ba4b-5e0d1d6b7b1c",
   "metadata": {},
   "outputs": [
    {
     "data": {
      "text/plain": [
       "0.3233235838169366"
      ]
     },
     "execution_count": 62,
     "metadata": {},
     "output_type": "execute_result"
    }
   ],
   "source": [
    "# could use 1 minues the cdf\n",
    "1 - cars.cdf(2)"
   ]
  },
  {
   "cell_type": "code",
   "execution_count": 63,
   "id": "1abeb3b2-903e-49a0-aa05-2cc05aefc55b",
   "metadata": {},
   "outputs": [
    {
     "data": {
      "text/plain": [
       "0.3233235838169365"
      ]
     },
     "execution_count": 63,
     "metadata": {},
     "output_type": "execute_result"
    }
   ],
   "source": [
    "# could use probability of 3 and add prob of more than 3\n",
    "cars.pmf(3) + cars.sf(3)"
   ]
  },
  {
   "cell_type": "code",
   "execution_count": 217,
   "id": "53698464-b12c-4738-8fb2-72cfe37a94cb",
   "metadata": {},
   "outputs": [
    {
     "data": {
      "text/plain": [
       "0.32332358381693654"
      ]
     },
     "execution_count": 217,
     "metadata": {},
     "output_type": "execute_result"
    }
   ],
   "source": [
    "# another method\n",
    "cars.sf(2)"
   ]
  },
  {
   "cell_type": "code",
   "execution_count": 158,
   "id": "4a03e14f-8fec-47a6-9f42-6b1ffab2847c",
   "metadata": {},
   "outputs": [
    {
     "data": {
      "text/plain": [
       "0.323432"
      ]
     },
     "execution_count": 158,
     "metadata": {},
     "output_type": "execute_result"
    }
   ],
   "source": [
    "# experimental\n",
    "(x >= 3).mean()"
   ]
  },
  {
   "cell_type": "code",
   "execution_count": 64,
   "id": "fc7421a1-a516-404c-b4d9-ada9ac23a52d",
   "metadata": {},
   "outputs": [
    {
     "data": {
      "text/plain": [
       "0.8646647167633873"
      ]
     },
     "execution_count": 64,
     "metadata": {},
     "output_type": "execute_result"
    }
   ],
   "source": [
    "# at least 1 car (1 or more)\n",
    "1 - cars.cdf(0)"
   ]
  },
  {
   "cell_type": "code",
   "execution_count": 65,
   "id": "e60800b1-51f7-4367-9c63-2479a01dd6c1",
   "metadata": {},
   "outputs": [
    {
     "data": {
      "text/plain": [
       "0.864664716763387"
      ]
     },
     "execution_count": 65,
     "metadata": {},
     "output_type": "execute_result"
    }
   ],
   "source": [
    "cars.pmf(1) + cars.sf(1)"
   ]
  },
  {
   "cell_type": "code",
   "execution_count": 218,
   "id": "19574c7a-2848-4c46-a1b1-994e4af9e749",
   "metadata": {},
   "outputs": [
    {
     "data": {
      "text/plain": [
       "0.8646647167633873"
      ]
     },
     "execution_count": 218,
     "metadata": {},
     "output_type": "execute_result"
    }
   ],
   "source": [
    "# another method\n",
    "cars.sf(0)"
   ]
  },
  {
   "cell_type": "code",
   "execution_count": 160,
   "id": "d7d6b1aa-944a-4257-8a84-e3ff6ba74229",
   "metadata": {},
   "outputs": [
    {
     "data": {
      "text/plain": [
       "0.864851"
      ]
     },
     "execution_count": 160,
     "metadata": {},
     "output_type": "execute_result"
    }
   ],
   "source": [
    "# experimental\n",
    "(x >= 1).mean()"
   ]
  },
  {
   "cell_type": "markdown",
   "id": "2248cb35-1131-4e73-bb85-e382bcde01fc",
   "metadata": {},
   "source": [
    "#### 2."
   ]
  },
  {
   "cell_type": "markdown",
   "id": "2d4224c6-0cfd-4dc5-9388-9b613704353e",
   "metadata": {},
   "source": [
    "Grades of State University graduates are normally distributed with a mean of 3.0 and a standard deviation of .3. Calculate the following:\n",
    "- What grade point average is required to be in the top 5% of the graduating class?\n",
    "- What GPA constitutes the bottom 15% of the class?\n",
    "- An eccentric alumnus left scholarship money for students in the third decile from the bottom of their class. Determine the range of the third decile. Would a student with a 2.8 grade point average qualify for this scholarship?\n",
    "- If I have a GPA of 3.5, what percentile am I in?"
   ]
  },
  {
   "cell_type": "code",
   "execution_count": 76,
   "id": "f3ae978f-581e-4c91-90b3-15b0522d4594",
   "metadata": {},
   "outputs": [],
   "source": [
    "# create the normal distribution\n",
    "\n",
    "μ = 3\n",
    "σ = 0.3\n",
    "\n",
    "grades = stats.norm(μ, σ)"
   ]
  },
  {
   "cell_type": "code",
   "execution_count": 161,
   "id": "d3bc7a2c-2f47-4c00-88fc-b310dcfd7279",
   "metadata": {},
   "outputs": [],
   "source": [
    "# add values to distribution\n",
    "\n",
    "x = grades.rvs(n)"
   ]
  },
  {
   "cell_type": "code",
   "execution_count": 80,
   "id": "ec7f3507-e02f-42c1-8442-ea7f81fdc15f",
   "metadata": {},
   "outputs": [
    {
     "data": {
      "text/plain": [
       "3.4934560880854417"
      ]
     },
     "execution_count": 80,
     "metadata": {},
     "output_type": "execute_result"
    }
   ],
   "source": [
    "# What grade point average is required to be in the top 5% of the graduating class?\n",
    "\n",
    "grades.isf(0.05)"
   ]
  },
  {
   "cell_type": "code",
   "execution_count": 85,
   "id": "0340180a-6196-4dd7-891b-85da9793304a",
   "metadata": {},
   "outputs": [
    {
     "data": {
      "text/plain": [
       "3.4934560880854417"
      ]
     },
     "execution_count": 85,
     "metadata": {},
     "output_type": "execute_result"
    }
   ],
   "source": [
    "grades.ppf(0.95)"
   ]
  },
  {
   "cell_type": "code",
   "execution_count": 166,
   "id": "3e1222ad-4e86-4caf-86ad-70639443d9e0",
   "metadata": {},
   "outputs": [
    {
     "data": {
      "text/plain": [
       "3.4933754438455096"
      ]
     },
     "execution_count": 166,
     "metadata": {},
     "output_type": "execute_result"
    }
   ],
   "source": [
    "# experimental\n",
    "np.percentile(x, 95)"
   ]
  },
  {
   "cell_type": "code",
   "execution_count": 86,
   "id": "8d6e2190-d489-4666-9c1d-53bde9ba6fee",
   "metadata": {},
   "outputs": [
    {
     "data": {
      "text/plain": [
       "2.689069983151863"
      ]
     },
     "execution_count": 86,
     "metadata": {},
     "output_type": "execute_result"
    }
   ],
   "source": [
    "# What GPA constitutes the bottom 15% of the class?\n",
    "\n",
    "grades.ppf(0.15)"
   ]
  },
  {
   "cell_type": "code",
   "execution_count": 87,
   "id": "9d5ed22b-c7fd-4fe9-81e3-f6722ee1d7c3",
   "metadata": {},
   "outputs": [
    {
     "data": {
      "text/plain": [
       "2.689069983151863"
      ]
     },
     "execution_count": 87,
     "metadata": {},
     "output_type": "execute_result"
    }
   ],
   "source": [
    "grades.isf(0.85)"
   ]
  },
  {
   "cell_type": "code",
   "execution_count": 167,
   "id": "5c35e7cd-67b0-4dfa-8d8f-9f0dafe5b022",
   "metadata": {},
   "outputs": [
    {
     "data": {
      "text/plain": [
       "2.6889202150632254"
      ]
     },
     "execution_count": 167,
     "metadata": {},
     "output_type": "execute_result"
    }
   ],
   "source": [
    "# experimental\n",
    "np.percentile(x, 15)"
   ]
  },
  {
   "cell_type": "code",
   "execution_count": 93,
   "id": "7ce2d67b-606d-4357-ac97-24f765e49c1a",
   "metadata": {},
   "outputs": [
    {
     "data": {
      "text/plain": [
       "2.7475136299281258"
      ]
     },
     "execution_count": 93,
     "metadata": {},
     "output_type": "execute_result"
    }
   ],
   "source": [
    "# An eccentric alumnus left scholarship money for students in the third decile from the bottom \n",
    "# of their class. Determine the range of the third decile. Would a student with a 2.8 grade point \n",
    "# average qualify for this scholarship?\n",
    "# 20 - 30 percentile range\n",
    "\n",
    "# find GPA for 0.2 first\n",
    "grades.ppf(0.2)"
   ]
  },
  {
   "cell_type": "code",
   "execution_count": 168,
   "id": "754e7d26-e20e-46bd-acb8-1120592e3dc2",
   "metadata": {},
   "outputs": [
    {
     "data": {
      "text/plain": [
       "2.7475746950881677"
      ]
     },
     "execution_count": 168,
     "metadata": {},
     "output_type": "execute_result"
    }
   ],
   "source": [
    "# experimental\n",
    "np.percentile(x, 20)"
   ]
  },
  {
   "cell_type": "code",
   "execution_count": 94,
   "id": "36ecbaf8-84c6-46b5-81e3-ba77cfeff2f6",
   "metadata": {},
   "outputs": [
    {
     "data": {
      "text/plain": [
       "2.842679846187588"
      ]
     },
     "execution_count": 94,
     "metadata": {},
     "output_type": "execute_result"
    }
   ],
   "source": [
    "# now find gpa for 0.3\n",
    "grades.ppf(0.3)"
   ]
  },
  {
   "cell_type": "code",
   "execution_count": 169,
   "id": "0dedefee-5e7f-436d-a2b3-12f459e5e0c6",
   "metadata": {},
   "outputs": [
    {
     "data": {
      "text/plain": [
       "2.842686031196279"
      ]
     },
     "execution_count": 169,
     "metadata": {},
     "output_type": "execute_result"
    }
   ],
   "source": [
    "# experimental\n",
    "np.percentile(x, 30)"
   ]
  },
  {
   "cell_type": "code",
   "execution_count": null,
   "id": "1dddfd24-36ff-4a6b-9195-c594b2c5432b",
   "metadata": {},
   "outputs": [],
   "source": [
    "# Would a student with a 2.8 grade point average qualify for this scholarship?\n",
    "\n",
    "# Yes, that number is contained in the gpa range defined above"
   ]
  },
  {
   "cell_type": "code",
   "execution_count": 96,
   "id": "4ed975ab-fd67-49eb-961a-14330e107e91",
   "metadata": {},
   "outputs": [
    {
     "data": {
      "text/plain": [
       "0.9522096477271853"
      ]
     },
     "execution_count": 96,
     "metadata": {},
     "output_type": "execute_result"
    }
   ],
   "source": [
    "# If I have a GPA of 3.5, what percentile am I in?\n",
    "\n",
    "grades.cdf(3.5)"
   ]
  },
  {
   "cell_type": "code",
   "execution_count": 171,
   "id": "f60f8d8b-a056-4810-96e1-0a6407b105d3",
   "metadata": {},
   "outputs": [
    {
     "data": {
      "text/plain": [
       "0.952191"
      ]
     },
     "execution_count": 171,
     "metadata": {},
     "output_type": "execute_result"
    }
   ],
   "source": [
    "# experimental\n",
    "(x <= 3.5).mean()"
   ]
  },
  {
   "cell_type": "markdown",
   "id": "68c70c49-e042-4703-89a4-02d5a3c73563",
   "metadata": {},
   "source": [
    "#### 3."
   ]
  },
  {
   "cell_type": "markdown",
   "id": "f9c758ac-26d2-47b2-9a53-7c4f4af2f0a1",
   "metadata": {},
   "source": [
    "A marketing website has an average click-through rate of 2%. One day they observe 4326 visitors and 97 click-throughs. How likely is it that this many people or more click through?"
   ]
  },
  {
   "cell_type": "code",
   "execution_count": 105,
   "id": "2609e56b-9789-4803-8be3-b00fff9d1a21",
   "metadata": {},
   "outputs": [
    {
     "data": {
      "text/plain": [
       "0.13975823631333503"
      ]
     },
     "execution_count": 105,
     "metadata": {},
     "output_type": "execute_result"
    }
   ],
   "source": [
    "# binomial distribution\n",
    "# success = click through\n",
    "website = stats.binom(4326, 0.02)\n",
    "\n",
    "website.pmf(97) +  website.sf(97)"
   ]
  },
  {
   "cell_type": "code",
   "execution_count": 106,
   "id": "87a53e91-2a25-4c64-98b3-73f3853bced1",
   "metadata": {},
   "outputs": [
    {
     "data": {
      "text/plain": [
       "0.1397582363130252"
      ]
     },
     "execution_count": 106,
     "metadata": {},
     "output_type": "execute_result"
    }
   ],
   "source": [
    "1 - website.cdf(96)"
   ]
  },
  {
   "cell_type": "code",
   "execution_count": 172,
   "id": "efec2276-81b6-4330-aa4e-ebc303b52149",
   "metadata": {},
   "outputs": [],
   "source": [
    "# generate some real values\n",
    "x = website.rvs(n)"
   ]
  },
  {
   "cell_type": "code",
   "execution_count": 174,
   "id": "0e707ea2-0d89-42a0-b38a-58cedf5a4ba6",
   "metadata": {},
   "outputs": [
    {
     "data": {
      "text/plain": [
       "0.139164"
      ]
     },
     "execution_count": 174,
     "metadata": {},
     "output_type": "execute_result"
    }
   ],
   "source": [
    "(x >= 97).mean()"
   ]
  },
  {
   "cell_type": "markdown",
   "id": "aeb8165a-8c02-47f2-85c0-15496bc8fbe2",
   "metadata": {},
   "source": [
    "#### 4."
   ]
  },
  {
   "cell_type": "markdown",
   "id": "8a2574ce-482a-4bdd-a7c2-a42f2880063d",
   "metadata": {},
   "source": [
    "You are working on some statistics homework consisting of 100 questions where all of the answers are a probability rounded to the hundreths place. Looking to save time, you put down random probabilities as the answer to each question.\n",
    "- What is the probability that at least one of your first 60 answers is correct?"
   ]
  },
  {
   "cell_type": "code",
   "execution_count": 120,
   "id": "5ddf0420-0173-4d40-b375-79ef4c7360e7",
   "metadata": {},
   "outputs": [
    {
     "data": {
      "text/plain": [
       "0.4528433576092542"
      ]
     },
     "execution_count": 120,
     "metadata": {},
     "output_type": "execute_result"
    }
   ],
   "source": [
    "# binomial dist\n",
    "# success = correct answer\n",
    "# number of trials = 60\n",
    "# what is probability of success? 1/100 since probabilites only range from 0-1\n",
    "# at least one = one or more\n",
    "\n",
    "hw = stats.binom(60, 1/100)\n",
    "hw.pmf(1) + hw.sf(1)"
   ]
  },
  {
   "cell_type": "code",
   "execution_count": 122,
   "id": "5ac3d0a8-a623-451f-ba04-cb7921b55542",
   "metadata": {},
   "outputs": [
    {
     "data": {
      "text/plain": [
       "0.4528433576092388"
      ]
     },
     "execution_count": 122,
     "metadata": {},
     "output_type": "execute_result"
    }
   ],
   "source": [
    "1 - hw.cdf(0)"
   ]
  },
  {
   "cell_type": "code",
   "execution_count": 220,
   "id": "b0051881-1fc3-48ac-af38-46ce3860d5ed",
   "metadata": {},
   "outputs": [
    {
     "data": {
      "text/plain": [
       "0.4528433576092388"
      ]
     },
     "execution_count": 220,
     "metadata": {},
     "output_type": "execute_result"
    }
   ],
   "source": [
    "hw.sf(0)"
   ]
  },
  {
   "cell_type": "code",
   "execution_count": 177,
   "id": "8d2088ca-0e1f-4549-8053-2ee0d0b0909d",
   "metadata": {},
   "outputs": [],
   "source": [
    "# generate some real values\n",
    "x = hw.rvs(n)"
   ]
  },
  {
   "cell_type": "code",
   "execution_count": 179,
   "id": "79b4cae7-bf28-4e20-8395-0c4fb2b9e830",
   "metadata": {},
   "outputs": [
    {
     "data": {
      "text/plain": [
       "0.454232"
      ]
     },
     "execution_count": 179,
     "metadata": {},
     "output_type": "execute_result"
    }
   ],
   "source": [
    "# experimental probability\n",
    "(x >= 1).mean()"
   ]
  },
  {
   "cell_type": "markdown",
   "id": "f3c9eff6-2f03-465d-8980-f7032e2c4274",
   "metadata": {},
   "source": [
    "#### 5."
   ]
  },
  {
   "cell_type": "markdown",
   "id": "1a48b7c3-8b88-4fca-beb6-f00b0873ff7d",
   "metadata": {},
   "source": [
    "The codeup staff tends to get upset when the student break area is not cleaned up. Suppose that there's a 3% chance that any one student cleans the break area when they visit it, and, on any given day, about 90% of the 3 active cohorts of 22 students visit the break area. How likely is it that the break area gets cleaned up each day? How likely is it that it goes two days without getting cleaned up? All week?"
   ]
  },
  {
   "cell_type": "code",
   "execution_count": 223,
   "id": "9c9686a9-d85c-4e0a-943c-94288985d403",
   "metadata": {},
   "outputs": [],
   "source": [
    "# binomial\n",
    "# success = student cleans the break area\n",
    "# probability of success = 0.03\n",
    "# number of trials = 0.9(66) = 59.4 ~ 59\n",
    "\n",
    "clean = stats.binom(59, 0.03)"
   ]
  },
  {
   "cell_type": "code",
   "execution_count": 224,
   "id": "8a7b2ee7-1c9a-443d-bac9-fcdc5bc6981e",
   "metadata": {},
   "outputs": [],
   "source": [
    "# generate some real numbers\n",
    "\n",
    "x = clean.rvs(n)"
   ]
  },
  {
   "cell_type": "code",
   "execution_count": 196,
   "id": "4229bfab-afb9-4358-8319-c9c8fda818cc",
   "metadata": {},
   "outputs": [
    {
     "data": {
      "text/plain": [
       "0.8342199288437275"
      ]
     },
     "execution_count": 196,
     "metadata": {},
     "output_type": "execute_result"
    }
   ],
   "source": [
    "# probability that it gets cleaned up each day\n",
    "# just need one success or more\n",
    "clean.pmf(1) + clean.sf(1)"
   ]
  },
  {
   "cell_type": "code",
   "execution_count": 226,
   "id": "8727a9d2-9d58-44d3-82cd-ac62b5e4d0bf",
   "metadata": {},
   "outputs": [
    {
     "data": {
      "text/plain": [
       "0.8342199288437355"
      ]
     },
     "execution_count": 226,
     "metadata": {},
     "output_type": "execute_result"
    }
   ],
   "source": [
    "clean.sf(0)"
   ]
  },
  {
   "cell_type": "code",
   "execution_count": 197,
   "id": "9dc535a9-d75b-4117-9159-ce8668ba734d",
   "metadata": {},
   "outputs": [
    {
     "data": {
      "text/plain": [
       "0.834076"
      ]
     },
     "execution_count": 197,
     "metadata": {},
     "output_type": "execute_result"
    }
   ],
   "source": [
    "# experimental prob\n",
    "(x >= 1).mean()"
   ]
  },
  {
   "cell_type": "code",
   "execution_count": 198,
   "id": "901df9d7-bf9f-4189-89e1-9530eb838b1e",
   "metadata": {
    "tags": []
   },
   "outputs": [
    {
     "data": {
      "text/plain": [
       "0.02748303199257623"
      ]
     },
     "execution_count": 198,
     "metadata": {},
     "output_type": "execute_result"
    }
   ],
   "source": [
    "# probability that it goes 2 days without being cleaned\n",
    "# number of trials increases to 59*2 = 118\n",
    "# 0 successes\n",
    "\n",
    "clean = stats.binom(118, 0.03)\n",
    "clean.pmf(0)"
   ]
  },
  {
   "cell_type": "code",
   "execution_count": 199,
   "id": "75f8e977-45d7-424c-8659-a20d78e550a1",
   "metadata": {},
   "outputs": [],
   "source": [
    "# generate some real numbers\n",
    "x = clean.rvs(n)"
   ]
  },
  {
   "cell_type": "code",
   "execution_count": 200,
   "id": "f84dc370-d209-4252-b944-ad39ad6816f7",
   "metadata": {},
   "outputs": [
    {
     "data": {
      "text/plain": [
       "0.02787"
      ]
     },
     "execution_count": 200,
     "metadata": {},
     "output_type": "execute_result"
    }
   ],
   "source": [
    "# experimental prob\n",
    "(x == 0 ).mean()"
   ]
  },
  {
   "cell_type": "code",
   "execution_count": 201,
   "id": "1610ee07-2e7f-4972-8490-ba6f745be70c",
   "metadata": {},
   "outputs": [
    {
     "data": {
      "text/plain": [
       "0.00012521651388091353"
      ]
     },
     "execution_count": 201,
     "metadata": {},
     "output_type": "execute_result"
    }
   ],
   "source": [
    "# all week without getting cleaned?\n",
    "# number of trials increases to 59*5 = 295\n",
    "\n",
    "clean = stats.binom(295, 0.03)\n",
    "clean.pmf(0)"
   ]
  },
  {
   "cell_type": "code",
   "execution_count": 202,
   "id": "6b15e192-8018-4bca-824a-d52b71e5662e",
   "metadata": {},
   "outputs": [],
   "source": [
    "# generate some real numbers\n",
    "x = clean.rvs(n)"
   ]
  },
  {
   "cell_type": "code",
   "execution_count": 204,
   "id": "39c8bbcc-816c-45cd-a40b-b2b1a66eecc0",
   "metadata": {},
   "outputs": [
    {
     "data": {
      "text/plain": [
       "0.000115"
      ]
     },
     "execution_count": 204,
     "metadata": {},
     "output_type": "execute_result"
    }
   ],
   "source": [
    "# experimental prob\n",
    "(x == 0).mean()"
   ]
  },
  {
   "cell_type": "markdown",
   "id": "1c81a306-1f63-494d-9d34-ff2239a86f00",
   "metadata": {},
   "source": [
    "#### 6."
   ]
  },
  {
   "cell_type": "markdown",
   "id": "40223051-60ac-45b9-be08-ed3a6839fa8a",
   "metadata": {},
   "source": [
    "You want to get lunch at La Panaderia, but notice that the line is usually very long at lunchtime. After several weeks of careful observation, you notice that the average number of people in line when your lunch break starts is normally distributed with a mean of 15 and standard deviation of 3. If it takes 2 minutes for each person to order, and 10 minutes from ordering to getting your food, what is the likelihood that you have at least 15 minutes left to eat your food before you have to go back to class? Assume you have one hour for lunch, and ignore travel time to and from La Panaderia."
   ]
  },
  {
   "cell_type": "code",
   "execution_count": 116,
   "id": "3f02cae0-82b4-4cc4-8117-2927fc2e1886",
   "metadata": {},
   "outputs": [],
   "source": [
    "# normal dist\n",
    "# mean = 15\n",
    "# std = 3\n",
    "# 2 (order) + 10 (wait) + 15 (eat)\n",
    "# each person in front of you takes 2 minutes to order\n",
    "# what would number of people in line have to be for you to have 15 min left\n",
    "# 15 = 60 - 2(number of people in line) - 2 - 10\n",
    "# 16.5 people in line to have 15 min to eat lunch\n",
    "# At least, therefore 16.5 or less people in line\n",
    "\n",
    "# create normal dist\n",
    "line = stats.norm(15, 3)"
   ]
  },
  {
   "cell_type": "code",
   "execution_count": 117,
   "id": "e9a9b462-e759-431b-a68c-2dce0c19ea86",
   "metadata": {},
   "outputs": [
    {
     "data": {
      "text/plain": [
       "0.6914624612740131"
      ]
     },
     "execution_count": 117,
     "metadata": {},
     "output_type": "execute_result"
    }
   ],
   "source": [
    "# we want probability that there are 16.5 or less people in line, therefore .cdf\n",
    "\n",
    "line.cdf(16.5)"
   ]
  },
  {
   "cell_type": "code",
   "execution_count": 205,
   "id": "2878467c-3902-41bd-8be6-455d30670c94",
   "metadata": {},
   "outputs": [],
   "source": [
    "# generate some real numbers\n",
    "x = line.rvs(n)"
   ]
  },
  {
   "cell_type": "code",
   "execution_count": 206,
   "id": "b3b85f39-bbf1-4ae8-9f7a-dc6c3285b6a7",
   "metadata": {},
   "outputs": [
    {
     "data": {
      "text/plain": [
       "0.692164"
      ]
     },
     "execution_count": 206,
     "metadata": {},
     "output_type": "execute_result"
    }
   ],
   "source": [
    "# experimental prob\n",
    "(x <= 16.5).mean()"
   ]
  },
  {
   "cell_type": "markdown",
   "id": "d061756e-5e6d-4512-a354-793324c0c014",
   "metadata": {},
   "source": [
    "#### 7."
   ]
  },
  {
   "cell_type": "markdown",
   "id": "6cb1412d-1e3d-4a86-8569-046638d61803",
   "metadata": {},
   "source": [
    "Connect to the employees database and find the average salary of current employees, along with the standard deviation. For the following questions, calculate the answer based on modeling the employees salaries with a normal distribution defined by the calculated mean and standard deviation then compare this answer to the actual values present in the salaries dataset.\n",
    "- What percent of employees earn less than 60,000?\n",
    "- What percent of employees earn more than 95,000?\n",
    "- What percent of employees earn between 65,000 and 80,000?\n",
    "- What do the top 5% of employees make?"
   ]
  },
  {
   "cell_type": "code",
   "execution_count": 118,
   "id": "129e74c6-9a67-41d8-b45c-3ad0364e1c0f",
   "metadata": {},
   "outputs": [],
   "source": [
    "from env import host, user, password"
   ]
  },
  {
   "cell_type": "code",
   "execution_count": 119,
   "id": "0b4ea356-2f13-4c2f-a8a9-f8b064e8e0b3",
   "metadata": {},
   "outputs": [],
   "source": [
    "def get_db_url(user, host, password, database):\n",
    "    return f'mysql+pymysql://{user}:{password}@{host}/{database}'"
   ]
  },
  {
   "cell_type": "code",
   "execution_count": 131,
   "id": "09ad0b21-c31c-4d50-bcef-7db7ce960728",
   "metadata": {},
   "outputs": [],
   "source": [
    "query = \"\"\"\n",
    "SELECT salary FROM salaries WHERE to_date > CURDATE();\n",
    "\"\"\"\n",
    "\n",
    "current_salaries = pd.read_sql(query, get_db_url(user, host, password, 'employees'))"
   ]
  },
  {
   "cell_type": "code",
   "execution_count": 130,
   "id": "9fef69ce-e828-4ba7-b007-d30e7a293996",
   "metadata": {},
   "outputs": [
    {
     "data": {
      "text/html": [
       "<div>\n",
       "<style scoped>\n",
       "    .dataframe tbody tr th:only-of-type {\n",
       "        vertical-align: middle;\n",
       "    }\n",
       "\n",
       "    .dataframe tbody tr th {\n",
       "        vertical-align: top;\n",
       "    }\n",
       "\n",
       "    .dataframe thead th {\n",
       "        text-align: right;\n",
       "    }\n",
       "</style>\n",
       "<table border=\"1\" class=\"dataframe\">\n",
       "  <thead>\n",
       "    <tr style=\"text-align: right;\">\n",
       "      <th></th>\n",
       "      <th>salary</th>\n",
       "    </tr>\n",
       "  </thead>\n",
       "  <tbody>\n",
       "    <tr>\n",
       "      <th>0</th>\n",
       "      <td>88958</td>\n",
       "    </tr>\n",
       "    <tr>\n",
       "      <th>1</th>\n",
       "      <td>72527</td>\n",
       "    </tr>\n",
       "    <tr>\n",
       "      <th>2</th>\n",
       "      <td>43311</td>\n",
       "    </tr>\n",
       "    <tr>\n",
       "      <th>3</th>\n",
       "      <td>74057</td>\n",
       "    </tr>\n",
       "    <tr>\n",
       "      <th>4</th>\n",
       "      <td>94692</td>\n",
       "    </tr>\n",
       "  </tbody>\n",
       "</table>\n",
       "</div>"
      ],
      "text/plain": [
       "   salary\n",
       "0   88958\n",
       "1   72527\n",
       "2   43311\n",
       "3   74057\n",
       "4   94692"
      ]
     },
     "execution_count": 130,
     "metadata": {},
     "output_type": "execute_result"
    }
   ],
   "source": [
    "current_salaries.head()"
   ]
  },
  {
   "cell_type": "code",
   "execution_count": 133,
   "id": "ac4c3def-8958-4bd8-b8b8-9339d58f0950",
   "metadata": {},
   "outputs": [],
   "source": [
    "avg = current_salaries.mean()"
   ]
  },
  {
   "cell_type": "code",
   "execution_count": 135,
   "id": "3170caa4-d6b3-4da7-8b9e-26cb48a26e38",
   "metadata": {},
   "outputs": [],
   "source": [
    "std = current_salaries.std()"
   ]
  },
  {
   "cell_type": "code",
   "execution_count": 137,
   "id": "a75b9d73-4e6d-473d-9d23-be7829feda5c",
   "metadata": {},
   "outputs": [],
   "source": [
    "# create the normal distribution\n",
    "\n",
    "sal = stats.norm(avg, std)"
   ]
  },
  {
   "cell_type": "code",
   "execution_count": 208,
   "id": "ef3a0b27-dcc3-4788-95eb-2da7ad37b465",
   "metadata": {},
   "outputs": [],
   "source": [
    "# generate some real values\n",
    "x = sal.rvs(n)"
   ]
  },
  {
   "cell_type": "code",
   "execution_count": 140,
   "id": "be4bd221-c917-41ac-a257-1494a3465c2f",
   "metadata": {},
   "outputs": [
    {
     "data": {
      "text/plain": [
       "array([0.24385742])"
      ]
     },
     "execution_count": 140,
     "metadata": {},
     "output_type": "execute_result"
    }
   ],
   "source": [
    "# less than 60,000\n",
    "sal.cdf(60000) - sal.pdf(60000)"
   ]
  },
  {
   "cell_type": "code",
   "execution_count": 209,
   "id": "f0c012f0-d5af-4a13-82fd-ad8da6b15d26",
   "metadata": {},
   "outputs": [
    {
     "data": {
      "text/plain": [
       "0.243869"
      ]
     },
     "execution_count": 209,
     "metadata": {},
     "output_type": "execute_result"
    }
   ],
   "source": [
    "# experimental prob\n",
    "(x < 60_000).mean()"
   ]
  },
  {
   "cell_type": "code",
   "execution_count": 143,
   "id": "cc893261-60df-42d3-840d-9b8869166294",
   "metadata": {},
   "outputs": [
    {
     "data": {
      "text/plain": [
       "array([0.09208819])"
      ]
     },
     "execution_count": 143,
     "metadata": {},
     "output_type": "execute_result"
    }
   ],
   "source": [
    "# more than 95,000\n",
    "sal.sf(95000)"
   ]
  },
  {
   "cell_type": "code",
   "execution_count": 210,
   "id": "e26eb07b-44ee-4baf-b4b6-42a43dffd84a",
   "metadata": {},
   "outputs": [
    {
     "data": {
      "text/plain": [
       "0.092408"
      ]
     },
     "execution_count": 210,
     "metadata": {},
     "output_type": "execute_result"
    }
   ],
   "source": [
    "# experimental prob\n",
    "(x > 95_000).mean()"
   ]
  },
  {
   "cell_type": "code",
   "execution_count": 146,
   "id": "cc3da3db-0cc6-4039-937b-5b00062b0be3",
   "metadata": {},
   "outputs": [
    {
     "data": {
      "text/plain": [
       "array([0.33503985])"
      ]
     },
     "execution_count": 146,
     "metadata": {},
     "output_type": "execute_result"
    }
   ],
   "source": [
    "# between 65k and 80k (not including edges)\n",
    "# less than 80k\n",
    "sal.cdf(80000) - sal.pdf(80000) - sal.cdf(65000)"
   ]
  },
  {
   "cell_type": "code",
   "execution_count": 211,
   "id": "e86b0d16-b356-4d2a-97b7-ea9fe707a75f",
   "metadata": {},
   "outputs": [
    {
     "data": {
      "text/plain": [
       "0.334648"
      ]
     },
     "execution_count": 211,
     "metadata": {},
     "output_type": "execute_result"
    }
   ],
   "source": [
    "# experimental prob\n",
    "((x > 65_000) & (x < 80_000 )).mean()"
   ]
  },
  {
   "cell_type": "code",
   "execution_count": 215,
   "id": "e3c8b1d7-aba9-489a-a3f2-0cb9bfec520e",
   "metadata": {},
   "outputs": [
    {
     "data": {
      "text/plain": [
       "array([100484.64454103])"
      ]
     },
     "execution_count": 215,
     "metadata": {},
     "output_type": "execute_result"
    }
   ],
   "source": [
    "# minimum salary in top 5%\n",
    "\n",
    "sal.isf(0.05)"
   ]
  },
  {
   "cell_type": "code",
   "execution_count": 216,
   "id": "69182a21-3dc4-4b2f-9557-96f46d2b7ad0",
   "metadata": {},
   "outputs": [
    {
     "data": {
      "text/plain": [
       "array([100484.64454103])"
      ]
     },
     "execution_count": 216,
     "metadata": {},
     "output_type": "execute_result"
    }
   ],
   "source": [
    "sal.ppf(0.95)"
   ]
  },
  {
   "cell_type": "code",
   "execution_count": 213,
   "id": "fa4fd232-ffb5-497a-bb8e-9536b9b7624a",
   "metadata": {},
   "outputs": [
    {
     "data": {
      "text/plain": [
       "100525.72877634513"
      ]
     },
     "execution_count": 213,
     "metadata": {},
     "output_type": "execute_result"
    }
   ],
   "source": [
    "# experimental prob\n",
    "np.percentile(x, 95)"
   ]
  },
  {
   "cell_type": "code",
   "execution_count": 214,
   "id": "9e1bfdd7-fbd0-442a-b5cc-8b9f753732a5",
   "metadata": {},
   "outputs": [],
   "source": [
    "# If you make 100484.64454103 or more, you are in top 5%"
   ]
  }
 ],
 "metadata": {
  "kernelspec": {
   "display_name": "Python 3",
   "language": "python",
   "name": "python3"
  },
  "language_info": {
   "codemirror_mode": {
    "name": "ipython",
    "version": 3
   },
   "file_extension": ".py",
   "mimetype": "text/x-python",
   "name": "python",
   "nbconvert_exporter": "python",
   "pygments_lexer": "ipython3",
   "version": "3.8.8"
  }
 },
 "nbformat": 4,
 "nbformat_minor": 5
}

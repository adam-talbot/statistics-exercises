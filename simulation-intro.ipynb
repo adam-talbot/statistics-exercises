{
 "cells": [
  {
   "cell_type": "code",
   "execution_count": 1,
   "id": "otherwise-living",
   "metadata": {},
   "outputs": [],
   "source": [
    "import numpy as np\n",
    "import pandas as pd"
   ]
  },
  {
   "cell_type": "markdown",
   "id": "twelve-settle",
   "metadata": {},
   "source": [
    "# Simulations == Monte Carlo Method\n",
    "- Simulation is running an experiment\n",
    "- Trial is the number of items in each experiment\n",
    "\n",
    "## How to run a simulation with Python/Numpy/Pandas\n",
    "1. Figure out a way to represent our data\n",
    "2. Create a matrix of random data, rows = simulations, columns = trial\n",
    "    - For example, rolling 2 dice 10,000 times means rows=10,000 and columns = 2 because we roll 2 dice each time.\n",
    "3. Apply an aggregate function, row-wise to get the results of the simulation\n",
    "4. Apply a final aggregate to get our probability"
   ]
  },
  {
   "cell_type": "code",
   "execution_count": 3,
   "id": "advance-wellington",
   "metadata": {},
   "outputs": [
    {
     "data": {
      "text/plain": [
       "0.499584"
      ]
     },
     "execution_count": 3,
     "metadata": {},
     "output_type": "execute_result"
    }
   ],
   "source": [
    "# Let's answer questions experimentally rather than theoretically\n",
    "# What's the probability of flipping \"Heads\" on a coin?\n",
    "\n",
    "# Let's flip a coin 1,000,000 times and figure out the probability of flipping \"Heads\"\n",
    "\n",
    "# Let's find a way to represent out data\n",
    "outcomes = [\"Heads\", \"Tails\"]\n",
    "n_simulations = 1_000_000\n",
    "\n",
    "flips = np.random.choice(outcomes,  size=n_simulations)\n",
    "\n",
    "# After flipping 100 thousand coins, our experiemental probability of flipping heads is:\n",
    "(flips == \"Heads\").mean()"
   ]
  },
  {
   "cell_type": "code",
   "execution_count": 4,
   "id": "patent-companion",
   "metadata": {
    "scrolled": true
   },
   "outputs": [
    {
     "data": {
      "text/plain": [
       "0.1655"
      ]
     },
     "execution_count": 4,
     "metadata": {},
     "output_type": "execute_result"
    }
   ],
   "source": [
    "# Another example: What is the probability of rolling a 5 on a 6 sided die?\n",
    "\n",
    "# Step 1, represent our data's outcomes\n",
    "outcomes = [1, 2, 3, 4, 5, 6]\n",
    "\n",
    "# Step 2, create the data\n",
    "n_simulations = 10_000\n",
    "\n",
    "rolls = np.random.choice(outcomes, size=n_simulations)\n",
    "\n",
    "# What are the chances we roll a 5?\n",
    "(rolls == 5).mean()"
   ]
  },
  {
   "cell_type": "code",
   "execution_count": 5,
   "id": "extended-burke",
   "metadata": {},
   "outputs": [
    {
     "data": {
      "text/plain": [
       "0.3317"
      ]
     },
     "execution_count": 5,
     "metadata": {},
     "output_type": "execute_result"
    }
   ],
   "source": [
    "# What is the probability we'll roll a 5 or a 6 on a 6 sided die?\n",
    "(rolls >= 5).mean()"
   ]
  },
  {
   "cell_type": "code",
   "execution_count": 6,
   "id": "generous-david",
   "metadata": {},
   "outputs": [
    {
     "data": {
      "text/plain": [
       "0.3357"
      ]
     },
     "execution_count": 6,
     "metadata": {},
     "output_type": "execute_result"
    }
   ],
   "source": [
    "# What is the probabiliyt of rolling less than a 3 (but not including 3)\n",
    "(rolls < 3).mean()"
   ]
  },
  {
   "cell_type": "code",
   "execution_count": 7,
   "id": "backed-budapest",
   "metadata": {},
   "outputs": [
    {
     "data": {
      "text/plain": [
       "0.8363"
      ]
     },
     "execution_count": 7,
     "metadata": {},
     "output_type": "execute_result"
    }
   ],
   "source": [
    "# What are the chances we roll something other than 3\n",
    "(rolls != 3).mean()"
   ]
  },
  {
   "cell_type": "markdown",
   "id": "treated-hometown",
   "metadata": {},
   "source": [
    "## Let's Roll 2 Dice at Once!\n",
    "\n",
    "1. Figure out a way to represent the data\n",
    "2. Create a matrix of random data, rows=simulations, columns=trials\n",
    "3. Apply an aggregagte row-wise to get the result of each simulation\n",
    "4. Apply a final aggregate (probably the .mean) to get our probability"
   ]
  },
  {
   "cell_type": "code",
   "execution_count": 8,
   "id": "parental-montana",
   "metadata": {},
   "outputs": [
    {
     "data": {
      "text/plain": [
       "array([[5, 4],\n",
       "       [5, 1],\n",
       "       [6, 2],\n",
       "       ...,\n",
       "       [1, 1],\n",
       "       [3, 1],\n",
       "       [5, 3]])"
      ]
     },
     "execution_count": 8,
     "metadata": {},
     "output_type": "execute_result"
    }
   ],
   "source": [
    "# What are the odds of rolling Snake Eyes on two dice?\n",
    "\n",
    "# Step 1 Represent our outcomes\n",
    "outcomes = [1, 2, 3, 4, 5, 6]\n",
    "\n",
    "# Step 2: Create a matrix of random data where rows=simulations, columns=trial\n",
    "\n",
    "# Simulation = the number of times we run the experiment\n",
    "# Trials = the number of things in each experiment\n",
    "n_simulations = 1_000_000\n",
    "n_trials = 2 # b/c we're rolling 2 dice with each experiment\n",
    "\n",
    "# size argument can set our simulation and trial size\n",
    "rolls = np.random.choice(outcomes, size=(n_simulations, n_trials))\n",
    "rolls"
   ]
  },
  {
   "cell_type": "code",
   "execution_count": 12,
   "id": "genuine-evolution",
   "metadata": {},
   "outputs": [
    {
     "data": {
      "text/plain": [
       "array([9, 6, 8, ..., 2, 4, 8])"
      ]
     },
     "execution_count": 12,
     "metadata": {},
     "output_type": "execute_result"
    }
   ],
   "source": [
    "# Step 3: Apply an aggregate row-wise\n",
    "# axis=1 means sum across the rows\n",
    "sum_of_rolls = rolls.sum(axis=1)\n",
    "sum_of_rolls"
   ]
  },
  {
   "cell_type": "code",
   "execution_count": 13,
   "id": "western-probe",
   "metadata": {},
   "outputs": [],
   "source": [
    "# Axis=0 means sum up the entire column. \n",
    "# If you don't put an axis, the default is 0\n",
    "# rolls.sum(axis=0)"
   ]
  },
  {
   "cell_type": "code",
   "execution_count": 14,
   "id": "rising-trunk",
   "metadata": {},
   "outputs": [
    {
     "data": {
      "text/plain": [
       "0.027769"
      ]
     },
     "execution_count": 14,
     "metadata": {},
     "output_type": "execute_result"
    }
   ],
   "source": [
    "# Step 4.\n",
    "# Add up all the times that an experiment produces the sum of 2\n",
    "(sum_of_rolls == 2).mean()"
   ]
  },
  {
   "cell_type": "code",
   "execution_count": 15,
   "id": "aquatic-coupon",
   "metadata": {},
   "outputs": [
    {
     "name": "stdout",
     "output_type": "stream",
     "text": [
      "Our theoretical probability of rolling snake eyes is 1/6 * 1/6, which is 0.027777777777777776\n"
     ]
    }
   ],
   "source": [
    "theoretical = 1/6 * 1/6\n",
    "print(f\"Our theoretical probability of rolling snake eyes is 1/6 * 1/6, which is {theoretical}\")"
   ]
  },
  {
   "cell_type": "code",
   "execution_count": 16,
   "id": "christian-farming",
   "metadata": {},
   "outputs": [
    {
     "name": "stdout",
     "output_type": "stream",
     "text": [
      "The experimental probability of rolling a sum of 7 on two dice at once is 0.1684\n"
     ]
    }
   ],
   "source": [
    "# What is the probability of rolling a 7 on two dice\n",
    "# 1+6, 2+5, 3+4, 4+3, 5+2, 6+1\n",
    "\n",
    "# step 1: represent our outcomes\n",
    "outcomes = [1, 2, 3, 4, 5, 6]\n",
    "\n",
    "# Step 2: generate a matrix of random outcomes, simulations = rows, trials = columns\n",
    "# size=(simulations, trials)\n",
    "# size=(experiements, number_of_dice per experiment)\n",
    "rolls = np.random.choice(outcomes, size=(10_000, 2))\n",
    "\n",
    "# Step 3, apply a row-wise aggregate\n",
    "# axis=1 to apply sum to rows\n",
    "sum_of_rolls = rolls.sum(axis=1)\n",
    "\n",
    "p = (sum_of_rolls == 7).mean()\n",
    "print(f\"The experimental probability of rolling a sum of 7 on two dice at once is {p}\")"
   ]
  },
  {
   "cell_type": "code",
   "execution_count": 17,
   "id": "decreased-force",
   "metadata": {},
   "outputs": [
    {
     "name": "stdout",
     "output_type": "stream",
     "text": [
      "Sum outcome of rolling 2 dice and the probability of seeing that outcome\n"
     ]
    },
    {
     "data": {
      "text/html": [
       "<div>\n",
       "<style scoped>\n",
       "    .dataframe tbody tr th:only-of-type {\n",
       "        vertical-align: middle;\n",
       "    }\n",
       "\n",
       "    .dataframe tbody tr th {\n",
       "        vertical-align: top;\n",
       "    }\n",
       "\n",
       "    .dataframe thead th {\n",
       "        text-align: right;\n",
       "    }\n",
       "</style>\n",
       "<table border=\"1\" class=\"dataframe\">\n",
       "  <thead>\n",
       "    <tr style=\"text-align: right;\">\n",
       "      <th></th>\n",
       "      <th>outcome</th>\n",
       "      <th>probability</th>\n",
       "    </tr>\n",
       "  </thead>\n",
       "  <tbody>\n",
       "    <tr>\n",
       "      <th>0</th>\n",
       "      <td>2</td>\n",
       "      <td>0.0284</td>\n",
       "    </tr>\n",
       "    <tr>\n",
       "      <th>1</th>\n",
       "      <td>3</td>\n",
       "      <td>0.0527</td>\n",
       "    </tr>\n",
       "    <tr>\n",
       "      <th>2</th>\n",
       "      <td>4</td>\n",
       "      <td>0.0795</td>\n",
       "    </tr>\n",
       "    <tr>\n",
       "      <th>3</th>\n",
       "      <td>5</td>\n",
       "      <td>0.1090</td>\n",
       "    </tr>\n",
       "    <tr>\n",
       "      <th>4</th>\n",
       "      <td>6</td>\n",
       "      <td>0.1403</td>\n",
       "    </tr>\n",
       "    <tr>\n",
       "      <th>5</th>\n",
       "      <td>7</td>\n",
       "      <td>0.1684</td>\n",
       "    </tr>\n",
       "    <tr>\n",
       "      <th>6</th>\n",
       "      <td>8</td>\n",
       "      <td>0.1379</td>\n",
       "    </tr>\n",
       "    <tr>\n",
       "      <th>7</th>\n",
       "      <td>9</td>\n",
       "      <td>0.1146</td>\n",
       "    </tr>\n",
       "    <tr>\n",
       "      <th>8</th>\n",
       "      <td>10</td>\n",
       "      <td>0.0844</td>\n",
       "    </tr>\n",
       "    <tr>\n",
       "      <th>9</th>\n",
       "      <td>11</td>\n",
       "      <td>0.0554</td>\n",
       "    </tr>\n",
       "    <tr>\n",
       "      <th>10</th>\n",
       "      <td>12</td>\n",
       "      <td>0.0294</td>\n",
       "    </tr>\n",
       "  </tbody>\n",
       "</table>\n",
       "</div>"
      ],
      "text/plain": [
       "    outcome  probability\n",
       "0         2       0.0284\n",
       "1         3       0.0527\n",
       "2         4       0.0795\n",
       "3         5       0.1090\n",
       "4         6       0.1403\n",
       "5         7       0.1684\n",
       "6         8       0.1379\n",
       "7         9       0.1146\n",
       "8        10       0.0844\n",
       "9        11       0.0554\n",
       "10       12       0.0294"
      ]
     },
     "execution_count": 17,
     "metadata": {},
     "output_type": "execute_result"
    }
   ],
   "source": [
    "# What are the experimental probabilities of rolling each sum\n",
    "df = pd.DataFrame()\n",
    "\n",
    "# possible sum outcomes from 2 dice\n",
    "df[\"outcome\"] = [2, 3, 4, 5, 6, 7, 8, 9, 10, 11, 12]\n",
    "\n",
    "# write a lil' function that gets the probability\n",
    "def get_prob(n):\n",
    "    return (sum_of_rolls == n).mean()\n",
    "\n",
    "# set the probability to its own column\n",
    "df[\"probability\"] = df.outcome.apply(get_prob)\n",
    "\n",
    "print(\"Sum outcome of rolling 2 dice and the probability of seeing that outcome\")\n",
    "df"
   ]
  },
  {
   "cell_type": "markdown",
   "id": "stunning-calgary",
   "metadata": {},
   "source": [
    "## Setting our own probabilities"
   ]
  },
  {
   "cell_type": "code",
   "execution_count": 18,
   "id": "intensive-humidity",
   "metadata": {},
   "outputs": [
    {
     "data": {
      "text/plain": [
       "0.546"
      ]
     },
     "execution_count": 18,
     "metadata": {},
     "output_type": "execute_result"
    }
   ],
   "source": [
    "# Let's answer questions experimentally rather than theoretically\n",
    "# What's the probability of flipping \"Heads\" on a coin?\n",
    "\n",
    "# Let's flip a coin 100,000 times and figure out the probability of flipping \"Heads\"\n",
    "\n",
    "# Let's find a way to represent out data\n",
    "outcomes = [\"Heads\", \"Tails\"]\n",
    "\n",
    "flips = np.random.choice(outcomes, size=(10_000, 1), p=[0.55, 0.45])\n",
    "\n",
    "(flips == \"Heads\").mean()"
   ]
  },
  {
   "cell_type": "code",
   "execution_count": 19,
   "id": "returning-kentucky",
   "metadata": {},
   "outputs": [
    {
     "data": {
      "text/plain": [
       "array([['Heads', 'Tails'],\n",
       "       ['Tails', 'Heads'],\n",
       "       ['Heads', 'Heads'],\n",
       "       ...,\n",
       "       ['Tails', 'Heads'],\n",
       "       ['Heads', 'Tails'],\n",
       "       ['Tails', 'Tails']], dtype='<U5')"
      ]
     },
     "execution_count": 19,
     "metadata": {},
     "output_type": "execute_result"
    }
   ],
   "source": [
    "# what are the chances of flipping two heads in a row?\n",
    "flips = np.random.choice(outcomes, size=(10_000, 2), p=[0.55, 0.45])\n",
    "flips"
   ]
  },
  {
   "cell_type": "code",
   "execution_count": 20,
   "id": "ceramic-bottle",
   "metadata": {},
   "outputs": [
    {
     "data": {
      "text/plain": [
       "array([[0, 1],\n",
       "       [1, 1],\n",
       "       [1, 1],\n",
       "       ...,\n",
       "       [1, 1],\n",
       "       [0, 1],\n",
       "       [0, 0]])"
      ]
     },
     "execution_count": 20,
     "metadata": {},
     "output_type": "execute_result"
    }
   ],
   "source": [
    "# It'll be a bit easier to check for two heads if the head = 1 and tail is 0\n",
    "# might as well turn a binary into a binary\n",
    "\n",
    "# let's say Heads is 1 and Tails is 0\n",
    "outcomes = [1, 0]\n",
    "flips = np.random.choice(outcomes, size=(100_000, 2), p=[0.55, 0.45])\n",
    "flips"
   ]
  },
  {
   "cell_type": "code",
   "execution_count": null,
   "id": "apparent-equality",
   "metadata": {},
   "outputs": [],
   "source": [
    "# axis=1 to sum across the rows, so we have as many sums as we had pairs of coin flips\n",
    "num_of_heads = flips.sum(axis=1)\n",
    "num_of_heads"
   ]
  },
  {
   "cell_type": "code",
   "execution_count": null,
   "id": "apparent-medication",
   "metadata": {},
   "outputs": [],
   "source": [
    "(num_of_heads == 2).mean()"
   ]
  },
  {
   "cell_type": "code",
   "execution_count": 21,
   "id": "bridal-setting",
   "metadata": {},
   "outputs": [
    {
     "data": {
      "text/plain": [
       "0.25023"
      ]
     },
     "execution_count": 21,
     "metadata": {},
     "output_type": "execute_result"
    }
   ],
   "source": [
    "# What if this is a fair coin?\n",
    "outcomes = [1, 0]\n",
    "flips = np.random.choice(outcomes, size=(100_000, 2))\n",
    "num_of_heads = flips.sum(axis=1)\n",
    "(num_of_heads == 2).mean()"
   ]
  },
  {
   "cell_type": "code",
   "execution_count": 22,
   "id": "complimentary-training",
   "metadata": {},
   "outputs": [
    {
     "data": {
      "text/plain": [
       "0.25"
      ]
     },
     "execution_count": 22,
     "metadata": {},
     "output_type": "execute_result"
    }
   ],
   "source": [
    "# theoretical probability of flipping two heads in a row\n",
    ".5 * .5"
   ]
  },
  {
   "cell_type": "code",
   "execution_count": 23,
   "id": "municipal-deputy",
   "metadata": {},
   "outputs": [],
   "source": [
    "# Let's add some boolean logic to probabilities"
   ]
  },
  {
   "cell_type": "code",
   "execution_count": 24,
   "id": "elegant-component",
   "metadata": {},
   "outputs": [
    {
     "data": {
      "text/plain": [
       "array([ 18,  54, -17, ...,  10,  -1,  66])"
      ]
     },
     "execution_count": 24,
     "metadata": {},
     "output_type": "execute_result"
    }
   ],
   "source": [
    "numbers = np.random.randint(-50, 100, 100_000)\n",
    "numbers "
   ]
  },
  {
   "cell_type": "code",
   "execution_count": 25,
   "id": "limited-blowing",
   "metadata": {},
   "outputs": [
    {
     "data": {
      "text/plain": [
       "0.3358"
      ]
     },
     "execution_count": 25,
     "metadata": {},
     "output_type": "execute_result"
    }
   ],
   "source": [
    "# Based on these simulations, what is the probability that any number is negative?\n",
    "(numbers < 0).mean()"
   ]
  },
  {
   "cell_type": "code",
   "execution_count": 26,
   "id": "veterinary-performance",
   "metadata": {},
   "outputs": [
    {
     "data": {
      "text/plain": [
       "array([False, False,  True, ..., False,  True, False])"
      ]
     },
     "execution_count": 26,
     "metadata": {},
     "output_type": "execute_result"
    }
   ],
   "source": [
    "# what is the probability a number is odd?\n",
    "(numbers % 2 != 0)"
   ]
  },
  {
   "cell_type": "code",
   "execution_count": 27,
   "id": "better-header",
   "metadata": {},
   "outputs": [
    {
     "data": {
      "text/plain": [
       "array([False, False,  True, ..., False,  True, False])"
      ]
     },
     "execution_count": 27,
     "metadata": {},
     "output_type": "execute_result"
    }
   ],
   "source": [
    "# What is the probability of a number being BOTH odd AND negative?\n",
    "# is_negative\n",
    "is_negative = (numbers < 0)\n",
    "is_negative"
   ]
  },
  {
   "cell_type": "code",
   "execution_count": 28,
   "id": "neural-paint",
   "metadata": {},
   "outputs": [
    {
     "data": {
      "text/plain": [
       "array([False, False,  True, ..., False,  True, False])"
      ]
     },
     "execution_count": 28,
     "metadata": {},
     "output_type": "execute_result"
    }
   ],
   "source": [
    "is_odd = (numbers % 2 != 0)\n",
    "is_odd"
   ]
  },
  {
   "cell_type": "code",
   "execution_count": 29,
   "id": "framed-charles",
   "metadata": {},
   "outputs": [
    {
     "data": {
      "text/plain": [
       "array([ 18,  54, -17, ...,  10,  -1,  66])"
      ]
     },
     "execution_count": 29,
     "metadata": {},
     "output_type": "execute_result"
    }
   ],
   "source": [
    "numbers"
   ]
  },
  {
   "cell_type": "code",
   "execution_count": 30,
   "id": "local-comedy",
   "metadata": {},
   "outputs": [
    {
     "data": {
      "text/plain": [
       "0.16779"
      ]
     },
     "execution_count": 30,
     "metadata": {},
     "output_type": "execute_result"
    }
   ],
   "source": [
    "# What is the probability of a number being BOTH odd AND negative?\n",
    "(is_odd & is_negative).mean()"
   ]
  },
  {
   "cell_type": "code",
   "execution_count": 31,
   "id": "weighted-fraction",
   "metadata": {},
   "outputs": [
    {
     "data": {
      "text/plain": [
       "array([ True,  True, False, ...,  True, False,  True])"
      ]
     },
     "execution_count": 31,
     "metadata": {},
     "output_type": "execute_result"
    }
   ],
   "source": [
    "# What is the probability of your number being even OR positive\n",
    "is_even = (numbers % 2 == 0)\n",
    "is_even"
   ]
  },
  {
   "cell_type": "code",
   "execution_count": 32,
   "id": "previous-component",
   "metadata": {},
   "outputs": [
    {
     "data": {
      "text/plain": [
       "array([ True,  True, False, ...,  True, False,  True])"
      ]
     },
     "execution_count": 32,
     "metadata": {},
     "output_type": "execute_result"
    }
   ],
   "source": [
    "is_positive = (numbers > 0)\n",
    "is_positive"
   ]
  },
  {
   "cell_type": "code",
   "execution_count": 33,
   "id": "residential-spelling",
   "metadata": {},
   "outputs": [
    {
     "data": {
      "text/plain": [
       "0.83221"
      ]
     },
     "execution_count": 33,
     "metadata": {},
     "output_type": "execute_result"
    }
   ],
   "source": [
    "# Given the numbers above, the chance any specific number is either positive or even\n",
    "(is_even | is_positive).mean()"
   ]
  },
  {
   "cell_type": "code",
   "execution_count": 34,
   "id": "utility-frederick",
   "metadata": {},
   "outputs": [
    {
     "data": {
      "text/plain": [
       "(array([3, 1, 3, ..., 6, 2, 5]), array([5, 4, 3, ..., 1, 6, 1]))"
      ]
     },
     "execution_count": 34,
     "metadata": {},
     "output_type": "execute_result"
    }
   ],
   "source": [
    "# Rolling two dice at a time, what is the probability of rolling an odd and then and even?\n",
    "\n",
    "# Step 1 is represent the world in Pandas/Numpy \n",
    "first_die = np.random.choice([1, 2, 3, 4, 5, 6], size=100_000)\n",
    "second_die = np.random.choice([1, 2, 3, 4, 5, 6], size=100_000)\n",
    "\n",
    "first_die, second_die"
   ]
  },
  {
   "cell_type": "code",
   "execution_count": 35,
   "id": "canadian-lightning",
   "metadata": {},
   "outputs": [],
   "source": [
    "# We need to represent the results of the first die as an array of booleans\n",
    "first_die_is_odd = (first_die % 2 != 0)"
   ]
  },
  {
   "cell_type": "code",
   "execution_count": 36,
   "id": "suspected-concert",
   "metadata": {},
   "outputs": [],
   "source": [
    "second_die_is_even = (second_die % 2 == 0)"
   ]
  },
  {
   "cell_type": "code",
   "execution_count": 37,
   "id": "dress-merit",
   "metadata": {},
   "outputs": [
    {
     "data": {
      "text/plain": [
       "array([False,  True, False, ..., False, False, False])"
      ]
     },
     "execution_count": 37,
     "metadata": {},
     "output_type": "execute_result"
    }
   ],
   "source": [
    "first_odd_second_even = (first_die_is_odd & second_die_is_even)\n",
    "first_odd_second_even"
   ]
  },
  {
   "cell_type": "code",
   "execution_count": 38,
   "id": "moved-emphasis",
   "metadata": {},
   "outputs": [
    {
     "data": {
      "text/plain": [
       "0.24712"
      ]
     },
     "execution_count": 38,
     "metadata": {},
     "output_type": "execute_result"
    }
   ],
   "source": [
    "first_odd_second_even.mean()"
   ]
  },
  {
   "cell_type": "code",
   "execution_count": 39,
   "id": "sunrise-louisville",
   "metadata": {},
   "outputs": [
    {
     "data": {
      "text/plain": [
       "0.25"
      ]
     },
     "execution_count": 39,
     "metadata": {},
     "output_type": "execute_result"
    }
   ],
   "source": [
    "# Theoretical probability\n",
    ".5 * .5"
   ]
  }
 ],
 "metadata": {
  "kernelspec": {
   "display_name": "Python 3",
   "language": "python",
   "name": "python3"
  },
  "language_info": {
   "codemirror_mode": {
    "name": "ipython",
    "version": 3
   },
   "file_extension": ".py",
   "mimetype": "text/x-python",
   "name": "python",
   "nbconvert_exporter": "python",
   "pygments_lexer": "ipython3",
   "version": "3.8.8"
  }
 },
 "nbformat": 4,
 "nbformat_minor": 5
}

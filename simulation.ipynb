{
 "cells": [
  {
   "cell_type": "markdown",
   "id": "fa46fabd-e0a9-42be-bcb7-8d2eaec9c9e4",
   "metadata": {},
   "source": [
    "# Curriculum Review\n"
   ]
  },
  {
   "cell_type": "code",
   "execution_count": 13,
   "id": "97320d7c-f202-4472-a498-c51b7c4ccfbf",
   "metadata": {},
   "outputs": [],
   "source": [
    "%matplotlib inline\n",
    "import numpy as np\n",
    "import pandas as pd\n",
    "\n",
    "import viz # curriculum example visualizations\n",
    "\n",
    "np.random.seed(29)"
   ]
  },
  {
   "cell_type": "markdown",
   "id": "5bb2b82c-c84f-4a6b-8ef3-da1f430e72b7",
   "metadata": {},
   "source": [
    "## Carnival Dice Rolls\n",
    "    You are at a carnival and come across a person in a booth offering you a game of \"chance\" (as people in booths at carnivals tend to do).\n",
    "    You pay 5 dollars and roll 3 dice. If the sum of the dice rolls is greater than 12, you get 15 dollars. If it's less than or equal to 12, you get nothing.\n",
    "    Assuming the dice are fair, should you play this game? How would this change if the winning condition was a sum greater than or equal to 12?"
   ]
  },
  {
   "cell_type": "code",
   "execution_count": 14,
   "id": "7514e9df-42d7-4132-a66f-a026c8e27c17",
   "metadata": {},
   "outputs": [
    {
     "data": {
      "text/plain": [
       "array([[6, 4, 5],\n",
       "       [6, 3, 1],\n",
       "       [1, 2, 2],\n",
       "       ...,\n",
       "       [6, 2, 1],\n",
       "       [3, 4, 3],\n",
       "       [4, 2, 4]])"
      ]
     },
     "execution_count": 14,
     "metadata": {},
     "output_type": "execute_result"
    }
   ],
   "source": [
    "n_trials = nrows = 10_000\n",
    "n_dice = ncols = 3\n",
    "\n",
    "rolls = np.random.choice([1, 2, 3, 4, 5, 6], n_trials * n_dice).reshape(nrows, ncols)\n",
    "rolls"
   ]
  },
  {
   "cell_type": "code",
   "execution_count": 15,
   "id": "0c630676-a600-4af6-b1ba-837e8201b016",
   "metadata": {},
   "outputs": [
    {
     "data": {
      "text/plain": [
       "array([15, 10,  5, ...,  9, 10, 10])"
      ]
     },
     "execution_count": 15,
     "metadata": {},
     "output_type": "execute_result"
    }
   ],
   "source": [
    "sums_by_trial = rolls.sum(axis=1)\n",
    "sums_by_trial"
   ]
  },
  {
   "cell_type": "code",
   "execution_count": 17,
   "id": "39c23aa2-2559-44ad-9913-0ef80c176087",
   "metadata": {},
   "outputs": [
    {
     "data": {
      "text/plain": [
       "array([ True, False, False, ..., False, False, False])"
      ]
     },
     "execution_count": 17,
     "metadata": {},
     "output_type": "execute_result"
    }
   ],
   "source": [
    "wins = sums_by_trial > 12\n",
    "wins"
   ]
  },
  {
   "cell_type": "code",
   "execution_count": 18,
   "id": "721c248c-b1c6-4d8b-9e9d-d7aa005ec396",
   "metadata": {},
   "outputs": [
    {
     "data": {
      "text/plain": [
       "0.2633"
      ]
     },
     "execution_count": 18,
     "metadata": {},
     "output_type": "execute_result"
    }
   ],
   "source": [
    "wins.mean()"
   ]
  },
  {
   "cell_type": "code",
   "execution_count": 19,
   "id": "23ac868a-5810-467a-9518-b94458dbc7c7",
   "metadata": {},
   "outputs": [
    {
     "data": {
      "text/plain": [
       "0.2633"
      ]
     },
     "execution_count": 19,
     "metadata": {},
     "output_type": "execute_result"
    }
   ],
   "source": [
    "# not necessary, just do mean and it will treat Trues and 1 and False as 0\n",
    "win_rate = wins.astype(int).mean()\n",
    "win_rate"
   ]
  },
  {
   "cell_type": "code",
   "execution_count": 20,
   "id": "dc125780-caff-48eb-a40f-171a30bcbc01",
   "metadata": {},
   "outputs": [
    {
     "data": {
      "text/plain": [
       "-1.0505000000000004"
      ]
     },
     "execution_count": 20,
     "metadata": {},
     "output_type": "execute_result"
    }
   ],
   "source": [
    "expected_winnings = win_rate * 15\n",
    "cost = 5\n",
    "expected_profit = expected_winnings - cost\n",
    "expected_profit"
   ]
  },
  {
   "cell_type": "code",
   "execution_count": 21,
   "id": "3b4d5017-97ca-4e4f-811a-c17aceef1b76",
   "metadata": {},
   "outputs": [
    {
     "data": {
      "text/plain": [
       "0.5860000000000003"
      ]
     },
     "execution_count": 21,
     "metadata": {},
     "output_type": "execute_result"
    }
   ],
   "source": [
    "wins = sums_by_trial >= 12\n",
    "win_rate = wins.astype(int).mean()\n",
    "expected_winnings = win_rate * 15\n",
    "cost = 5\n",
    "expected_profit = expected_winnings - cost\n",
    "expected_profit"
   ]
  },
  {
   "cell_type": "markdown",
   "id": "2f85d17a-56df-4d7d-a1fd-31b1d4d59900",
   "metadata": {},
   "source": [
    "## No Rest or Relaxation\n",
    "    There's a 30% chance my son takes a nap on any given weekend day. What is the chance that he takes a nap at least one day this weekend? What is the probability that he doesn't nap at all? "
   ]
  },
  {
   "cell_type": "code",
   "execution_count": 22,
   "id": "5f269a69-8bd3-46e3-8177-eb7cf573bba8",
   "metadata": {},
   "outputs": [],
   "source": [
    "p_nap = .3\n",
    "ndays = ncols = 2\n",
    "n_simulated_weekends = nrows = 10**5"
   ]
  },
  {
   "cell_type": "code",
   "execution_count": 23,
   "id": "eb92ea8c-ddab-4da4-a3e9-3057b0068322",
   "metadata": {},
   "outputs": [
    {
     "data": {
      "text/plain": [
       "array([[0.46762045, 0.70078355],\n",
       "       [0.18897809, 0.54312897],\n",
       "       [0.253291  , 0.43836437],\n",
       "       ...,\n",
       "       [0.15008559, 0.37577491],\n",
       "       [0.34690321, 0.58934311],\n",
       "       [0.97135998, 0.57219933]])"
      ]
     },
     "execution_count": 23,
     "metadata": {},
     "output_type": "execute_result"
    }
   ],
   "source": [
    "data = np.random.random((nrows, ncols))\n",
    "data"
   ]
  },
  {
   "cell_type": "code",
   "execution_count": 24,
   "id": "50283d2b-4d2a-4c0b-b2ff-c29a77b5b165",
   "metadata": {},
   "outputs": [
    {
     "data": {
      "text/plain": [
       "array([[False, False],\n",
       "       [ True, False],\n",
       "       [ True, False],\n",
       "       ...,\n",
       "       [ True, False],\n",
       "       [False, False],\n",
       "       [False, False]])"
      ]
     },
     "execution_count": 24,
     "metadata": {},
     "output_type": "execute_result"
    }
   ],
   "source": [
    "naps = data < p_nap\n",
    "naps"
   ]
  },
  {
   "cell_type": "code",
   "execution_count": 25,
   "id": "8ca6d85b-3c9c-463b-b5ec-acf79a95e46a",
   "metadata": {},
   "outputs": [
    {
     "data": {
      "text/plain": [
       "array([0, 1, 1, ..., 1, 0, 0])"
      ]
     },
     "execution_count": 25,
     "metadata": {},
     "output_type": "execute_result"
    }
   ],
   "source": [
    "naps.sum(axis=1)"
   ]
  },
  {
   "cell_type": "code",
   "execution_count": 26,
   "id": "e2ddb788-4b12-48b4-b549-9a3104dba7b5",
   "metadata": {},
   "outputs": [
    {
     "data": {
      "text/plain": [
       "0.50998"
      ]
     },
     "execution_count": 26,
     "metadata": {},
     "output_type": "execute_result"
    }
   ],
   "source": [
    "(naps.sum(axis=1) >= 1).mean()"
   ]
  },
  {
   "cell_type": "code",
   "execution_count": 27,
   "id": "90944083-1bd3-4688-9a98-75ce3341d042",
   "metadata": {},
   "outputs": [
    {
     "data": {
      "text/plain": [
       "0.49002"
      ]
     },
     "execution_count": 27,
     "metadata": {},
     "output_type": "execute_result"
    }
   ],
   "source": [
    "(naps.sum(axis=1) == 0).mean()"
   ]
  },
  {
   "cell_type": "markdown",
   "id": "85c03f59-97e9-41a9-9e40-43e01157a0ad",
   "metadata": {},
   "source": [
    "## One With Dataframes\n",
    "    Let's take a look at one more problem:\n",
    "    What is the probability of getting at least one 3 in 3 dice rolls?"
   ]
  },
  {
   "cell_type": "code",
   "execution_count": 41,
   "id": "b6a6b02d-5810-4e58-9795-e2b25e2be291",
   "metadata": {},
   "outputs": [
    {
     "data": {
      "text/plain": [
       "array([[3, 3, 6],\n",
       "       [5, 3, 2],\n",
       "       [4, 4, 6],\n",
       "       ...,\n",
       "       [5, 4, 1],\n",
       "       [5, 2, 4],\n",
       "       [1, 1, 6]])"
      ]
     },
     "execution_count": 41,
     "metadata": {},
     "output_type": "execute_result"
    }
   ],
   "source": [
    "n_simulations = nrows = 10**5\n",
    "n_dice_rolled = ncols = 3\n",
    "\n",
    "rolls = np.random.choice([1, 2, 3, 4, 5, 6], nrows * ncols).reshape(nrows, ncols)\n",
    "rolls"
   ]
  },
  {
   "cell_type": "code",
   "execution_count": 42,
   "id": "fbc75841-c81e-4a08-aa16-950632d5de7d",
   "metadata": {},
   "outputs": [
    {
     "data": {
      "text/html": [
       "<div>\n",
       "<style scoped>\n",
       "    .dataframe tbody tr th:only-of-type {\n",
       "        vertical-align: middle;\n",
       "    }\n",
       "\n",
       "    .dataframe tbody tr th {\n",
       "        vertical-align: top;\n",
       "    }\n",
       "\n",
       "    .dataframe thead th {\n",
       "        text-align: right;\n",
       "    }\n",
       "</style>\n",
       "<table border=\"1\" class=\"dataframe\">\n",
       "  <thead>\n",
       "    <tr style=\"text-align: right;\">\n",
       "      <th></th>\n",
       "      <th>0</th>\n",
       "      <th>1</th>\n",
       "      <th>2</th>\n",
       "    </tr>\n",
       "  </thead>\n",
       "  <tbody>\n",
       "    <tr>\n",
       "      <th>0</th>\n",
       "      <td>3</td>\n",
       "      <td>3</td>\n",
       "      <td>6</td>\n",
       "    </tr>\n",
       "    <tr>\n",
       "      <th>1</th>\n",
       "      <td>5</td>\n",
       "      <td>3</td>\n",
       "      <td>2</td>\n",
       "    </tr>\n",
       "    <tr>\n",
       "      <th>2</th>\n",
       "      <td>4</td>\n",
       "      <td>4</td>\n",
       "      <td>6</td>\n",
       "    </tr>\n",
       "    <tr>\n",
       "      <th>3</th>\n",
       "      <td>6</td>\n",
       "      <td>2</td>\n",
       "      <td>1</td>\n",
       "    </tr>\n",
       "    <tr>\n",
       "      <th>4</th>\n",
       "      <td>3</td>\n",
       "      <td>6</td>\n",
       "      <td>4</td>\n",
       "    </tr>\n",
       "  </tbody>\n",
       "</table>\n",
       "</div>"
      ],
      "text/plain": [
       "   0  1  2\n",
       "0  3  3  6\n",
       "1  5  3  2\n",
       "2  4  4  6\n",
       "3  6  2  1\n",
       "4  3  6  4"
      ]
     },
     "execution_count": 42,
     "metadata": {},
     "output_type": "execute_result"
    }
   ],
   "source": [
    "pandarolls = pd.DataFrame(rolls)\n",
    "pandarolls.head()"
   ]
  },
  {
   "cell_type": "code",
   "execution_count": 43,
   "id": "0eaaf9d0-3e34-40a6-8ed4-91da4b6db47a",
   "metadata": {},
   "outputs": [
    {
     "data": {
      "text/plain": [
       "0     True\n",
       "1     True\n",
       "2    False\n",
       "3    False\n",
       "4     True\n",
       "dtype: bool"
      ]
     },
     "execution_count": 43,
     "metadata": {},
     "output_type": "execute_result"
    }
   ],
   "source": [
    "boolpandarolls = pandarolls.apply(lambda row: 3 in row.values, axis=1)\n",
    "boolpandarolls.head()"
   ]
  },
  {
   "cell_type": "code",
   "execution_count": 44,
   "id": "120c9d45-8887-4923-ae46-f16def9955aa",
   "metadata": {},
   "outputs": [
    {
     "data": {
      "text/plain": [
       "0.42251"
      ]
     },
     "execution_count": 44,
     "metadata": {},
     "output_type": "execute_result"
    }
   ],
   "source": [
    "boolpandarolls.mean()"
   ]
  },
  {
   "cell_type": "markdown",
   "id": "56ca4156-be12-4a1e-b36f-07df0f13a8d6",
   "metadata": {},
   "source": [
    "# Exercises"
   ]
  },
  {
   "cell_type": "markdown",
   "id": "3886a825-c3a5-4a6f-868a-09d824c36b34",
   "metadata": {},
   "source": [
    "#### 1. How likely is it that you roll doubles when rolling two dice?"
   ]
  },
  {
   "cell_type": "code",
   "execution_count": null,
   "id": "95e01755-e7b8-4999-9282-54f548908983",
   "metadata": {},
   "outputs": [],
   "source": []
  },
  {
   "cell_type": "markdown",
   "id": "43ce2ad3-db56-4c2e-b6cd-617d0e651fe0",
   "metadata": {},
   "source": [
    "\n",
    "If you flip 8 coins, what is the probability of getting exactly 3 heads? What is the probability of getting more than 3 heads?\n",
    "\n",
    "There are approximitely 3 web development cohorts for every 1 data science cohort at Codeup. Assuming that Codeup randomly selects an alumni to put on a billboard, what are the odds that the two billboards I drive past both have data science students on them?\n",
    "\n",
    "Codeup students buy, on average, 3 poptart packages (+- 1.5) a day from the snack vending machine. If on monday the machine is restocked with 17 poptart packages, how likely is it that I will be able to buy some poptarts on Friday afternoon?\n",
    "\n",
    "Compare Heights\n",
    "\n",
    "Men have an average height of 178 cm and standard deviation of 8cm.\n",
    "Women have a mean of 170, sd = 6cm.\n",
    "Since you have means and standard deviations, you can use np.random.normal to generate observations.\n",
    "If a man and woman are chosen at random, P(woman taller than man)?\n",
    "When installing anaconda on a student's computer, there's a 1 in 250 chance that the download is corrupted and the installation fails. What are the odds that after having 50 students download anaconda, no one has an installation issue? 100 students?\n",
    "\n",
    "What is the probability that we observe an installation issue within the first 150 students that download anaconda?\n",
    "\n",
    "How likely is it that 450 students all download anaconda without an issue?\n",
    "\n",
    "There's a 70% chance on any given day that there will be at least one food truck at Travis Park. However, you haven't seen a food truck there in 3 days. How unlikely is this?\n",
    "\n",
    "How likely is it that a food truck will show up sometime this week?\n",
    "\n",
    "If 23 people are in the same room, what are the odds that two of them share a birthday? What if it's 20 people? 40?"
   ]
  },
  {
   "cell_type": "code",
   "execution_count": null,
   "id": "dace36b0-f9b3-4055-9269-e67b4212753a",
   "metadata": {},
   "outputs": [],
   "source": []
  }
 ],
 "metadata": {
  "kernelspec": {
   "display_name": "Python 3",
   "language": "python",
   "name": "python3"
  },
  "language_info": {
   "codemirror_mode": {
    "name": "ipython",
    "version": 3
   },
   "file_extension": ".py",
   "mimetype": "text/x-python",
   "name": "python",
   "nbconvert_exporter": "python",
   "pygments_lexer": "ipython3",
   "version": "3.8.8"
  }
 },
 "nbformat": 4,
 "nbformat_minor": 5
}

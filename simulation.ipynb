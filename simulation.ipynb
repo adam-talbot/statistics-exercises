{
 "cells": [
  {
   "cell_type": "markdown",
   "id": "fa46fabd-e0a9-42be-bcb7-8d2eaec9c9e4",
   "metadata": {},
   "source": [
    "# Curriculum Review\n"
   ]
  },
  {
   "cell_type": "code",
   "execution_count": 13,
   "id": "97320d7c-f202-4472-a498-c51b7c4ccfbf",
   "metadata": {},
   "outputs": [],
   "source": [
    "%matplotlib inline\n",
    "import numpy as np\n",
    "import pandas as pd\n",
    "\n",
    "import viz # curriculum example visualizations\n",
    "\n",
    "np.random.seed(29)"
   ]
  },
  {
   "cell_type": "markdown",
   "id": "5bb2b82c-c84f-4a6b-8ef3-da1f430e72b7",
   "metadata": {},
   "source": [
    "## Carnival Dice Rolls\n",
    "    You are at a carnival and come across a person in a booth offering you a game of \"chance\" (as people in booths at carnivals tend to do).\n",
    "    You pay 5 dollars and roll 3 dice. If the sum of the dice rolls is greater than 12, you get 15 dollars. If it's less than or equal to 12, you get nothing.\n",
    "    Assuming the dice are fair, should you play this game? How would this change if the winning condition was a sum greater than or equal to 12?"
   ]
  },
  {
   "cell_type": "code",
   "execution_count": 14,
   "id": "7514e9df-42d7-4132-a66f-a026c8e27c17",
   "metadata": {},
   "outputs": [
    {
     "data": {
      "text/plain": [
       "array([[6, 4, 5],\n",
       "       [6, 3, 1],\n",
       "       [1, 2, 2],\n",
       "       ...,\n",
       "       [6, 2, 1],\n",
       "       [3, 4, 3],\n",
       "       [4, 2, 4]])"
      ]
     },
     "execution_count": 14,
     "metadata": {},
     "output_type": "execute_result"
    }
   ],
   "source": [
    "n_trials = nrows = 10_000\n",
    "n_dice = ncols = 3\n",
    "\n",
    "rolls = np.random.choice([1, 2, 3, 4, 5, 6], n_trials * n_dice).reshape(nrows, ncols)\n",
    "rolls"
   ]
  },
  {
   "cell_type": "code",
   "execution_count": 15,
   "id": "0c630676-a600-4af6-b1ba-837e8201b016",
   "metadata": {},
   "outputs": [
    {
     "data": {
      "text/plain": [
       "array([15, 10,  5, ...,  9, 10, 10])"
      ]
     },
     "execution_count": 15,
     "metadata": {},
     "output_type": "execute_result"
    }
   ],
   "source": [
    "sums_by_trial = rolls.sum(axis=1)\n",
    "sums_by_trial"
   ]
  },
  {
   "cell_type": "code",
   "execution_count": 17,
   "id": "39c23aa2-2559-44ad-9913-0ef80c176087",
   "metadata": {},
   "outputs": [
    {
     "data": {
      "text/plain": [
       "array([ True, False, False, ..., False, False, False])"
      ]
     },
     "execution_count": 17,
     "metadata": {},
     "output_type": "execute_result"
    }
   ],
   "source": [
    "wins = sums_by_trial > 12\n",
    "wins"
   ]
  },
  {
   "cell_type": "code",
   "execution_count": 18,
   "id": "721c248c-b1c6-4d8b-9e9d-d7aa005ec396",
   "metadata": {},
   "outputs": [
    {
     "data": {
      "text/plain": [
       "0.2633"
      ]
     },
     "execution_count": 18,
     "metadata": {},
     "output_type": "execute_result"
    }
   ],
   "source": [
    "wins.mean()"
   ]
  },
  {
   "cell_type": "code",
   "execution_count": 19,
   "id": "23ac868a-5810-467a-9518-b94458dbc7c7",
   "metadata": {},
   "outputs": [
    {
     "data": {
      "text/plain": [
       "0.2633"
      ]
     },
     "execution_count": 19,
     "metadata": {},
     "output_type": "execute_result"
    }
   ],
   "source": [
    "# not necessary, just do mean and it will treat Trues and 1 and False as 0\n",
    "win_rate = wins.astype(int).mean()\n",
    "win_rate"
   ]
  },
  {
   "cell_type": "code",
   "execution_count": 20,
   "id": "dc125780-caff-48eb-a40f-171a30bcbc01",
   "metadata": {},
   "outputs": [
    {
     "data": {
      "text/plain": [
       "-1.0505000000000004"
      ]
     },
     "execution_count": 20,
     "metadata": {},
     "output_type": "execute_result"
    }
   ],
   "source": [
    "expected_winnings = win_rate * 15\n",
    "cost = 5\n",
    "expected_profit = expected_winnings - cost\n",
    "expected_profit"
   ]
  },
  {
   "cell_type": "code",
   "execution_count": 21,
   "id": "3b4d5017-97ca-4e4f-811a-c17aceef1b76",
   "metadata": {},
   "outputs": [
    {
     "data": {
      "text/plain": [
       "0.5860000000000003"
      ]
     },
     "execution_count": 21,
     "metadata": {},
     "output_type": "execute_result"
    }
   ],
   "source": [
    "wins = sums_by_trial >= 12\n",
    "win_rate = wins.astype(int).mean()\n",
    "expected_winnings = win_rate * 15\n",
    "cost = 5\n",
    "expected_profit = expected_winnings - cost\n",
    "expected_profit"
   ]
  },
  {
   "cell_type": "markdown",
   "id": "2f85d17a-56df-4d7d-a1fd-31b1d4d59900",
   "metadata": {},
   "source": [
    "## No Rest or Relaxation\n",
    "    There's a 30% chance my son takes a nap on any given weekend day. What is the chance that he takes a nap at least one day this weekend? What is the probability that he doesn't nap at all? "
   ]
  },
  {
   "cell_type": "code",
   "execution_count": 22,
   "id": "5f269a69-8bd3-46e3-8177-eb7cf573bba8",
   "metadata": {},
   "outputs": [],
   "source": [
    "p_nap = .3\n",
    "ndays = ncols = 2\n",
    "n_simulated_weekends = nrows = 10**5"
   ]
  },
  {
   "cell_type": "code",
   "execution_count": 23,
   "id": "eb92ea8c-ddab-4da4-a3e9-3057b0068322",
   "metadata": {},
   "outputs": [
    {
     "data": {
      "text/plain": [
       "array([[0.46762045, 0.70078355],\n",
       "       [0.18897809, 0.54312897],\n",
       "       [0.253291  , 0.43836437],\n",
       "       ...,\n",
       "       [0.15008559, 0.37577491],\n",
       "       [0.34690321, 0.58934311],\n",
       "       [0.97135998, 0.57219933]])"
      ]
     },
     "execution_count": 23,
     "metadata": {},
     "output_type": "execute_result"
    }
   ],
   "source": [
    "data = np.random.random((nrows, ncols))\n",
    "data"
   ]
  },
  {
   "cell_type": "code",
   "execution_count": 24,
   "id": "50283d2b-4d2a-4c0b-b2ff-c29a77b5b165",
   "metadata": {},
   "outputs": [
    {
     "data": {
      "text/plain": [
       "array([[False, False],\n",
       "       [ True, False],\n",
       "       [ True, False],\n",
       "       ...,\n",
       "       [ True, False],\n",
       "       [False, False],\n",
       "       [False, False]])"
      ]
     },
     "execution_count": 24,
     "metadata": {},
     "output_type": "execute_result"
    }
   ],
   "source": [
    "naps = data < p_nap\n",
    "naps"
   ]
  },
  {
   "cell_type": "code",
   "execution_count": 25,
   "id": "8ca6d85b-3c9c-463b-b5ec-acf79a95e46a",
   "metadata": {},
   "outputs": [
    {
     "data": {
      "text/plain": [
       "array([0, 1, 1, ..., 1, 0, 0])"
      ]
     },
     "execution_count": 25,
     "metadata": {},
     "output_type": "execute_result"
    }
   ],
   "source": [
    "naps.sum(axis=1)"
   ]
  },
  {
   "cell_type": "code",
   "execution_count": 26,
   "id": "e2ddb788-4b12-48b4-b549-9a3104dba7b5",
   "metadata": {},
   "outputs": [
    {
     "data": {
      "text/plain": [
       "0.50998"
      ]
     },
     "execution_count": 26,
     "metadata": {},
     "output_type": "execute_result"
    }
   ],
   "source": [
    "(naps.sum(axis=1) >= 1).mean()"
   ]
  },
  {
   "cell_type": "code",
   "execution_count": 27,
   "id": "90944083-1bd3-4688-9a98-75ce3341d042",
   "metadata": {},
   "outputs": [
    {
     "data": {
      "text/plain": [
       "0.49002"
      ]
     },
     "execution_count": 27,
     "metadata": {},
     "output_type": "execute_result"
    }
   ],
   "source": [
    "(naps.sum(axis=1) == 0).mean()"
   ]
  },
  {
   "cell_type": "markdown",
   "id": "85c03f59-97e9-41a9-9e40-43e01157a0ad",
   "metadata": {},
   "source": [
    "## One With Dataframes\n",
    "    Let's take a look at one more problem:\n",
    "    What is the probability of getting at least one 3 in 3 dice rolls?"
   ]
  },
  {
   "cell_type": "code",
   "execution_count": 41,
   "id": "b6a6b02d-5810-4e58-9795-e2b25e2be291",
   "metadata": {},
   "outputs": [
    {
     "data": {
      "text/plain": [
       "array([[3, 3, 6],\n",
       "       [5, 3, 2],\n",
       "       [4, 4, 6],\n",
       "       ...,\n",
       "       [5, 4, 1],\n",
       "       [5, 2, 4],\n",
       "       [1, 1, 6]])"
      ]
     },
     "execution_count": 41,
     "metadata": {},
     "output_type": "execute_result"
    }
   ],
   "source": [
    "n_simulations = nrows = 10**5\n",
    "n_dice_rolled = ncols = 3\n",
    "\n",
    "rolls = np.random.choice([1, 2, 3, 4, 5, 6], nrows * ncols).reshape(nrows, ncols)\n",
    "rolls"
   ]
  },
  {
   "cell_type": "code",
   "execution_count": 42,
   "id": "fbc75841-c81e-4a08-aa16-950632d5de7d",
   "metadata": {},
   "outputs": [
    {
     "data": {
      "text/html": [
       "<div>\n",
       "<style scoped>\n",
       "    .dataframe tbody tr th:only-of-type {\n",
       "        vertical-align: middle;\n",
       "    }\n",
       "\n",
       "    .dataframe tbody tr th {\n",
       "        vertical-align: top;\n",
       "    }\n",
       "\n",
       "    .dataframe thead th {\n",
       "        text-align: right;\n",
       "    }\n",
       "</style>\n",
       "<table border=\"1\" class=\"dataframe\">\n",
       "  <thead>\n",
       "    <tr style=\"text-align: right;\">\n",
       "      <th></th>\n",
       "      <th>0</th>\n",
       "      <th>1</th>\n",
       "      <th>2</th>\n",
       "    </tr>\n",
       "  </thead>\n",
       "  <tbody>\n",
       "    <tr>\n",
       "      <th>0</th>\n",
       "      <td>3</td>\n",
       "      <td>3</td>\n",
       "      <td>6</td>\n",
       "    </tr>\n",
       "    <tr>\n",
       "      <th>1</th>\n",
       "      <td>5</td>\n",
       "      <td>3</td>\n",
       "      <td>2</td>\n",
       "    </tr>\n",
       "    <tr>\n",
       "      <th>2</th>\n",
       "      <td>4</td>\n",
       "      <td>4</td>\n",
       "      <td>6</td>\n",
       "    </tr>\n",
       "    <tr>\n",
       "      <th>3</th>\n",
       "      <td>6</td>\n",
       "      <td>2</td>\n",
       "      <td>1</td>\n",
       "    </tr>\n",
       "    <tr>\n",
       "      <th>4</th>\n",
       "      <td>3</td>\n",
       "      <td>6</td>\n",
       "      <td>4</td>\n",
       "    </tr>\n",
       "  </tbody>\n",
       "</table>\n",
       "</div>"
      ],
      "text/plain": [
       "   0  1  2\n",
       "0  3  3  6\n",
       "1  5  3  2\n",
       "2  4  4  6\n",
       "3  6  2  1\n",
       "4  3  6  4"
      ]
     },
     "execution_count": 42,
     "metadata": {},
     "output_type": "execute_result"
    }
   ],
   "source": [
    "pandarolls = pd.DataFrame(rolls)\n",
    "pandarolls.head()"
   ]
  },
  {
   "cell_type": "code",
   "execution_count": 43,
   "id": "0eaaf9d0-3e34-40a6-8ed4-91da4b6db47a",
   "metadata": {},
   "outputs": [
    {
     "data": {
      "text/plain": [
       "0     True\n",
       "1     True\n",
       "2    False\n",
       "3    False\n",
       "4     True\n",
       "dtype: bool"
      ]
     },
     "execution_count": 43,
     "metadata": {},
     "output_type": "execute_result"
    }
   ],
   "source": [
    "boolpandarolls = pandarolls.apply(lambda row: 3 in row.values, axis=1)\n",
    "boolpandarolls.head()"
   ]
  },
  {
   "cell_type": "code",
   "execution_count": 44,
   "id": "120c9d45-8887-4923-ae46-f16def9955aa",
   "metadata": {},
   "outputs": [
    {
     "data": {
      "text/plain": [
       "0.42251"
      ]
     },
     "execution_count": 44,
     "metadata": {},
     "output_type": "execute_result"
    }
   ],
   "source": [
    "boolpandarolls.mean()"
   ]
  },
  {
   "cell_type": "markdown",
   "id": "56ca4156-be12-4a1e-b36f-07df0f13a8d6",
   "metadata": {},
   "source": [
    "# Exercises"
   ]
  },
  {
   "cell_type": "markdown",
   "id": "5d2234b2-a54e-4b77-8953-37833d13b2e8",
   "metadata": {},
   "source": [
    "#### 1. "
   ]
  },
  {
   "cell_type": "markdown",
   "id": "dbdfaa2b-6867-4af6-b3a9-bf22e4173cca",
   "metadata": {},
   "source": [
    "How likely is it that you roll doubles when rolling two dice?"
   ]
  },
  {
   "cell_type": "code",
   "execution_count": 52,
   "id": "95e01755-e7b8-4999-9282-54f548908983",
   "metadata": {
    "tags": []
   },
   "outputs": [
    {
     "data": {
      "text/plain": [
       "0.166536"
      ]
     },
     "execution_count": 52,
     "metadata": {},
     "output_type": "execute_result"
    }
   ],
   "source": [
    "# define potential outcomes\n",
    "outcomes = [1,2,3,4,5,6]\n",
    "simulations = 1_000_000\n",
    "rolls1 = np.random.choice(outcomes, simulations)\n",
    "rolls2 = np.random.choice(outcomes, simulations)\n",
    "\n",
    "same = rolls1 == rolls2\n",
    "same.mean()"
   ]
  },
  {
   "cell_type": "code",
   "execution_count": 53,
   "id": "da8bed74-9125-41c2-aae7-98577c21ec10",
   "metadata": {},
   "outputs": [
    {
     "data": {
      "text/plain": [
       "0.16666666666666666"
      ]
     },
     "execution_count": 53,
     "metadata": {},
     "output_type": "execute_result"
    }
   ],
   "source": [
    "# theoretical\n",
    "6 / 36"
   ]
  },
  {
   "cell_type": "code",
   "execution_count": 55,
   "id": "752ef76f-7956-4dd2-ac78-ee044d502de4",
   "metadata": {},
   "outputs": [
    {
     "data": {
      "text/plain": [
       "0.166924"
      ]
     },
     "execution_count": 55,
     "metadata": {},
     "output_type": "execute_result"
    }
   ],
   "source": [
    "# try with different syntax for np.random.choice\n",
    "outcomes = [1,2,3,4,5,6]\n",
    "simulations = 1_000_000\n",
    "rolls1 = np.random.choice(outcomes, size = simulations)\n",
    "rolls2 = np.random.choice(outcomes, size = simulations)\n",
    "\n",
    "same = rolls1 == rolls2\n",
    "same.mean()\n",
    "# looks like second argument defaults to being size without having to type \"size =\""
   ]
  },
  {
   "cell_type": "markdown",
   "id": "904fa896-284c-4adb-8234-8c972990671a",
   "metadata": {},
   "source": [
    "#### 2. "
   ]
  },
  {
   "cell_type": "markdown",
   "id": "5a8c07d3-b0c2-48d9-836a-3c5937de6727",
   "metadata": {},
   "source": [
    "If you flip 8 coins, what is the probability of getting exactly 3 heads? What is the probability of getting more than 3 heads?"
   ]
  },
  {
   "cell_type": "code",
   "execution_count": 77,
   "id": "af3a88b0-3423-4d4f-88ea-73cfe534e00c",
   "metadata": {},
   "outputs": [
    {
     "data": {
      "text/plain": [
       "array([[1, 0, 1, 1, 0, 1, 0, 0],\n",
       "       [1, 0, 0, 0, 0, 0, 0, 1],\n",
       "       [1, 0, 1, 0, 1, 0, 0, 1],\n",
       "       [0, 1, 1, 1, 0, 0, 0, 0],\n",
       "       [0, 0, 0, 0, 1, 0, 1, 0]])"
      ]
     },
     "execution_count": 77,
     "metadata": {},
     "output_type": "execute_result"
    }
   ],
   "source": [
    "# create a matrix that is 8 x 1M where each value represets a flip\n",
    "\n",
    "# create boolean mask where new array value == 3\n",
    "outcomes = [1, 0] # 1 is heads and 0 is tails\n",
    "ncoins = ncols = 8\n",
    "nsimulations = nrows = 1_000_000\n",
    "\n",
    "# flips = np.random.choice(outcomes, ncols * nrows).reshape(nrows, ncols) # this is the method shown in the curriculum, but there is a better way\n",
    "flips = np.random.choice(outcomes, size=(nsimulations, ncols))\n",
    "\n",
    "flips[0:5]"
   ]
  },
  {
   "cell_type": "code",
   "execution_count": 78,
   "id": "e9c3df14-1187-4d59-90f1-5bad42013a94",
   "metadata": {},
   "outputs": [
    {
     "data": {
      "text/plain": [
       "array([4, 2, 4, ..., 2, 3, 3])"
      ]
     },
     "execution_count": 78,
     "metadata": {},
     "output_type": "execute_result"
    }
   ],
   "source": [
    "# sum each row and add new values to new 1D array\n",
    "sum_of_flips = flips.sum(axis=1)\n",
    "sum_of_flips"
   ]
  },
  {
   "cell_type": "code",
   "execution_count": 79,
   "id": "d3bcb873-0a4d-4109-be47-6a41b6a43d31",
   "metadata": {},
   "outputs": [
    {
     "data": {
      "text/plain": [
       "array([False, False, False, ..., False,  True,  True])"
      ]
     },
     "execution_count": 79,
     "metadata": {},
     "output_type": "execute_result"
    }
   ],
   "source": [
    "# create boolean mask where new array value == 3\n",
    "three_heads = sum_of_flips == 3\n",
    "three_heads"
   ]
  },
  {
   "cell_type": "code",
   "execution_count": 80,
   "id": "1a6afa4a-37e4-4021-8144-feda7cc95ae5",
   "metadata": {},
   "outputs": [
    {
     "data": {
      "text/plain": [
       "0.218896"
      ]
     },
     "execution_count": 80,
     "metadata": {},
     "output_type": "execute_result"
    }
   ],
   "source": [
    "# find probability using mean of boolean mask\n",
    "probability_of_three_heads = three_heads.mean()\n",
    "probability_of_three_heads"
   ]
  },
  {
   "cell_type": "code",
   "execution_count": 82,
   "id": "42e9d1b5-f590-4545-b4eb-d13147848ebb",
   "metadata": {},
   "outputs": [
    {
     "data": {
      "text/plain": [
       "array([ True, False,  True, ..., False,  True,  True])"
      ]
     },
     "execution_count": 82,
     "metadata": {},
     "output_type": "execute_result"
    }
   ],
   "source": [
    "# getting more than three heads\n",
    "# change condition for boolean mask and repeat rest of steps\n",
    "more_than_three_heads = sum_of_flips >= 3\n",
    "more_than_three_heads"
   ]
  },
  {
   "cell_type": "code",
   "execution_count": 84,
   "id": "f2b9920a-5025-4068-b12d-03495a2ee045",
   "metadata": {},
   "outputs": [
    {
     "data": {
      "text/plain": [
       "0.855686"
      ]
     },
     "execution_count": 84,
     "metadata": {},
     "output_type": "execute_result"
    }
   ],
   "source": [
    "probability_more_than_three = more_than_three_heads.mean()\n",
    "probability_more_than_three"
   ]
  },
  {
   "cell_type": "markdown",
   "id": "f07969a5-43a6-499e-866a-8d21f671cc5f",
   "metadata": {},
   "source": [
    "#### 3. "
   ]
  },
  {
   "cell_type": "markdown",
   "id": "a9a358a7-c7b4-4383-a2f5-e4dc999d1307",
   "metadata": {},
   "source": [
    "There are approximitely 3 web development cohorts for every 1 data science cohort at Codeup. Assuming that Codeup randomly selects an alumni to put on a billboard, what are the odds that the two billboards I drive past both have data science students on them?"
   ]
  },
  {
   "cell_type": "code",
   "execution_count": 87,
   "id": "edddc589-79c5-423f-ba6a-491fcf64daf1",
   "metadata": {},
   "outputs": [
    {
     "data": {
      "text/plain": [
       "array([[0, 0],\n",
       "       [1, 1],\n",
       "       [0, 1],\n",
       "       ...,\n",
       "       [0, 1],\n",
       "       [0, 0],\n",
       "       [0, 0]])"
      ]
     },
     "execution_count": 87,
     "metadata": {},
     "output_type": "execute_result"
    }
   ],
   "source": [
    "# will have to use the p argument in np.random.choice to set probabilities\n",
    "outcomes = [1, 0] #one for data science and 0 for webdev\n",
    "prob = [0.25, 0.75]\n",
    "nbillboards = ncols = 2\n",
    "nsimulations = nrows = 1_000_000\n",
    "\n",
    "billboard = np.random.choice(outcomes, size=(nsimulations, ncols), p=prob)\n",
    "billboard"
   ]
  },
  {
   "cell_type": "code",
   "execution_count": 89,
   "id": "6d5e52a6-f1aa-41dd-9387-3c6913cf9e31",
   "metadata": {},
   "outputs": [
    {
     "data": {
      "text/plain": [
       "array([0, 2, 1, ..., 1, 0, 0])"
      ]
     },
     "execution_count": 89,
     "metadata": {},
     "output_type": "execute_result"
    }
   ],
   "source": [
    "# sum the rows to create new 1d array\n",
    "sum_of_ds = billboard.sum(axis=1)\n",
    "sum_of_ds"
   ]
  },
  {
   "cell_type": "code",
   "execution_count": 91,
   "id": "dc89d951-2952-4ec9-bedf-fc4ac044f7f6",
   "metadata": {},
   "outputs": [
    {
     "data": {
      "text/plain": [
       "array([False,  True, False, ..., False, False, False])"
      ]
     },
     "execution_count": 91,
     "metadata": {},
     "output_type": "execute_result"
    }
   ],
   "source": [
    "# create boolean mask with condition where == 2\n",
    "both_ds = sum_of_ds == 2\n",
    "both_ds"
   ]
  },
  {
   "cell_type": "code",
   "execution_count": 93,
   "id": "c4cf9622-c250-4db7-a41c-8be51a5e6ac9",
   "metadata": {},
   "outputs": [
    {
     "data": {
      "text/plain": [
       "0.062834"
      ]
     },
     "execution_count": 93,
     "metadata": {},
     "output_type": "execute_result"
    }
   ],
   "source": [
    "probability_of_both_ds = both_ds.mean()\n",
    "probability_of_both_ds"
   ]
  },
  {
   "cell_type": "code",
   "execution_count": 94,
   "id": "75d9d26b-fa9c-4ba5-9952-27b02b0f85eb",
   "metadata": {},
   "outputs": [
    {
     "data": {
      "text/plain": [
       "0.0625"
      ]
     },
     "execution_count": 94,
     "metadata": {},
     "output_type": "execute_result"
    }
   ],
   "source": [
    "# theoretical\n",
    "0.25 ** 2"
   ]
  },
  {
   "cell_type": "markdown",
   "id": "89f3bc72-7a03-42da-8d8c-b83c3725dfef",
   "metadata": {},
   "source": [
    "#### 4.  "
   ]
  },
  {
   "cell_type": "markdown",
   "id": "24089789-4861-4738-93cc-188d002320df",
   "metadata": {},
   "source": [
    "Codeup students buy, on average, 3 poptart packages (+- 1.5) a day from the snack vending machine. If on monday the machine is restocked with 17 poptart packages, how likely is it that I will be able to buy some poptarts on Friday afternoon?"
   ]
  },
  {
   "cell_type": "code",
   "execution_count": 103,
   "id": "339e7eec-6568-4002-9e9a-763b19694a39",
   "metadata": {},
   "outputs": [
    {
     "data": {
      "text/plain": [
       "array([[3.24785696, 5.26920465, 3.80526465, 4.17531891, 3.94814869],\n",
       "       [3.10775126, 3.61137905, 3.40837398, 4.88380256, 3.65230578],\n",
       "       [4.74301626, 3.44715995, 4.95185758, 4.21623088, 6.51033716],\n",
       "       ...,\n",
       "       [3.73174214, 1.05063008, 4.15103049, 2.71041675, 3.52854683],\n",
       "       [1.65063811, 2.22448541, 5.54082656, 5.05661653, 6.84130274],\n",
       "       [1.71960837, 1.22646326, 1.41453264, 1.85094099, 4.06341107]])"
      ]
     },
     "execution_count": 103,
     "metadata": {},
     "output_type": "execute_result"
    }
   ],
   "source": [
    "# use np.random.normal to create numbers\n",
    "ndays = ncols = 5\n",
    "nsimulations = nrows = 1_000_000\n",
    "\n",
    "poptarts = np.random.normal(3, 1.5, (nrows, ncols))\n",
    "poptarts"
   ]
  },
  {
   "cell_type": "code",
   "execution_count": 99,
   "id": "f6e82cde-a011-4c75-be72-18ea8ec64d99",
   "metadata": {},
   "outputs": [
    {
     "data": {
      "text/plain": [
       "array([18.62932646, 12.77864268, 16.08061129, ..., 16.26186138,\n",
       "       14.5209858 , 19.86396312])"
      ]
     },
     "execution_count": 99,
     "metadata": {},
     "output_type": "execute_result"
    }
   ],
   "source": [
    "# sum rows and compare to 17\n",
    "sum_of_bought = poptarts.sum(axis=1)\n",
    "sum_of_bought"
   ]
  },
  {
   "cell_type": "code",
   "execution_count": 101,
   "id": "4cae931d-ac6f-4df4-8a6a-545c9131d6be",
   "metadata": {},
   "outputs": [
    {
     "data": {
      "text/plain": [
       "array([ True, False, False, ..., False, False,  True])"
      ]
     },
     "execution_count": 101,
     "metadata": {},
     "output_type": "execute_result"
    }
   ],
   "source": [
    "any_left = sum_of_bought > 17\n",
    "any_left"
   ]
  },
  {
   "cell_type": "code",
   "execution_count": 102,
   "id": "425b43f9-2e65-4e6e-a5d1-93d8bf196475",
   "metadata": {},
   "outputs": [
    {
     "data": {
      "text/plain": [
       "0.275339"
      ]
     },
     "execution_count": 102,
     "metadata": {},
     "output_type": "execute_result"
    }
   ],
   "source": [
    "any_left.mean()"
   ]
  },
  {
   "cell_type": "markdown",
   "id": "b52d9097-9dbb-43fd-bf59-1b08b27c8d7f",
   "metadata": {},
   "source": [
    "#### 5. "
   ]
  },
  {
   "cell_type": "markdown",
   "id": "cf85d5fc-7abd-494c-a46a-ad1a398ceeb0",
   "metadata": {},
   "source": [
    "Compare Heights\n",
    "- Men have an average height of 178 cm and standard deviation of 8cm.\n",
    "- Women have a mean of 170, sd = 6cm.\n",
    "- Since you have means and standard deviations, you can use np.random.normal to generate observations.\n",
    "- If a man and woman are chosen at random, P(woman taller than man)?"
   ]
  },
  {
   "cell_type": "code",
   "execution_count": 104,
   "id": "cf93dfe8-0fdf-4cf9-b486-e5dfb3e62473",
   "metadata": {},
   "outputs": [
    {
     "data": {
      "text/plain": [
       "array([[187.84056005],\n",
       "       [181.51032839],\n",
       "       [192.83671763],\n",
       "       ...,\n",
       "       [172.25600002],\n",
       "       [175.40716893],\n",
       "       [194.26125042]])"
      ]
     },
     "execution_count": 104,
     "metadata": {},
     "output_type": "execute_result"
    }
   ],
   "source": [
    "# use np.random.normal to create numbers 0.21\n",
    "ncols = 1\n",
    "nsimulations = nrows = 1_000_000\n",
    "\n",
    "heights_men = np.random.normal(178, 8, (nrows, ncols))\n",
    "heights_men"
   ]
  },
  {
   "cell_type": "code",
   "execution_count": 105,
   "id": "c258fb92-0660-4a4d-bd10-e3c60cd0b0d5",
   "metadata": {},
   "outputs": [
    {
     "data": {
      "text/plain": [
       "array([[167.64489892],\n",
       "       [175.16359697],\n",
       "       [184.35736378],\n",
       "       ...,\n",
       "       [172.7989298 ],\n",
       "       [161.6757952 ],\n",
       "       [157.60098654]])"
      ]
     },
     "execution_count": 105,
     "metadata": {},
     "output_type": "execute_result"
    }
   ],
   "source": [
    "ncols = 1\n",
    "nsimulations = nrows = 1_000_000\n",
    "\n",
    "heights_women = np.random.normal(170, 6, (nrows, ncols))\n",
    "heights_women"
   ]
  },
  {
   "cell_type": "code",
   "execution_count": 107,
   "id": "7d372962-f259-48d2-8df7-4adcd2d0f0d4",
   "metadata": {},
   "outputs": [
    {
     "data": {
      "text/plain": [
       "array([[False],\n",
       "       [False],\n",
       "       [False],\n",
       "       ...,\n",
       "       [ True],\n",
       "       [False],\n",
       "       [False]])"
      ]
     },
     "execution_count": 107,
     "metadata": {},
     "output_type": "execute_result"
    }
   ],
   "source": [
    "taller = heights_women > heights_men\n",
    "taller"
   ]
  },
  {
   "cell_type": "code",
   "execution_count": 108,
   "id": "29cc3182-9469-427b-8449-a368202d8f30",
   "metadata": {},
   "outputs": [
    {
     "data": {
      "text/plain": [
       "0.212147"
      ]
     },
     "execution_count": 108,
     "metadata": {},
     "output_type": "execute_result"
    }
   ],
   "source": [
    "taller.mean()"
   ]
  },
  {
   "cell_type": "markdown",
   "id": "76519036-4f84-4c3f-88c7-f6cd6b986025",
   "metadata": {},
   "source": [
    "#### 6. "
   ]
  },
  {
   "cell_type": "markdown",
   "id": "3e4519b6-7c9e-4142-a6c6-76a23ac33895",
   "metadata": {},
   "source": [
    "When installing anaconda on a student's computer, there's a 1 in 250 chance that the download is corrupted and the installation fails. What are the odds that after having 50 students download anaconda, no one has an installation issue? 100 students?\n",
    "- What is the probability that we observe an installation issue within the first 150 students that download anaconda?\n",
    "- How likely is it that 450 students all download anaconda without an issue?"
   ]
  },
  {
   "cell_type": "code",
   "execution_count": 118,
   "id": "9c4a3d76-3c60-40db-95b2-9127ff30f7a9",
   "metadata": {},
   "outputs": [
    {
     "data": {
      "text/plain": [
       "array([[0, 0, 0, ..., 0, 0, 0],\n",
       "       [0, 0, 0, ..., 0, 0, 0],\n",
       "       [0, 0, 0, ..., 0, 0, 0],\n",
       "       ...,\n",
       "       [0, 0, 0, ..., 0, 0, 0],\n",
       "       [0, 0, 0, ..., 0, 0, 0],\n",
       "       [0, 0, 0, ..., 0, 0, 0]])"
      ]
     },
     "execution_count": 118,
     "metadata": {},
     "output_type": "execute_result"
    }
   ],
   "source": [
    "# define probability\n",
    "outcomes = [0, 1] # zero for success, 1 for issues\n",
    "prob = [249/250, 1/250]\n",
    "ndownloads = ncols = 50\n",
    "nsimulations = nrows = 1_000_000\n",
    "\n",
    "anaconda = np.random.choice(outcomes, size=(nsimulations, ncols), p=prob)\n",
    "anaconda"
   ]
  },
  {
   "cell_type": "code",
   "execution_count": 120,
   "id": "5b509045-58e5-47e5-8237-641860e7fa17",
   "metadata": {},
   "outputs": [
    {
     "data": {
      "text/plain": [
       "array([0, 0, 0, ..., 0, 0, 0])"
      ]
     },
     "execution_count": 120,
     "metadata": {},
     "output_type": "execute_result"
    }
   ],
   "source": [
    "#sum rows, if > 0, someone had issues\n",
    "sum_of_issues = anaconda.sum(axis=1)\n",
    "sum_of_issues"
   ]
  },
  {
   "cell_type": "code",
   "execution_count": 124,
   "id": "7ff4ab0a-35f2-4d69-8139-da275e6108c1",
   "metadata": {},
   "outputs": [
    {
     "data": {
      "text/plain": [
       "array([ True,  True,  True, ...,  True,  True,  True])"
      ]
     },
     "execution_count": 124,
     "metadata": {},
     "output_type": "execute_result"
    }
   ],
   "source": [
    "issues = sum_of_issues == 0\n",
    "issues"
   ]
  },
  {
   "cell_type": "code",
   "execution_count": 125,
   "id": "e691e5ce-e152-405e-96e3-de542e51b44a",
   "metadata": {},
   "outputs": [
    {
     "data": {
      "text/plain": [
       "0.819024"
      ]
     },
     "execution_count": 125,
     "metadata": {},
     "output_type": "execute_result"
    }
   ],
   "source": [
    "issues.mean()"
   ]
  },
  {
   "cell_type": "code",
   "execution_count": 127,
   "id": "a58cd43b-e1ff-42b5-96db-1da602be30c9",
   "metadata": {},
   "outputs": [
    {
     "data": {
      "text/plain": [
       "0.669015"
      ]
     },
     "execution_count": 127,
     "metadata": {},
     "output_type": "execute_result"
    }
   ],
   "source": [
    "# redo using 100 students\n",
    "outcomes = [0, 1] # zero for success, 1 for issues\n",
    "prob = [249/250, 1/250]\n",
    "ndownloads = ncols = 100\n",
    "nsimulations = nrows = 1_000_000\n",
    "\n",
    "anaconda = np.random.choice(outcomes, size=(nsimulations, ncols), p=prob)\n",
    "sum_of_issues = anaconda.sum(axis=1)\n",
    "issues = sum_of_issues == 0\n",
    "issues.mean()"
   ]
  },
  {
   "cell_type": "code",
   "execution_count": 130,
   "id": "c505db59-4928-44da-b1ee-559555cd0387",
   "metadata": {},
   "outputs": [
    {
     "data": {
      "text/plain": [
       "0.451561"
      ]
     },
     "execution_count": 130,
     "metadata": {},
     "output_type": "execute_result"
    }
   ],
   "source": [
    "# What is the probability that we observe an installation issue within the first 150 students that download anaconda?\n",
    "# are looking for issues so logic will change to make the mask\n",
    "\n",
    "outcomes = [0, 1] # zero for success, 1 for issues\n",
    "prob = [249/250, 1/250]\n",
    "ndownloads = ncols = 150\n",
    "nsimulations = nrows = 1_000_000\n",
    "\n",
    "anaconda = np.random.choice(outcomes, size=(nsimulations, ncols), p=prob)\n",
    "sum_of_issues = anaconda.sum(axis=1)\n",
    "issues = sum_of_issues > 0\n",
    "issues.mean()"
   ]
  },
  {
   "cell_type": "code",
   "execution_count": 132,
   "id": "76282229-cb81-4d8c-878b-a0523c4e0c6a",
   "metadata": {},
   "outputs": [
    {
     "data": {
      "text/plain": [
       "0.164046"
      ]
     },
     "execution_count": 132,
     "metadata": {},
     "output_type": "execute_result"
    }
   ],
   "source": [
    "# How likely is it that 450 students all download anaconda without an issue?\n",
    "# switching back to condition where there are no issues\n",
    "outcomes = [0, 1] # one for success, zero for issues\n",
    "prob = [249/250, 1/250]\n",
    "ndownloads = ncols = 450\n",
    "nsimulations = nrows = 1_000_000\n",
    "\n",
    "anaconda = np.random.choice(outcomes, size=(nsimulations, ncols), p=prob)\n",
    "sum_of_issues = anaconda.sum(axis=1)\n",
    "issues = sum_of_issues == 0\n",
    "issues.mean()"
   ]
  },
  {
   "cell_type": "markdown",
   "id": "d579e819-7db1-49a9-a68b-893e8df88f98",
   "metadata": {},
   "source": [
    "#### 7. "
   ]
  },
  {
   "cell_type": "markdown",
   "id": "4bde0303-0c3e-484a-9e48-a695b4eb6ae0",
   "metadata": {},
   "source": [
    "There's a 70% chance on any given day that there will be at least one food truck at Travis Park. However, you haven't seen a food truck there in 3 days. How unlikely is this? How likely is it that a food truck will show up sometime this week?"
   ]
  },
  {
   "cell_type": "code",
   "execution_count": 134,
   "id": "67fd8d6a-0ab9-4ddd-8d25-b4708184a14f",
   "metadata": {},
   "outputs": [
    {
     "data": {
      "text/plain": [
       "array([[0, 1, 1],\n",
       "       [0, 1, 1],\n",
       "       [1, 1, 0],\n",
       "       ...,\n",
       "       [1, 1, 1],\n",
       "       [1, 1, 1],\n",
       "       [1, 1, 1]])"
      ]
     },
     "execution_count": 134,
     "metadata": {},
     "output_type": "execute_result"
    }
   ],
   "source": [
    "outcomes = [1, 0] # 1 for seeing a food truck, 0 for not\n",
    "prob = [0.7, 0.3]\n",
    "ndownloads = ncols = 3\n",
    "nsimulations = nrows = 1_000_000\n",
    "\n",
    "travis = np.random.choice(outcomes, size=(nsimulations, ncols), p=prob)\n",
    "travis"
   ]
  },
  {
   "cell_type": "code",
   "execution_count": 136,
   "id": "b3a96d32-5739-4391-b99d-e6657a440251",
   "metadata": {},
   "outputs": [
    {
     "data": {
      "text/plain": [
       "array([2, 2, 2, ..., 3, 3, 3])"
      ]
     },
     "execution_count": 136,
     "metadata": {},
     "output_type": "execute_result"
    }
   ],
   "source": [
    "sum_of_sightings = travis.sum(axis=1)\n",
    "sum_of_sightings"
   ]
  },
  {
   "cell_type": "code",
   "execution_count": 138,
   "id": "41d764f7-71bd-4bdf-82cf-9fba4c27c554",
   "metadata": {},
   "outputs": [
    {
     "data": {
      "text/plain": [
       "array([False, False, False, ..., False, False, False])"
      ]
     },
     "execution_count": 138,
     "metadata": {},
     "output_type": "execute_result"
    }
   ],
   "source": [
    "no_sightings = sum_of_sightings == 0\n",
    "no_sightings"
   ]
  },
  {
   "cell_type": "code",
   "execution_count": 139,
   "id": "a59d9938-a529-40f0-9425-f592b7d42fb8",
   "metadata": {},
   "outputs": [
    {
     "data": {
      "text/plain": [
       "0.027025"
      ]
     },
     "execution_count": 139,
     "metadata": {},
     "output_type": "execute_result"
    }
   ],
   "source": [
    "no_sightings.mean()"
   ]
  },
  {
   "cell_type": "code",
   "execution_count": 142,
   "id": "a8e11444-2c3e-49ea-b154-0bbbb65d7db4",
   "metadata": {},
   "outputs": [
    {
     "data": {
      "text/plain": [
       "0.999773"
      ]
     },
     "execution_count": 142,
     "metadata": {},
     "output_type": "execute_result"
    }
   ],
   "source": [
    "# How likely is it that a food truck will show up sometime this week?\n",
    "outcomes = [1, 0] # 1 for seeing a food truck, 0 for not\n",
    "prob = [0.7, 0.3]\n",
    "ndownloads = ncols = 7\n",
    "nsimulations = nrows = 1_000_000\n",
    "\n",
    "travis = np.random.choice(outcomes, size=(nsimulations, ncols), p=prob)\n",
    "\n",
    "sum_of_sightings = travis.sum(axis=1)\n",
    "\n",
    "sighting_this_week = sum_of_sightings > 0\n",
    "\n",
    "sighting_this_week.mean()\n"
   ]
  },
  {
   "cell_type": "markdown",
   "id": "134ae01d-17b3-49b4-8a19-8e69672d9f6e",
   "metadata": {},
   "source": [
    "#### 8. "
   ]
  },
  {
   "cell_type": "markdown",
   "id": "8d05e1ca-31a3-44b3-a116-e666feeb4a0f",
   "metadata": {},
   "source": [
    "If 23 people are in the same room, what are the odds that two of them share a birthday? What if it's 20 people? 40?"
   ]
  },
  {
   "cell_type": "code",
   "execution_count": 149,
   "id": "dace36b0-f9b3-4055-9269-e67b4212753a",
   "metadata": {
    "tags": []
   },
   "outputs": [
    {
     "data": {
      "text/plain": [
       "0.9972602739726028"
      ]
     },
     "execution_count": 149,
     "metadata": {},
     "output_type": "execute_result"
    }
   ],
   "source": [
    "# the probability of two people having different birthday is (365/365)*(364/365)\n",
    "p_of_2_diff = (365/365)*(364/365)\n",
    "p_of_2_diff"
   ]
  },
  {
   "cell_type": "code",
   "execution_count": 154,
   "id": "c17ba476-55f7-41f2-9903-c67526fbcfa0",
   "metadata": {},
   "outputs": [
    {
     "data": {
      "text/plain": [
       "array([[0, 0, 0, 0, 0, 0, 0, 0, 0, 0, 0, 0, 0, 0, 0, 0, 0, 0, 0, 0, 0, 0,\n",
       "        0],\n",
       "       [0, 0, 0, 0, 0, 0, 0, 0, 0, 0, 0, 0, 0, 0, 0, 0, 0, 0, 0, 0, 0, 0,\n",
       "        0],\n",
       "       [0, 0, 0, 0, 0, 0, 0, 0, 0, 0, 0, 0, 0, 0, 0, 0, 0, 0, 0, 0, 0, 0,\n",
       "        0],\n",
       "       [0, 0, 0, 0, 0, 0, 0, 0, 0, 0, 0, 0, 0, 0, 0, 0, 0, 0, 0, 0, 0, 0,\n",
       "        0],\n",
       "       [0, 0, 0, 0, 0, 0, 0, 0, 0, 0, 0, 0, 0, 0, 0, 0, 0, 0, 0, 0, 0, 0,\n",
       "        0]])"
      ]
     },
     "execution_count": 154,
     "metadata": {},
     "output_type": "execute_result"
    }
   ],
   "source": [
    "outcomes = [1, 0] # 1 for same, 0 for diff\n",
    "prob = [1 - p_of_2_diff, p_of_2_diff]\n",
    "ncols = 23\n",
    "nrows = 1_000_000\n",
    "\n",
    "bday = np.random.choice(outcomes, size=(nsimulations, ncols), p=prob)\n",
    "bday[0:5]"
   ]
  },
  {
   "cell_type": "code",
   "execution_count": 155,
   "id": "ac99a786-1da3-4ce3-9e3b-d12e27ee785e",
   "metadata": {},
   "outputs": [
    {
     "data": {
      "text/plain": [
       "array([0, 0, 0, ..., 0, 0, 0])"
      ]
     },
     "execution_count": 155,
     "metadata": {},
     "output_type": "execute_result"
    }
   ],
   "source": [
    "sum_of_same = bday.sum(axis=1)\n",
    "sum_of_same"
   ]
  },
  {
   "cell_type": "code",
   "execution_count": 156,
   "id": "265aadeb-c85a-4221-80f1-0dc556613703",
   "metadata": {},
   "outputs": [
    {
     "data": {
      "text/plain": [
       "array([False, False, False, ..., False, False, False])"
      ]
     },
     "execution_count": 156,
     "metadata": {},
     "output_type": "execute_result"
    }
   ],
   "source": [
    "twenty_three_same = sum_of_same > 0\n",
    "twenty_three_same"
   ]
  },
  {
   "cell_type": "code",
   "execution_count": 157,
   "id": "daaee31e-5281-4e32-aa4a-6b001e58d200",
   "metadata": {},
   "outputs": [
    {
     "data": {
      "text/plain": [
       "0.061112"
      ]
     },
     "execution_count": 157,
     "metadata": {},
     "output_type": "execute_result"
    }
   ],
   "source": [
    "twenty_three_same.mean()"
   ]
  },
  {
   "cell_type": "code",
   "execution_count": 158,
   "id": "4b9479f7-e0a8-4743-b275-ea7e7dcf3eb9",
   "metadata": {},
   "outputs": [
    {
     "data": {
      "text/plain": [
       "0.053123"
      ]
     },
     "execution_count": 158,
     "metadata": {},
     "output_type": "execute_result"
    }
   ],
   "source": [
    "# repeat for 20\n",
    "\n",
    "outcomes = [1, 0] # 1 for same, 0 for diff\n",
    "prob = [1 - p_of_2_diff, p_of_2_diff]\n",
    "ncols = 20\n",
    "nrows = 1_000_000\n",
    "\n",
    "bday = np.random.choice(outcomes, size=(nsimulations, ncols), p=prob)\n",
    "\n",
    "sum_of_same = bday.sum(axis=1)\n",
    "\n",
    "twenty_same = sum_of_same > 0\n",
    "\n",
    "twenty_same.mean()"
   ]
  },
  {
   "cell_type": "code",
   "execution_count": 159,
   "id": "9d79ab52-683e-4b06-ba05-97588f5d15c1",
   "metadata": {},
   "outputs": [
    {
     "data": {
      "text/plain": [
       "0.103588"
      ]
     },
     "execution_count": 159,
     "metadata": {},
     "output_type": "execute_result"
    }
   ],
   "source": [
    "# repeat for 40\n",
    "\n",
    "outcomes = [1, 0] # 1 for same, 0 for diff\n",
    "prob = [1 - p_of_2_diff, p_of_2_diff]\n",
    "ncols = 40\n",
    "nrows = 1_000_000\n",
    "\n",
    "bday = np.random.choice(outcomes, size=(nsimulations, ncols), p=prob)\n",
    "\n",
    "sum_of_same = bday.sum(axis=1)\n",
    "\n",
    "forty_same = sum_of_same > 0\n",
    "\n",
    "forty_same.mean()"
   ]
  },
  {
   "cell_type": "code",
   "execution_count": 171,
   "id": "4d94cb0d-8a2a-4067-acca-0ed7b4ee395e",
   "metadata": {},
   "outputs": [],
   "source": [
    "# this is not even close to approximating the theoretical probability\n",
    "# the logic above that it is the same as taking 23 trials of 2 people is not correct, since as the number of people increases, so does the probability that 2 will have the same bday since the number of possible bdays is finite\n",
    "# the probability will change for each trial in the row, so I'm not sure how to use simulation to estimate this one\n",
    "# add another row or use a lambda function?"
   ]
  },
  {
   "cell_type": "code",
   "execution_count": null,
   "id": "a9ec416e-da07-43b3-b98e-3dd07bab5380",
   "metadata": {},
   "outputs": [],
   "source": []
  },
  {
   "cell_type": "code",
   "execution_count": 169,
   "id": "b10d4254-a27a-437b-b9c1-368799d17090",
   "metadata": {},
   "outputs": [],
   "source": [
    "# function to find theoretical solution\n",
    "\n",
    "def samebday(people):\n",
    "    days = 365\n",
    "    prob = 1\n",
    "    for f in range(people): \n",
    "        prob *= (days-f) / days\n",
    "    return 1 - prob"
   ]
  },
  {
   "cell_type": "code",
   "execution_count": 174,
   "id": "850d071f-157b-4747-b480-c98bd53f0a61",
   "metadata": {},
   "outputs": [
    {
     "data": {
      "text/plain": [
       "0.891231809817949"
      ]
     },
     "execution_count": 174,
     "metadata": {},
     "output_type": "execute_result"
    }
   ],
   "source": [
    "samebday(40)"
   ]
  },
  {
   "cell_type": "code",
   "execution_count": null,
   "id": "406e17d3-b219-42ea-ae5c-14374fbff010",
   "metadata": {},
   "outputs": [],
   "source": []
  }
 ],
 "metadata": {
  "kernelspec": {
   "display_name": "Python 3",
   "language": "python",
   "name": "python3"
  },
  "language_info": {
   "codemirror_mode": {
    "name": "ipython",
    "version": 3
   },
   "file_extension": ".py",
   "mimetype": "text/x-python",
   "name": "python",
   "nbconvert_exporter": "python",
   "pygments_lexer": "ipython3",
   "version": "3.8.8"
  }
 },
 "nbformat": 4,
 "nbformat_minor": 5
}
